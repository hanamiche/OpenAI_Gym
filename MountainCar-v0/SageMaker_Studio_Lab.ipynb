{
 "cells": [
  {
   "cell_type": "markdown",
   "metadata": {
    "id": "3sEIeobQzcth"
   },
   "source": [
    "# OpenAI Gymを用いた強化学習 for SageMaker Studio Lab"
   ]
  },
  {
   "cell_type": "markdown",
   "metadata": {
    "id": "J-PC3hK5Xhc0"
   },
   "source": [
    "# 前準備"
   ]
  },
  {
   "cell_type": "markdown",
   "metadata": {
    "id": "6QeHC_IZYcwx"
   },
   "source": [
    "### モジュールインストール\n",
    "Open AI Gymとkeras-rl2をインストールします。"
   ]
  },
  {
   "cell_type": "code",
   "execution_count": 1,
   "metadata": {},
   "outputs": [
    {
     "name": "stdout",
     "output_type": "stream",
     "text": [
      "Requirement already satisfied: gym in ./.conda/envs/default/lib/python3.9/site-packages (0.21.0)\n",
      "Requirement already satisfied: numpy>=1.18.0 in ./.conda/envs/default/lib/python3.9/site-packages (from gym) (1.21.4)\n",
      "Requirement already satisfied: cloudpickle>=1.2.0 in ./.conda/envs/default/lib/python3.9/site-packages (from gym) (2.0.0)\n",
      "Note: you may need to restart the kernel to use updated packages.\n",
      "Requirement already satisfied: keras-rl2 in ./.conda/envs/default/lib/python3.9/site-packages (1.0.5)\n",
      "Requirement already satisfied: tensorflow in ./.conda/envs/default/lib/python3.9/site-packages (from keras-rl2) (2.7.0)\n",
      "Requirement already satisfied: wheel<1.0,>=0.32.0 in ./.conda/envs/default/lib/python3.9/site-packages (from tensorflow->keras-rl2) (0.37.0)\n",
      "Requirement already satisfied: libclang>=9.0.1 in ./.conda/envs/default/lib/python3.9/site-packages (from tensorflow->keras-rl2) (12.0.0)\n",
      "Requirement already satisfied: gast<0.5.0,>=0.2.1 in ./.conda/envs/default/lib/python3.9/site-packages (from tensorflow->keras-rl2) (0.4.0)\n",
      "Requirement already satisfied: protobuf>=3.9.2 in ./.conda/envs/default/lib/python3.9/site-packages (from tensorflow->keras-rl2) (3.19.1)\n",
      "Requirement already satisfied: keras<2.8,>=2.7.0rc0 in ./.conda/envs/default/lib/python3.9/site-packages (from tensorflow->keras-rl2) (2.7.0)\n",
      "Requirement already satisfied: typing-extensions>=3.6.6 in ./.conda/envs/default/lib/python3.9/site-packages (from tensorflow->keras-rl2) (4.0.1)\n",
      "Requirement already satisfied: h5py>=2.9.0 in ./.conda/envs/default/lib/python3.9/site-packages (from tensorflow->keras-rl2) (3.6.0)\n",
      "Requirement already satisfied: termcolor>=1.1.0 in ./.conda/envs/default/lib/python3.9/site-packages (from tensorflow->keras-rl2) (1.1.0)\n",
      "Requirement already satisfied: absl-py>=0.4.0 in ./.conda/envs/default/lib/python3.9/site-packages (from tensorflow->keras-rl2) (1.0.0)\n",
      "Requirement already satisfied: opt-einsum>=2.3.2 in ./.conda/envs/default/lib/python3.9/site-packages (from tensorflow->keras-rl2) (3.3.0)\n",
      "Requirement already satisfied: keras-preprocessing>=1.1.1 in ./.conda/envs/default/lib/python3.9/site-packages (from tensorflow->keras-rl2) (1.1.2)\n",
      "Requirement already satisfied: grpcio<2.0,>=1.24.3 in ./.conda/envs/default/lib/python3.9/site-packages (from tensorflow->keras-rl2) (1.42.0)\n",
      "Requirement already satisfied: flatbuffers<3.0,>=1.12 in ./.conda/envs/default/lib/python3.9/site-packages (from tensorflow->keras-rl2) (2.0)\n",
      "Requirement already satisfied: tensorboard~=2.6 in ./.conda/envs/default/lib/python3.9/site-packages (from tensorflow->keras-rl2) (2.7.0)\n",
      "Requirement already satisfied: wrapt>=1.11.0 in ./.conda/envs/default/lib/python3.9/site-packages (from tensorflow->keras-rl2) (1.13.3)\n",
      "Requirement already satisfied: numpy>=1.14.5 in ./.conda/envs/default/lib/python3.9/site-packages (from tensorflow->keras-rl2) (1.21.4)\n",
      "Requirement already satisfied: google-pasta>=0.1.1 in ./.conda/envs/default/lib/python3.9/site-packages (from tensorflow->keras-rl2) (0.2.0)\n",
      "Requirement already satisfied: astunparse>=1.6.0 in ./.conda/envs/default/lib/python3.9/site-packages (from tensorflow->keras-rl2) (1.6.3)\n",
      "Requirement already satisfied: six>=1.12.0 in ./.conda/envs/default/lib/python3.9/site-packages (from tensorflow->keras-rl2) (1.16.0)\n",
      "Requirement already satisfied: tensorflow-io-gcs-filesystem>=0.21.0 in ./.conda/envs/default/lib/python3.9/site-packages (from tensorflow->keras-rl2) (0.22.0)\n",
      "Requirement already satisfied: tensorflow-estimator<2.8,~=2.7.0rc0 in ./.conda/envs/default/lib/python3.9/site-packages (from tensorflow->keras-rl2) (2.7.0)\n",
      "Requirement already satisfied: markdown>=2.6.8 in ./.conda/envs/default/lib/python3.9/site-packages (from tensorboard~=2.6->tensorflow->keras-rl2) (3.3.6)\n",
      "Requirement already satisfied: google-auth-oauthlib<0.5,>=0.4.1 in ./.conda/envs/default/lib/python3.9/site-packages (from tensorboard~=2.6->tensorflow->keras-rl2) (0.4.6)\n",
      "Requirement already satisfied: requests<3,>=2.21.0 in ./.conda/envs/default/lib/python3.9/site-packages (from tensorboard~=2.6->tensorflow->keras-rl2) (2.26.0)\n",
      "Requirement already satisfied: werkzeug>=0.11.15 in ./.conda/envs/default/lib/python3.9/site-packages (from tensorboard~=2.6->tensorflow->keras-rl2) (2.0.2)\n",
      "Requirement already satisfied: setuptools>=41.0.0 in ./.conda/envs/default/lib/python3.9/site-packages (from tensorboard~=2.6->tensorflow->keras-rl2) (59.2.0)\n",
      "Requirement already satisfied: tensorboard-plugin-wit>=1.6.0 in ./.conda/envs/default/lib/python3.9/site-packages (from tensorboard~=2.6->tensorflow->keras-rl2) (1.8.0)\n",
      "Requirement already satisfied: google-auth<3,>=1.6.3 in ./.conda/envs/default/lib/python3.9/site-packages (from tensorboard~=2.6->tensorflow->keras-rl2) (2.3.3)\n",
      "Requirement already satisfied: tensorboard-data-server<0.7.0,>=0.6.0 in ./.conda/envs/default/lib/python3.9/site-packages (from tensorboard~=2.6->tensorflow->keras-rl2) (0.6.1)\n",
      "Requirement already satisfied: pyasn1-modules>=0.2.1 in ./.conda/envs/default/lib/python3.9/site-packages (from google-auth<3,>=1.6.3->tensorboard~=2.6->tensorflow->keras-rl2) (0.2.8)\n",
      "Requirement already satisfied: cachetools<5.0,>=2.0.0 in ./.conda/envs/default/lib/python3.9/site-packages (from google-auth<3,>=1.6.3->tensorboard~=2.6->tensorflow->keras-rl2) (4.2.4)\n",
      "Requirement already satisfied: rsa<5,>=3.1.4 in ./.conda/envs/default/lib/python3.9/site-packages (from google-auth<3,>=1.6.3->tensorboard~=2.6->tensorflow->keras-rl2) (4.8)\n",
      "Requirement already satisfied: requests-oauthlib>=0.7.0 in ./.conda/envs/default/lib/python3.9/site-packages (from google-auth-oauthlib<0.5,>=0.4.1->tensorboard~=2.6->tensorflow->keras-rl2) (1.3.0)\n",
      "Requirement already satisfied: importlib-metadata>=4.4 in ./.conda/envs/default/lib/python3.9/site-packages (from markdown>=2.6.8->tensorboard~=2.6->tensorflow->keras-rl2) (4.8.2)\n",
      "Requirement already satisfied: zipp>=0.5 in ./.conda/envs/default/lib/python3.9/site-packages (from importlib-metadata>=4.4->markdown>=2.6.8->tensorboard~=2.6->tensorflow->keras-rl2) (3.6.0)\n",
      "Requirement already satisfied: pyasn1<0.5.0,>=0.4.6 in ./.conda/envs/default/lib/python3.9/site-packages (from pyasn1-modules>=0.2.1->google-auth<3,>=1.6.3->tensorboard~=2.6->tensorflow->keras-rl2) (0.4.8)\n",
      "Requirement already satisfied: urllib3<1.27,>=1.21.1 in ./.conda/envs/default/lib/python3.9/site-packages (from requests<3,>=2.21.0->tensorboard~=2.6->tensorflow->keras-rl2) (1.26.7)\n",
      "Requirement already satisfied: certifi>=2017.4.17 in ./.conda/envs/default/lib/python3.9/site-packages (from requests<3,>=2.21.0->tensorboard~=2.6->tensorflow->keras-rl2) (2021.10.8)\n",
      "Requirement already satisfied: idna<4,>=2.5 in ./.conda/envs/default/lib/python3.9/site-packages (from requests<3,>=2.21.0->tensorboard~=2.6->tensorflow->keras-rl2) (3.3)\n",
      "Requirement already satisfied: charset-normalizer~=2.0.0 in ./.conda/envs/default/lib/python3.9/site-packages (from requests<3,>=2.21.0->tensorboard~=2.6->tensorflow->keras-rl2) (2.0.8)\n",
      "Requirement already satisfied: oauthlib>=3.0.0 in ./.conda/envs/default/lib/python3.9/site-packages (from requests-oauthlib>=0.7.0->google-auth-oauthlib<0.5,>=0.4.1->tensorboard~=2.6->tensorflow->keras-rl2) (3.1.1)\n",
      "Note: you may need to restart the kernel to use updated packages.\n"
     ]
    }
   ],
   "source": [
    "%pip install gym\n",
    "%pip install keras-rl2"
   ]
  },
  {
   "cell_type": "markdown",
   "metadata": {
    "id": "FTz64BfhaDa1"
   },
   "source": [
    "# 学習開始!"
   ]
  },
  {
   "cell_type": "markdown",
   "metadata": {
    "id": "GD4yZdrGaKZm"
   },
   "source": [
    "## 必要なモジュールをimport"
   ]
  },
  {
   "cell_type": "code",
   "execution_count": 2,
   "metadata": {
    "executionInfo": {
     "elapsed": 2410,
     "status": "ok",
     "timestamp": 1638275724113,
     "user": {
      "displayName": "hanamiche",
      "photoUrl": "",
      "userId": ""
     },
     "user_tz": -540
    },
    "id": "u4Z--27r2vpt"
   },
   "outputs": [],
   "source": [
    "import gym\n",
    "from gym import wrappers\n",
    "from numpy.lib.function_base import average\n",
    "from tensorflow.keras.models import Sequential,load_model\n",
    "from tensorflow.keras.layers import Dense, Activation, Flatten\n",
    "from tensorflow.keras.optimizers import Adam\n",
    "from rl.agents.dqn import DQNAgent\n",
    "from rl.policy import BoltzmannQPolicy, EpsGreedyQPolicy\n",
    "from rl.memory import SequentialMemory"
   ]
  },
  {
   "cell_type": "code",
   "execution_count": 3,
   "metadata": {},
   "outputs": [
    {
     "data": {
      "text/plain": [
       "'2.7.0'"
      ]
     },
     "execution_count": 3,
     "metadata": {},
     "output_type": "execute_result"
    }
   ],
   "source": [
    "import tensorflow as tf\n",
    "tf.__version__"
   ]
  },
  {
   "cell_type": "markdown",
   "metadata": {
    "id": "Tf2WOXc4aSLc"
   },
   "source": [
    "## 学習時のコールバック関数\n",
    "* 学習結果をplotするために、各ステップの情報を記憶するCallbackを実装します。\n",
    "* 学習そのものには必要ありません。今回はエピソードごとの報酬をグラフにしています。"
   ]
  },
  {
   "cell_type": "code",
   "execution_count": 4,
   "metadata": {
    "executionInfo": {
     "elapsed": 6,
     "status": "ok",
     "timestamp": 1638275724113,
     "user": {
      "displayName": "hanamiche",
      "photoUrl": "",
      "userId": ""
     },
     "user_tz": -540
    },
    "id": "QKaIsVKo25a_"
   },
   "outputs": [],
   "source": [
    "import rl.callbacks\n",
    "class EpisodeLogger(rl.callbacks.Callback):\n",
    "    def __init__(self):\n",
    "        self.rewards = {}\n",
    "\n",
    "    def on_episode_begin(self, episode, logs):\n",
    "        self.rewards[episode] = 0.0\n",
    " \n",
    "    def on_step_end(self, step, logs):\n",
    "        episode = logs['episode']\n",
    "        self.rewards[episode] = self.rewards[episode] + logs['reward']\n",
    "cb_ep = EpisodeLogger()"
   ]
  },
  {
   "cell_type": "markdown",
   "metadata": {
    "id": "0mc5jXhPcDjc"
   },
   "source": [
    "## パラメーター"
   ]
  },
  {
   "cell_type": "code",
   "execution_count": 5,
   "metadata": {
    "executionInfo": {
     "elapsed": 7,
     "status": "ok",
     "timestamp": 1638275724114,
     "user": {
      "displayName": "hanamiche",
      "photoUrl": "",
      "userId": ""
     },
     "user_tz": -540
    },
    "id": "ftayEIzuCCWD"
   },
   "outputs": [],
   "source": [
    "limit_steps =  100000\n",
    "nb_episodes = 5\n",
    "env_name = 'MountainCar-v0'\n",
    "notebook_root = \"/home/studio-lab-user\"\n",
    "\n",
    "#ファイルやモデルの保存場所\n",
    "title_name = f\"{notebook_root}/{env_name}_{str(limit_steps)}\"\n",
    "model_path = f\"{notebook_root}/{env_name}/model/\""
   ]
  },
  {
   "cell_type": "code",
   "execution_count": 6,
   "metadata": {
    "executionInfo": {
     "elapsed": 370,
     "status": "ok",
     "timestamp": 1638275798688,
     "user": {
      "displayName": "hanamiche",
      "photoUrl": "",
      "userId": ""
     },
     "user_tz": -540
    },
    "id": "mM_XZz0Kuh0a"
   },
   "outputs": [],
   "source": [
    "import os\n",
    "os.makedirs(model_path,exist_ok=True)"
   ]
  },
  {
   "cell_type": "markdown",
   "metadata": {
    "id": "YFNLl7xIkFZ4"
   },
   "source": [
    "## 環境の作成"
   ]
  },
  {
   "cell_type": "code",
   "execution_count": 7,
   "metadata": {
    "executionInfo": {
     "elapsed": 1095,
     "status": "ok",
     "timestamp": 1638275817757,
     "user": {
      "displayName": "hanamiche",
      "photoUrl": "",
      "userId": ""
     },
     "user_tz": -540
    },
    "id": "RmEn2suGkGAQ"
   },
   "outputs": [],
   "source": [
    "env = gym.make(env_name)\n",
    "nb_actions = env.action_space.n #有効なaction数"
   ]
  },
  {
   "cell_type": "markdown",
   "metadata": {
    "id": "MXU38qgicPzZ"
   },
   "source": [
    "## モデルの定義\n",
    "* OpenAI Gymのサンプルにある簡単なニューラルネットワークを作りました。\n",
    "\n",
    "### IN\n",
    "車の速度、車の場所\n",
    "\n",
    "### OUT\n",
    "車のアクション\n",
    "左、何もしない、右"
   ]
  },
  {
   "cell_type": "code",
   "execution_count": 8,
   "metadata": {
    "colab": {
     "base_uri": "https://localhost:8080/"
    },
    "executionInfo": {
     "elapsed": 380,
     "status": "ok",
     "timestamp": 1638275821440,
     "user": {
      "displayName": "hanamiche",
      "photoUrl": "",
      "userId": ""
     },
     "user_tz": -540
    },
    "id": "f-19hrt23PAD",
    "outputId": "db48d710-a809-4691-e250-7f52ebd0d4f1"
   },
   "outputs": [
    {
     "name": "stdout",
     "output_type": "stream",
     "text": [
      "Model: \"sequential\"\n",
      "_________________________________________________________________\n",
      " Layer (type)                Output Shape              Param #   \n",
      "=================================================================\n",
      " flatten (Flatten)           (None, 2)                 0         \n",
      "                                                                 \n",
      " dense (Dense)               (None, 16)                48        \n",
      "                                                                 \n",
      " activation (Activation)     (None, 16)                0         \n",
      "                                                                 \n",
      " dense_1 (Dense)             (None, 16)                272       \n",
      "                                                                 \n",
      " activation_1 (Activation)   (None, 16)                0         \n",
      "                                                                 \n",
      " dense_2 (Dense)             (None, 16)                272       \n",
      "                                                                 \n",
      " activation_2 (Activation)   (None, 16)                0         \n",
      "                                                                 \n",
      " dense_3 (Dense)             (None, 3)                 51        \n",
      "                                                                 \n",
      " activation_3 (Activation)   (None, 3)                 0         \n",
      "                                                                 \n",
      "=================================================================\n",
      "Total params: 643\n",
      "Trainable params: 643\n",
      "Non-trainable params: 0\n",
      "_________________________________________________________________\n"
     ]
    }
   ],
   "source": [
    "# モデルの定義\n",
    "model = Sequential()\n",
    "model.add(Flatten(input_shape=(1,) + env.observation_space.shape))\n",
    "model.add(Dense(16))\n",
    "model.add(Activation('relu'))\n",
    "model.add(Dense(16))\n",
    "model.add(Activation('relu'))\n",
    "model.add(Dense(16))\n",
    "model.add(Activation('relu'))\n",
    "model.add(Dense(nb_actions))\n",
    "model.add(Activation('linear'))\n",
    "\n",
    "model.summary()"
   ]
  },
  {
   "cell_type": "markdown",
   "metadata": {
    "id": "czfTvmPacgVi"
   },
   "source": [
    "## 学習環境の作成\n",
    "* ポリシーの指定\n",
    " * epsilon-greedy を指定。\n",
    " * Keras-RLには他にもポリシーがあります。\n",
    "   * LinearAnnealedPolicy, SoftmaxPolicy, EpsGreedyQPolicy, GreedyQPolicy, BoltzmannQPolicy, MaxBoltzmannQPolicy, BoltzmannGumbelQPolicy\n",
    "* 学習の設定\n",
    " * DQN(Deep Q-Network)を採用、オプションでDDQNなども利用可能。\n",
    "  Experience Replay用のメモリ\n",
    " * DNNの学習を安定させるために用いられる仕組み。\n",
    " * DNNは時系列に相関があるデータをその順番のまま使うとうまく学習できないらしく、後でランダムにデータを読み込んで学習を行う方法。"
   ]
  },
  {
   "cell_type": "code",
   "execution_count": 9,
   "metadata": {
    "executionInfo": {
     "elapsed": 3756,
     "status": "ok",
     "timestamp": 1638275833665,
     "user": {
      "displayName": "hanamiche",
      "photoUrl": "",
      "userId": ""
     },
     "user_tz": -540
    },
    "id": "U4RgHmrC3VJ3"
   },
   "outputs": [],
   "source": [
    "# Experience Replay用のメモリ設定\n",
    "memory = SequentialMemory(limit=limit_steps, window_length=1)\n",
    "\n",
    "#ポリシーの作成\n",
    "policy = EpsGreedyQPolicy()\n",
    "\n",
    "# DQN Agentの作成\n",
    "dqn = DQNAgent(model=model,\n",
    "               nb_actions=nb_actions,\n",
    "               memory=memory, \n",
    "               nb_steps_warmup=10,\n",
    "               target_model_update=1e-2,\n",
    "               policy=policy)\n",
    "\n",
    "dqn.compile(Adam(learning_rate=1e-3), metrics=['mae'])"
   ]
  },
  {
   "cell_type": "markdown",
   "metadata": {
    "id": "E2JlhUK_d3Lr"
   },
   "source": [
    "## 学習開始!\n",
    "ちなみに、visualize=False にしないとエラーになります。描画対象の画面がないからです。"
   ]
  },
  {
   "cell_type": "code",
   "execution_count": 10,
   "metadata": {
    "colab": {
     "base_uri": "https://localhost:8080/"
    },
    "executionInfo": {
     "elapsed": 571093,
     "status": "ok",
     "timestamp": 1638276410074,
     "user": {
      "displayName": "hanamiche",
      "photoUrl": "",
      "userId": ""
     },
     "user_tz": -540
    },
    "id": "bs1wFFT43diT",
    "outputId": "653f6ad9-bd59-499b-ab21-d71bfb3e15a4"
   },
   "outputs": [
    {
     "name": "stdout",
     "output_type": "stream",
     "text": [
      "Training for 100000 steps ...\n"
     ]
    },
    {
     "name": "stderr",
     "output_type": "stream",
     "text": [
      "/home/studio-lab-user/.conda/envs/default/lib/python3.9/site-packages/keras/engine/training_v1.py:2079: UserWarning: `Model.state_updates` will be removed in a future version. This property should not be used in TensorFlow 2.0, as `updates` are applied automatically.\n",
      "  updates=self.state_updates,\n",
      "/home/studio-lab-user/.conda/envs/default/lib/python3.9/site-packages/rl/memory.py:37: UserWarning: Not enough entries to sample without replacement. Consider increasing your warm-up phase to avoid oversampling!\n",
      "  warnings.warn('Not enough entries to sample without replacement. Consider increasing your warm-up phase to avoid oversampling!')\n"
     ]
    },
    {
     "name": "stdout",
     "output_type": "stream",
     "text": [
      "   200/100000: episode: 1, duration: 2.169s, episode steps: 200, steps per second:  92, episode reward: -200.000, mean reward: -1.000 [-1.000, -1.000], mean action: 0.840 [0.000, 2.000],  loss: 0.162966, mae: 0.666508, mean_q: -0.719507\n",
      "   400/100000: episode: 2, duration: 1.222s, episode steps: 200, steps per second: 164, episode reward: -200.000, mean reward: -1.000 [-1.000, -1.000], mean action: 0.460 [0.000, 2.000],  loss: 0.009605, mae: 1.626555, mean_q: -2.347207\n",
      "   600/100000: episode: 3, duration: 1.224s, episode steps: 200, steps per second: 163, episode reward: -200.000, mean reward: -1.000 [-1.000, -1.000], mean action: 0.880 [0.000, 2.000],  loss: 0.017039, mae: 2.692006, mean_q: -3.967719\n",
      "   800/100000: episode: 4, duration: 1.223s, episode steps: 200, steps per second: 164, episode reward: -200.000, mean reward: -1.000 [-1.000, -1.000], mean action: 0.900 [0.000, 2.000],  loss: 0.022624, mae: 3.778141, mean_q: -5.605612\n",
      "  1000/100000: episode: 5, duration: 1.221s, episode steps: 200, steps per second: 164, episode reward: -200.000, mean reward: -1.000 [-1.000, -1.000], mean action: 1.200 [0.000, 2.000],  loss: 0.117641, mae: 4.903072, mean_q: -7.245060\n",
      "  1200/100000: episode: 6, duration: 1.221s, episode steps: 200, steps per second: 164, episode reward: -200.000, mean reward: -1.000 [-1.000, -1.000], mean action: 0.955 [0.000, 2.000],  loss: 0.169700, mae: 5.949450, mean_q: -8.776684\n",
      "  1400/100000: episode: 7, duration: 1.223s, episode steps: 200, steps per second: 164, episode reward: -200.000, mean reward: -1.000 [-1.000, -1.000], mean action: 1.090 [0.000, 2.000],  loss: 0.196710, mae: 6.960800, mean_q: -10.308999\n",
      "  1600/100000: episode: 8, duration: 1.222s, episode steps: 200, steps per second: 164, episode reward: -200.000, mean reward: -1.000 [-1.000, -1.000], mean action: 1.125 [0.000, 2.000],  loss: 0.238739, mae: 7.999002, mean_q: -11.861279\n",
      "  1800/100000: episode: 9, duration: 1.224s, episode steps: 200, steps per second: 163, episode reward: -200.000, mean reward: -1.000 [-1.000, -1.000], mean action: 1.085 [0.000, 2.000],  loss: 0.311301, mae: 9.037499, mean_q: -13.409414\n",
      "  2000/100000: episode: 10, duration: 1.223s, episode steps: 200, steps per second: 164, episode reward: -200.000, mean reward: -1.000 [-1.000, -1.000], mean action: 1.030 [0.000, 2.000],  loss: 0.329381, mae: 10.062026, mean_q: -14.943298\n",
      "  2200/100000: episode: 11, duration: 1.225s, episode steps: 200, steps per second: 163, episode reward: -200.000, mean reward: -1.000 [-1.000, -1.000], mean action: 0.655 [0.000, 2.000],  loss: 0.741402, mae: 11.024602, mean_q: -16.306158\n",
      "  2400/100000: episode: 12, duration: 1.222s, episode steps: 200, steps per second: 164, episode reward: -200.000, mean reward: -1.000 [-1.000, -1.000], mean action: 0.985 [0.000, 2.000],  loss: 0.632021, mae: 11.945244, mean_q: -17.702234\n",
      "  2600/100000: episode: 13, duration: 1.224s, episode steps: 200, steps per second: 163, episode reward: -200.000, mean reward: -1.000 [-1.000, -1.000], mean action: 0.910 [0.000, 2.000],  loss: 0.799332, mae: 12.901860, mean_q: -19.097490\n",
      "  2800/100000: episode: 14, duration: 1.228s, episode steps: 200, steps per second: 163, episode reward: -200.000, mean reward: -1.000 [-1.000, -1.000], mean action: 0.825 [0.000, 2.000],  loss: 1.008354, mae: 13.762931, mean_q: -20.380196\n",
      "  3000/100000: episode: 15, duration: 1.223s, episode steps: 200, steps per second: 164, episode reward: -200.000, mean reward: -1.000 [-1.000, -1.000], mean action: 0.975 [0.000, 2.000],  loss: 1.424701, mae: 14.596133, mean_q: -21.610466\n",
      "  3200/100000: episode: 16, duration: 1.225s, episode steps: 200, steps per second: 163, episode reward: -200.000, mean reward: -1.000 [-1.000, -1.000], mean action: 0.750 [0.000, 2.000],  loss: 1.003906, mae: 15.343152, mean_q: -22.761154\n",
      "  3400/100000: episode: 17, duration: 1.225s, episode steps: 200, steps per second: 163, episode reward: -200.000, mean reward: -1.000 [-1.000, -1.000], mean action: 1.365 [0.000, 2.000],  loss: 1.236607, mae: 16.074377, mean_q: -23.859549\n",
      "  3600/100000: episode: 18, duration: 1.234s, episode steps: 200, steps per second: 162, episode reward: -200.000, mean reward: -1.000 [-1.000, -1.000], mean action: 1.150 [0.000, 2.000],  loss: 1.572499, mae: 16.785341, mean_q: -24.909609\n",
      "  3800/100000: episode: 19, duration: 1.228s, episode steps: 200, steps per second: 163, episode reward: -200.000, mean reward: -1.000 [-1.000, -1.000], mean action: 1.190 [0.000, 2.000],  loss: 1.440618, mae: 17.483440, mean_q: -25.959326\n",
      "  4000/100000: episode: 20, duration: 1.226s, episode steps: 200, steps per second: 163, episode reward: -200.000, mean reward: -1.000 [-1.000, -1.000], mean action: 1.350 [0.000, 2.000],  loss: 1.503934, mae: 18.254000, mean_q: -27.103958\n",
      "  4200/100000: episode: 21, duration: 1.228s, episode steps: 200, steps per second: 163, episode reward: -200.000, mean reward: -1.000 [-1.000, -1.000], mean action: 1.320 [0.000, 2.000],  loss: 1.780636, mae: 18.938175, mean_q: -28.113148\n",
      "  4400/100000: episode: 22, duration: 1.228s, episode steps: 200, steps per second: 163, episode reward: -200.000, mean reward: -1.000 [-1.000, -1.000], mean action: 1.080 [0.000, 2.000],  loss: 1.519228, mae: 19.590488, mean_q: -29.090933\n",
      "  4600/100000: episode: 23, duration: 1.300s, episode steps: 200, steps per second: 154, episode reward: -200.000, mean reward: -1.000 [-1.000, -1.000], mean action: 1.190 [0.000, 2.000],  loss: 1.891990, mae: 20.271421, mean_q: -30.069130\n",
      "  4800/100000: episode: 24, duration: 1.232s, episode steps: 200, steps per second: 162, episode reward: -200.000, mean reward: -1.000 [-1.000, -1.000], mean action: 1.365 [0.000, 2.000],  loss: 1.849212, mae: 20.931692, mean_q: -31.123545\n",
      "  4990/100000: episode: 25, duration: 1.167s, episode steps: 190, steps per second: 163, episode reward: -190.000, mean reward: -1.000 [-1.000, -1.000], mean action: 1.111 [0.000, 2.000],  loss: 2.682493, mae: 21.576130, mean_q: -31.987906\n",
      "  5190/100000: episode: 26, duration: 1.236s, episode steps: 200, steps per second: 162, episode reward: -200.000, mean reward: -1.000 [-1.000, -1.000], mean action: 0.670 [0.000, 2.000],  loss: 2.215637, mae: 22.160233, mean_q: -32.938061\n",
      "  5390/100000: episode: 27, duration: 1.231s, episode steps: 200, steps per second: 163, episode reward: -200.000, mean reward: -1.000 [-1.000, -1.000], mean action: 1.180 [0.000, 2.000],  loss: 2.479254, mae: 22.758987, mean_q: -33.789139\n",
      "  5590/100000: episode: 28, duration: 1.240s, episode steps: 200, steps per second: 161, episode reward: -200.000, mean reward: -1.000 [-1.000, -1.000], mean action: 1.105 [0.000, 2.000],  loss: 4.083624, mae: 23.302149, mean_q: -34.522598\n",
      "  5790/100000: episode: 29, duration: 1.233s, episode steps: 200, steps per second: 162, episode reward: -200.000, mean reward: -1.000 [-1.000, -1.000], mean action: 1.065 [0.000, 2.000],  loss: 2.726852, mae: 23.742275, mean_q: -35.262466\n",
      "  5990/100000: episode: 30, duration: 1.231s, episode steps: 200, steps per second: 163, episode reward: -200.000, mean reward: -1.000 [-1.000, -1.000], mean action: 0.915 [0.000, 2.000],  loss: 2.597955, mae: 24.297396, mean_q: -36.098152\n",
      "  6190/100000: episode: 31, duration: 1.231s, episode steps: 200, steps per second: 163, episode reward: -200.000, mean reward: -1.000 [-1.000, -1.000], mean action: 1.435 [0.000, 2.000],  loss: 2.862067, mae: 24.791044, mean_q: -36.820679\n",
      "  6390/100000: episode: 32, duration: 1.232s, episode steps: 200, steps per second: 162, episode reward: -200.000, mean reward: -1.000 [-1.000, -1.000], mean action: 0.885 [0.000, 2.000],  loss: 3.902829, mae: 25.273750, mean_q: -37.361519\n",
      "  6590/100000: episode: 33, duration: 1.266s, episode steps: 200, steps per second: 158, episode reward: -200.000, mean reward: -1.000 [-1.000, -1.000], mean action: 1.395 [0.000, 2.000],  loss: 3.040568, mae: 25.712385, mean_q: -38.152237\n",
      "  6790/100000: episode: 34, duration: 1.336s, episode steps: 200, steps per second: 150, episode reward: -200.000, mean reward: -1.000 [-1.000, -1.000], mean action: 1.020 [0.000, 2.000],  loss: 3.638868, mae: 26.216162, mean_q: -38.905724\n",
      "  6990/100000: episode: 35, duration: 1.232s, episode steps: 200, steps per second: 162, episode reward: -200.000, mean reward: -1.000 [-1.000, -1.000], mean action: 0.485 [0.000, 2.000],  loss: 4.047957, mae: 26.648418, mean_q: -39.566002\n",
      "  7190/100000: episode: 36, duration: 1.231s, episode steps: 200, steps per second: 162, episode reward: -200.000, mean reward: -1.000 [-1.000, -1.000], mean action: 1.700 [0.000, 2.000],  loss: 3.443697, mae: 27.052963, mean_q: -40.161774\n",
      "  7390/100000: episode: 37, duration: 1.245s, episode steps: 200, steps per second: 161, episode reward: -200.000, mean reward: -1.000 [-1.000, -1.000], mean action: 0.815 [0.000, 2.000],  loss: 2.363947, mae: 27.532232, mean_q: -41.048954\n",
      "  7590/100000: episode: 38, duration: 1.232s, episode steps: 200, steps per second: 162, episode reward: -200.000, mean reward: -1.000 [-1.000, -1.000], mean action: 1.215 [0.000, 2.000],  loss: 3.577975, mae: 28.098867, mean_q: -41.771740\n",
      "  7790/100000: episode: 39, duration: 1.240s, episode steps: 200, steps per second: 161, episode reward: -200.000, mean reward: -1.000 [-1.000, -1.000], mean action: 1.165 [0.000, 2.000],  loss: 5.278991, mae: 28.471930, mean_q: -42.145531\n",
      "  7990/100000: episode: 40, duration: 1.235s, episode steps: 200, steps per second: 162, episode reward: -200.000, mean reward: -1.000 [-1.000, -1.000], mean action: 1.110 [0.000, 2.000],  loss: 5.278928, mae: 28.837439, mean_q: -42.778126\n",
      "  8190/100000: episode: 41, duration: 1.235s, episode steps: 200, steps per second: 162, episode reward: -200.000, mean reward: -1.000 [-1.000, -1.000], mean action: 1.190 [0.000, 2.000],  loss: 4.032475, mae: 29.158167, mean_q: -43.357227\n",
      "  8390/100000: episode: 42, duration: 1.236s, episode steps: 200, steps per second: 162, episode reward: -200.000, mean reward: -1.000 [-1.000, -1.000], mean action: 1.335 [0.000, 2.000],  loss: 3.640812, mae: 29.597569, mean_q: -44.012508\n",
      "  8590/100000: episode: 43, duration: 1.235s, episode steps: 200, steps per second: 162, episode reward: -200.000, mean reward: -1.000 [-1.000, -1.000], mean action: 1.170 [0.000, 2.000],  loss: 5.643725, mae: 29.800894, mean_q: -44.146133\n",
      "  8790/100000: episode: 44, duration: 1.239s, episode steps: 200, steps per second: 161, episode reward: -200.000, mean reward: -1.000 [-1.000, -1.000], mean action: 0.595 [0.000, 2.000],  loss: 4.264855, mae: 30.155851, mean_q: -44.802319\n",
      "  8990/100000: episode: 45, duration: 1.236s, episode steps: 200, steps per second: 162, episode reward: -200.000, mean reward: -1.000 [-1.000, -1.000], mean action: 1.255 [0.000, 2.000],  loss: 4.930588, mae: 30.478704, mean_q: -45.308594\n",
      "  9190/100000: episode: 46, duration: 1.239s, episode steps: 200, steps per second: 161, episode reward: -200.000, mean reward: -1.000 [-1.000, -1.000], mean action: 1.040 [0.000, 2.000],  loss: 4.615993, mae: 30.891966, mean_q: -45.856495\n",
      "  9390/100000: episode: 47, duration: 1.243s, episode steps: 200, steps per second: 161, episode reward: -200.000, mean reward: -1.000 [-1.000, -1.000], mean action: 1.460 [0.000, 2.000],  loss: 4.064827, mae: 31.217697, mean_q: -46.392628\n",
      "  9590/100000: episode: 48, duration: 1.233s, episode steps: 200, steps per second: 162, episode reward: -200.000, mean reward: -1.000 [-1.000, -1.000], mean action: 0.965 [0.000, 2.000],  loss: 5.951303, mae: 31.561264, mean_q: -46.865379\n",
      "  9790/100000: episode: 49, duration: 1.239s, episode steps: 200, steps per second: 161, episode reward: -200.000, mean reward: -1.000 [-1.000, -1.000], mean action: 1.105 [0.000, 2.000],  loss: 4.479989, mae: 31.836939, mean_q: -47.334053\n",
      "  9990/100000: episode: 50, duration: 1.244s, episode steps: 200, steps per second: 161, episode reward: -200.000, mean reward: -1.000 [-1.000, -1.000], mean action: 1.090 [0.000, 2.000],  loss: 4.472473, mae: 32.174564, mean_q: -47.855656\n",
      " 10190/100000: episode: 51, duration: 1.238s, episode steps: 200, steps per second: 162, episode reward: -200.000, mean reward: -1.000 [-1.000, -1.000], mean action: 1.130 [0.000, 2.000],  loss: 4.949275, mae: 32.466785, mean_q: -48.251781\n",
      " 10390/100000: episode: 52, duration: 1.243s, episode steps: 200, steps per second: 161, episode reward: -200.000, mean reward: -1.000 [-1.000, -1.000], mean action: 1.130 [0.000, 2.000],  loss: 4.142698, mae: 32.864677, mean_q: -48.892990\n",
      " 10578/100000: episode: 53, duration: 1.166s, episode steps: 188, steps per second: 161, episode reward: -188.000, mean reward: -1.000 [-1.000, -1.000], mean action: 1.037 [0.000, 2.000],  loss: 6.133743, mae: 33.108242, mean_q: -49.182140\n",
      " 10778/100000: episode: 54, duration: 1.238s, episode steps: 200, steps per second: 161, episode reward: -200.000, mean reward: -1.000 [-1.000, -1.000], mean action: 1.200 [0.000, 2.000],  loss: 4.326399, mae: 33.343834, mean_q: -49.619041\n",
      " 10978/100000: episode: 55, duration: 1.240s, episode steps: 200, steps per second: 161, episode reward: -200.000, mean reward: -1.000 [-1.000, -1.000], mean action: 1.185 [0.000, 2.000],  loss: 6.221401, mae: 33.551655, mean_q: -49.836845\n",
      " 11178/100000: episode: 56, duration: 1.240s, episode steps: 200, steps per second: 161, episode reward: -200.000, mean reward: -1.000 [-1.000, -1.000], mean action: 1.235 [0.000, 2.000],  loss: 6.153854, mae: 33.855335, mean_q: -50.279346\n",
      " 11378/100000: episode: 57, duration: 1.241s, episode steps: 200, steps per second: 161, episode reward: -200.000, mean reward: -1.000 [-1.000, -1.000], mean action: 1.360 [0.000, 2.000],  loss: 6.936350, mae: 33.954350, mean_q: -50.357861\n",
      " 11578/100000: episode: 58, duration: 1.246s, episode steps: 200, steps per second: 160, episode reward: -200.000, mean reward: -1.000 [-1.000, -1.000], mean action: 0.825 [0.000, 2.000],  loss: 5.975965, mae: 34.114609, mean_q: -50.622417\n",
      " 11778/100000: episode: 59, duration: 1.239s, episode steps: 200, steps per second: 161, episode reward: -200.000, mean reward: -1.000 [-1.000, -1.000], mean action: 0.845 [0.000, 2.000],  loss: 4.608628, mae: 34.401344, mean_q: -51.162430\n",
      " 11978/100000: episode: 60, duration: 1.238s, episode steps: 200, steps per second: 162, episode reward: -200.000, mean reward: -1.000 [-1.000, -1.000], mean action: 0.880 [0.000, 2.000],  loss: 4.133779, mae: 34.656071, mean_q: -51.552647\n",
      " 12178/100000: episode: 61, duration: 1.248s, episode steps: 200, steps per second: 160, episode reward: -200.000, mean reward: -1.000 [-1.000, -1.000], mean action: 0.945 [0.000, 2.000],  loss: 6.747167, mae: 34.920235, mean_q: -51.834606\n",
      " 12378/100000: episode: 62, duration: 1.245s, episode steps: 200, steps per second: 161, episode reward: -200.000, mean reward: -1.000 [-1.000, -1.000], mean action: 0.800 [0.000, 2.000],  loss: 8.665902, mae: 35.052086, mean_q: -51.958061\n",
      " 12578/100000: episode: 63, duration: 1.243s, episode steps: 200, steps per second: 161, episode reward: -200.000, mean reward: -1.000 [-1.000, -1.000], mean action: 0.945 [0.000, 2.000],  loss: 4.970388, mae: 35.224361, mean_q: -52.409657\n",
      " 12778/100000: episode: 64, duration: 1.241s, episode steps: 200, steps per second: 161, episode reward: -200.000, mean reward: -1.000 [-1.000, -1.000], mean action: 1.160 [0.000, 2.000],  loss: 6.956296, mae: 35.408726, mean_q: -52.515350\n",
      " 12978/100000: episode: 65, duration: 1.249s, episode steps: 200, steps per second: 160, episode reward: -200.000, mean reward: -1.000 [-1.000, -1.000], mean action: 0.940 [0.000, 2.000],  loss: 6.292580, mae: 35.529125, mean_q: -52.815132\n",
      " 13178/100000: episode: 66, duration: 1.241s, episode steps: 200, steps per second: 161, episode reward: -200.000, mean reward: -1.000 [-1.000, -1.000], mean action: 1.030 [0.000, 2.000],  loss: 6.772305, mae: 35.727360, mean_q: -53.017502\n",
      " 13378/100000: episode: 67, duration: 1.247s, episode steps: 200, steps per second: 160, episode reward: -200.000, mean reward: -1.000 [-1.000, -1.000], mean action: 1.465 [0.000, 2.000],  loss: 4.472638, mae: 36.000053, mean_q: -53.561302\n",
      " 13578/100000: episode: 68, duration: 1.245s, episode steps: 200, steps per second: 161, episode reward: -200.000, mean reward: -1.000 [-1.000, -1.000], mean action: 1.035 [0.000, 2.000],  loss: 5.774148, mae: 36.262466, mean_q: -53.885639\n",
      " 13778/100000: episode: 69, duration: 1.242s, episode steps: 200, steps per second: 161, episode reward: -200.000, mean reward: -1.000 [-1.000, -1.000], mean action: 1.195 [0.000, 2.000],  loss: 6.724069, mae: 36.420528, mean_q: -54.129601\n",
      " 13978/100000: episode: 70, duration: 1.244s, episode steps: 200, steps per second: 161, episode reward: -200.000, mean reward: -1.000 [-1.000, -1.000], mean action: 0.965 [0.000, 2.000],  loss: 7.380228, mae: 36.588501, mean_q: -54.374130\n",
      " 14178/100000: episode: 71, duration: 1.266s, episode steps: 200, steps per second: 158, episode reward: -200.000, mean reward: -1.000 [-1.000, -1.000], mean action: 1.100 [0.000, 2.000],  loss: 8.091174, mae: 36.720360, mean_q: -54.404541\n",
      " 14378/100000: episode: 72, duration: 1.244s, episode steps: 200, steps per second: 161, episode reward: -200.000, mean reward: -1.000 [-1.000, -1.000], mean action: 1.035 [0.000, 2.000],  loss: 5.302377, mae: 36.757362, mean_q: -54.649200\n",
      " 14578/100000: episode: 73, duration: 1.242s, episode steps: 200, steps per second: 161, episode reward: -200.000, mean reward: -1.000 [-1.000, -1.000], mean action: 0.550 [0.000, 2.000],  loss: 6.581658, mae: 36.910809, mean_q: -54.861523\n",
      " 14778/100000: episode: 74, duration: 1.244s, episode steps: 200, steps per second: 161, episode reward: -200.000, mean reward: -1.000 [-1.000, -1.000], mean action: 0.995 [0.000, 2.000],  loss: 8.245127, mae: 37.012081, mean_q: -54.948944\n",
      " 14978/100000: episode: 75, duration: 1.246s, episode steps: 200, steps per second: 161, episode reward: -200.000, mean reward: -1.000 [-1.000, -1.000], mean action: 1.480 [0.000, 2.000],  loss: 8.127069, mae: 37.076778, mean_q: -55.001514\n",
      " 15178/100000: episode: 76, duration: 1.248s, episode steps: 200, steps per second: 160, episode reward: -200.000, mean reward: -1.000 [-1.000, -1.000], mean action: 1.230 [0.000, 2.000],  loss: 5.088794, mae: 37.317806, mean_q: -55.525379\n",
      " 15378/100000: episode: 77, duration: 1.244s, episode steps: 200, steps per second: 161, episode reward: -200.000, mean reward: -1.000 [-1.000, -1.000], mean action: 1.550 [0.000, 2.000],  loss: 8.746262, mae: 37.314857, mean_q: -55.417099\n",
      " 15578/100000: episode: 78, duration: 1.251s, episode steps: 200, steps per second: 160, episode reward: -200.000, mean reward: -1.000 [-1.000, -1.000], mean action: 1.115 [0.000, 2.000],  loss: 8.480269, mae: 37.274921, mean_q: -55.328724\n",
      " 15778/100000: episode: 79, duration: 1.246s, episode steps: 200, steps per second: 160, episode reward: -200.000, mean reward: -1.000 [-1.000, -1.000], mean action: 1.250 [0.000, 2.000],  loss: 6.383694, mae: 37.405602, mean_q: -55.614002\n",
      " 15978/100000: episode: 80, duration: 1.252s, episode steps: 200, steps per second: 160, episode reward: -200.000, mean reward: -1.000 [-1.000, -1.000], mean action: 0.765 [0.000, 2.000],  loss: 6.554149, mae: 37.541271, mean_q: -55.764999\n",
      " 16178/100000: episode: 81, duration: 1.242s, episode steps: 200, steps per second: 161, episode reward: -200.000, mean reward: -1.000 [-1.000, -1.000], mean action: 1.120 [0.000, 2.000],  loss: 6.428138, mae: 37.654362, mean_q: -55.947269\n",
      " 16378/100000: episode: 82, duration: 1.248s, episode steps: 200, steps per second: 160, episode reward: -200.000, mean reward: -1.000 [-1.000, -1.000], mean action: 1.320 [0.000, 2.000],  loss: 7.877385, mae: 37.796127, mean_q: -56.108154\n",
      " 16578/100000: episode: 83, duration: 1.248s, episode steps: 200, steps per second: 160, episode reward: -200.000, mean reward: -1.000 [-1.000, -1.000], mean action: 0.850 [0.000, 2.000],  loss: 6.478686, mae: 37.751740, mean_q: -56.090664\n",
      " 16778/100000: episode: 84, duration: 1.253s, episode steps: 200, steps per second: 160, episode reward: -200.000, mean reward: -1.000 [-1.000, -1.000], mean action: 0.665 [0.000, 2.000],  loss: 6.596651, mae: 37.818893, mean_q: -56.200565\n",
      " 16978/100000: episode: 85, duration: 1.254s, episode steps: 200, steps per second: 160, episode reward: -200.000, mean reward: -1.000 [-1.000, -1.000], mean action: 1.105 [0.000, 2.000],  loss: 7.384856, mae: 38.001492, mean_q: -56.416748\n",
      " 17178/100000: episode: 86, duration: 1.247s, episode steps: 200, steps per second: 160, episode reward: -200.000, mean reward: -1.000 [-1.000, -1.000], mean action: 1.015 [0.000, 2.000],  loss: 6.174693, mae: 38.061764, mean_q: -56.592052\n",
      " 17378/100000: episode: 87, duration: 1.251s, episode steps: 200, steps per second: 160, episode reward: -200.000, mean reward: -1.000 [-1.000, -1.000], mean action: 0.935 [0.000, 2.000],  loss: 9.675043, mae: 38.274826, mean_q: -56.824448\n",
      " 17551/100000: episode: 88, duration: 1.082s, episode steps: 173, steps per second: 160, episode reward: -173.000, mean reward: -1.000 [-1.000, -1.000], mean action: 1.075 [0.000, 2.000],  loss: 6.816940, mae: 38.260902, mean_q: -56.860455\n",
      " 17751/100000: episode: 89, duration: 1.251s, episode steps: 200, steps per second: 160, episode reward: -200.000, mean reward: -1.000 [-1.000, -1.000], mean action: 0.990 [0.000, 2.000],  loss: 5.284369, mae: 38.423145, mean_q: -57.164093\n",
      " 17951/100000: episode: 90, duration: 1.253s, episode steps: 200, steps per second: 160, episode reward: -200.000, mean reward: -1.000 [-1.000, -1.000], mean action: 0.705 [0.000, 2.000],  loss: 9.224041, mae: 38.296165, mean_q: -56.690868\n",
      " 18151/100000: episode: 91, duration: 1.255s, episode steps: 200, steps per second: 159, episode reward: -200.000, mean reward: -1.000 [-1.000, -1.000], mean action: 1.510 [0.000, 2.000],  loss: 7.165232, mae: 38.389225, mean_q: -57.027569\n",
      " 18351/100000: episode: 92, duration: 1.251s, episode steps: 200, steps per second: 160, episode reward: -200.000, mean reward: -1.000 [-1.000, -1.000], mean action: 0.795 [0.000, 2.000],  loss: 11.827865, mae: 38.329750, mean_q: -56.756554\n",
      " 18551/100000: episode: 93, duration: 1.248s, episode steps: 200, steps per second: 160, episode reward: -200.000, mean reward: -1.000 [-1.000, -1.000], mean action: 0.995 [0.000, 2.000],  loss: 5.765941, mae: 38.302120, mean_q: -56.957218\n",
      " 18751/100000: episode: 94, duration: 1.256s, episode steps: 200, steps per second: 159, episode reward: -200.000, mean reward: -1.000 [-1.000, -1.000], mean action: 0.835 [0.000, 2.000],  loss: 7.830929, mae: 38.535114, mean_q: -57.248905\n",
      " 18951/100000: episode: 95, duration: 1.252s, episode steps: 200, steps per second: 160, episode reward: -200.000, mean reward: -1.000 [-1.000, -1.000], mean action: 1.240 [0.000, 2.000],  loss: 8.020864, mae: 38.555218, mean_q: -57.288097\n",
      " 19151/100000: episode: 96, duration: 1.255s, episode steps: 200, steps per second: 159, episode reward: -200.000, mean reward: -1.000 [-1.000, -1.000], mean action: 0.545 [0.000, 2.000],  loss: 10.755215, mae: 38.540245, mean_q: -57.129547\n",
      " 19332/100000: episode: 97, duration: 1.134s, episode steps: 181, steps per second: 160, episode reward: -181.000, mean reward: -1.000 [-1.000, -1.000], mean action: 1.182 [0.000, 2.000],  loss: 6.370790, mae: 38.492569, mean_q: -57.213570\n",
      " 19509/100000: episode: 98, duration: 1.113s, episode steps: 177, steps per second: 159, episode reward: -177.000, mean reward: -1.000 [-1.000, -1.000], mean action: 1.068 [0.000, 2.000],  loss: 9.438035, mae: 38.483707, mean_q: -57.040443\n",
      " 19709/100000: episode: 99, duration: 1.254s, episode steps: 200, steps per second: 160, episode reward: -200.000, mean reward: -1.000 [-1.000, -1.000], mean action: 0.830 [0.000, 2.000],  loss: 6.972617, mae: 38.514481, mean_q: -57.245522\n",
      " 19909/100000: episode: 100, duration: 1.250s, episode steps: 200, steps per second: 160, episode reward: -200.000, mean reward: -1.000 [-1.000, -1.000], mean action: 1.210 [0.000, 2.000],  loss: 7.498446, mae: 38.571148, mean_q: -57.310421\n",
      " 20109/100000: episode: 101, duration: 1.254s, episode steps: 200, steps per second: 160, episode reward: -200.000, mean reward: -1.000 [-1.000, -1.000], mean action: 1.115 [0.000, 2.000],  loss: 7.395283, mae: 38.714371, mean_q: -57.477222\n",
      " 20309/100000: episode: 102, duration: 1.255s, episode steps: 200, steps per second: 159, episode reward: -200.000, mean reward: -1.000 [-1.000, -1.000], mean action: 0.580 [0.000, 2.000],  loss: 7.740407, mae: 38.703381, mean_q: -57.348488\n",
      " 20509/100000: episode: 103, duration: 1.252s, episode steps: 200, steps per second: 160, episode reward: -200.000, mean reward: -1.000 [-1.000, -1.000], mean action: 1.320 [0.000, 2.000],  loss: 7.835667, mae: 38.722454, mean_q: -57.470928\n",
      " 20709/100000: episode: 104, duration: 1.262s, episode steps: 200, steps per second: 158, episode reward: -200.000, mean reward: -1.000 [-1.000, -1.000], mean action: 1.025 [0.000, 2.000],  loss: 7.135276, mae: 38.779663, mean_q: -57.626148\n",
      " 20909/100000: episode: 105, duration: 1.254s, episode steps: 200, steps per second: 159, episode reward: -200.000, mean reward: -1.000 [-1.000, -1.000], mean action: 0.650 [0.000, 2.000],  loss: 12.536964, mae: 38.842735, mean_q: -57.539749\n",
      " 21109/100000: episode: 106, duration: 1.250s, episode steps: 200, steps per second: 160, episode reward: -200.000, mean reward: -1.000 [-1.000, -1.000], mean action: 1.255 [0.000, 2.000],  loss: 7.075590, mae: 38.825306, mean_q: -57.710960\n",
      " 21309/100000: episode: 107, duration: 1.256s, episode steps: 200, steps per second: 159, episode reward: -200.000, mean reward: -1.000 [-1.000, -1.000], mean action: 0.960 [0.000, 2.000],  loss: 8.005516, mae: 38.960987, mean_q: -57.788864\n",
      " 21509/100000: episode: 108, duration: 1.258s, episode steps: 200, steps per second: 159, episode reward: -200.000, mean reward: -1.000 [-1.000, -1.000], mean action: 1.130 [0.000, 2.000],  loss: 9.216678, mae: 38.999676, mean_q: -57.861015\n",
      " 21709/100000: episode: 109, duration: 1.253s, episode steps: 200, steps per second: 160, episode reward: -200.000, mean reward: -1.000 [-1.000, -1.000], mean action: 1.110 [0.000, 2.000],  loss: 8.161380, mae: 38.965790, mean_q: -57.884766\n",
      " 21909/100000: episode: 110, duration: 1.255s, episode steps: 200, steps per second: 159, episode reward: -200.000, mean reward: -1.000 [-1.000, -1.000], mean action: 0.840 [0.000, 2.000],  loss: 7.139487, mae: 38.922489, mean_q: -57.762138\n",
      " 22109/100000: episode: 111, duration: 1.258s, episode steps: 200, steps per second: 159, episode reward: -200.000, mean reward: -1.000 [-1.000, -1.000], mean action: 0.890 [0.000, 2.000],  loss: 7.227249, mae: 39.016048, mean_q: -57.964439\n",
      " 22309/100000: episode: 112, duration: 1.256s, episode steps: 200, steps per second: 159, episode reward: -200.000, mean reward: -1.000 [-1.000, -1.000], mean action: 0.770 [0.000, 2.000],  loss: 6.329003, mae: 39.036800, mean_q: -58.037895\n",
      " 22509/100000: episode: 113, duration: 1.282s, episode steps: 200, steps per second: 156, episode reward: -200.000, mean reward: -1.000 [-1.000, -1.000], mean action: 1.035 [0.000, 2.000],  loss: 5.457180, mae: 39.219303, mean_q: -58.330502\n",
      " 22709/100000: episode: 114, duration: 1.262s, episode steps: 200, steps per second: 158, episode reward: -200.000, mean reward: -1.000 [-1.000, -1.000], mean action: 1.430 [0.000, 2.000],  loss: 9.145860, mae: 39.333054, mean_q: -58.348789\n",
      " 22909/100000: episode: 115, duration: 1.265s, episode steps: 200, steps per second: 158, episode reward: -200.000, mean reward: -1.000 [-1.000, -1.000], mean action: 0.515 [0.000, 2.000],  loss: 9.379478, mae: 39.393616, mean_q: -58.476593\n",
      " 23109/100000: episode: 116, duration: 1.255s, episode steps: 200, steps per second: 159, episode reward: -200.000, mean reward: -1.000 [-1.000, -1.000], mean action: 0.905 [0.000, 2.000],  loss: 9.355390, mae: 39.216766, mean_q: -58.137062\n",
      " 23309/100000: episode: 117, duration: 1.260s, episode steps: 200, steps per second: 159, episode reward: -200.000, mean reward: -1.000 [-1.000, -1.000], mean action: 0.725 [0.000, 2.000],  loss: 9.419248, mae: 39.084084, mean_q: -57.916870\n",
      " 23509/100000: episode: 118, duration: 1.261s, episode steps: 200, steps per second: 159, episode reward: -200.000, mean reward: -1.000 [-1.000, -1.000], mean action: 0.705 [0.000, 2.000],  loss: 12.187130, mae: 39.024654, mean_q: -57.750294\n",
      " 23709/100000: episode: 119, duration: 1.308s, episode steps: 200, steps per second: 153, episode reward: -200.000, mean reward: -1.000 [-1.000, -1.000], mean action: 1.065 [0.000, 2.000],  loss: 7.503900, mae: 38.896854, mean_q: -57.713654\n",
      " 23909/100000: episode: 120, duration: 1.260s, episode steps: 200, steps per second: 159, episode reward: -200.000, mean reward: -1.000 [-1.000, -1.000], mean action: 0.940 [0.000, 2.000],  loss: 8.627562, mae: 38.998989, mean_q: -57.954201\n",
      " 24109/100000: episode: 121, duration: 1.257s, episode steps: 200, steps per second: 159, episode reward: -200.000, mean reward: -1.000 [-1.000, -1.000], mean action: 1.040 [0.000, 2.000],  loss: 6.972922, mae: 38.967655, mean_q: -57.860634\n",
      " 24309/100000: episode: 122, duration: 1.259s, episode steps: 200, steps per second: 159, episode reward: -200.000, mean reward: -1.000 [-1.000, -1.000], mean action: 1.275 [0.000, 2.000],  loss: 8.343651, mae: 39.116676, mean_q: -58.085949\n",
      " 24509/100000: episode: 123, duration: 1.261s, episode steps: 200, steps per second: 159, episode reward: -200.000, mean reward: -1.000 [-1.000, -1.000], mean action: 0.510 [0.000, 2.000],  loss: 6.786240, mae: 39.142338, mean_q: -58.132374\n",
      " 24709/100000: episode: 124, duration: 1.260s, episode steps: 200, steps per second: 159, episode reward: -200.000, mean reward: -1.000 [-1.000, -1.000], mean action: 0.930 [0.000, 2.000],  loss: 11.962566, mae: 39.171314, mean_q: -57.961617\n",
      " 24909/100000: episode: 125, duration: 1.264s, episode steps: 200, steps per second: 158, episode reward: -200.000, mean reward: -1.000 [-1.000, -1.000], mean action: 0.650 [0.000, 2.000],  loss: 8.580820, mae: 39.129627, mean_q: -58.049129\n",
      " 25109/100000: episode: 126, duration: 1.261s, episode steps: 200, steps per second: 159, episode reward: -200.000, mean reward: -1.000 [-1.000, -1.000], mean action: 1.770 [0.000, 2.000],  loss: 5.498293, mae: 39.045433, mean_q: -58.087292\n",
      " 25309/100000: episode: 127, duration: 1.270s, episode steps: 200, steps per second: 157, episode reward: -200.000, mean reward: -1.000 [-1.000, -1.000], mean action: 0.450 [0.000, 2.000],  loss: 6.817974, mae: 39.304214, mean_q: -58.361290\n",
      " 25509/100000: episode: 128, duration: 1.265s, episode steps: 200, steps per second: 158, episode reward: -200.000, mean reward: -1.000 [-1.000, -1.000], mean action: 0.780 [0.000, 2.000],  loss: 4.918853, mae: 39.339718, mean_q: -58.526768\n",
      " 25709/100000: episode: 129, duration: 1.265s, episode steps: 200, steps per second: 158, episode reward: -200.000, mean reward: -1.000 [-1.000, -1.000], mean action: 1.010 [0.000, 2.000],  loss: 7.585869, mae: 39.410416, mean_q: -58.516590\n",
      " 25909/100000: episode: 130, duration: 1.264s, episode steps: 200, steps per second: 158, episode reward: -200.000, mean reward: -1.000 [-1.000, -1.000], mean action: 0.945 [0.000, 2.000],  loss: 8.064939, mae: 39.443237, mean_q: -58.574554\n",
      " 26109/100000: episode: 131, duration: 1.304s, episode steps: 200, steps per second: 153, episode reward: -200.000, mean reward: -1.000 [-1.000, -1.000], mean action: 0.415 [0.000, 2.000],  loss: 11.493139, mae: 39.183022, mean_q: -57.919296\n",
      " 26309/100000: episode: 132, duration: 1.323s, episode steps: 200, steps per second: 151, episode reward: -200.000, mean reward: -1.000 [-1.000, -1.000], mean action: 0.825 [0.000, 2.000],  loss: 8.100552, mae: 38.968651, mean_q: -57.782051\n",
      " 26509/100000: episode: 133, duration: 1.271s, episode steps: 200, steps per second: 157, episode reward: -200.000, mean reward: -1.000 [-1.000, -1.000], mean action: 0.630 [0.000, 2.000],  loss: 8.875643, mae: 38.787544, mean_q: -57.409893\n",
      " 26709/100000: episode: 134, duration: 1.261s, episode steps: 200, steps per second: 159, episode reward: -200.000, mean reward: -1.000 [-1.000, -1.000], mean action: 0.720 [0.000, 2.000],  loss: 5.999972, mae: 38.796490, mean_q: -57.660347\n",
      " 26909/100000: episode: 135, duration: 1.273s, episode steps: 200, steps per second: 157, episode reward: -200.000, mean reward: -1.000 [-1.000, -1.000], mean action: 1.110 [0.000, 2.000],  loss: 6.427321, mae: 38.978714, mean_q: -57.894047\n",
      " 27109/100000: episode: 136, duration: 1.263s, episode steps: 200, steps per second: 158, episode reward: -200.000, mean reward: -1.000 [-1.000, -1.000], mean action: 0.370 [0.000, 2.000],  loss: 6.473214, mae: 38.920654, mean_q: -57.715664\n",
      " 27309/100000: episode: 137, duration: 1.262s, episode steps: 200, steps per second: 159, episode reward: -200.000, mean reward: -1.000 [-1.000, -1.000], mean action: 0.965 [0.000, 2.000],  loss: 4.942290, mae: 38.879620, mean_q: -57.723232\n",
      " 27509/100000: episode: 138, duration: 1.266s, episode steps: 200, steps per second: 158, episode reward: -200.000, mean reward: -1.000 [-1.000, -1.000], mean action: 0.680 [0.000, 2.000],  loss: 9.229741, mae: 38.954552, mean_q: -57.737228\n",
      " 27709/100000: episode: 139, duration: 1.270s, episode steps: 200, steps per second: 157, episode reward: -200.000, mean reward: -1.000 [-1.000, -1.000], mean action: 0.780 [0.000, 2.000],  loss: 7.423903, mae: 38.874340, mean_q: -57.683613\n",
      " 27909/100000: episode: 140, duration: 1.266s, episode steps: 200, steps per second: 158, episode reward: -200.000, mean reward: -1.000 [-1.000, -1.000], mean action: 0.405 [0.000, 2.000],  loss: 7.661652, mae: 39.024132, mean_q: -57.903107\n",
      " 28109/100000: episode: 141, duration: 1.266s, episode steps: 200, steps per second: 158, episode reward: -200.000, mean reward: -1.000 [-1.000, -1.000], mean action: 0.815 [0.000, 2.000],  loss: 8.954306, mae: 38.903809, mean_q: -57.597912\n",
      " 28309/100000: episode: 142, duration: 1.263s, episode steps: 200, steps per second: 158, episode reward: -200.000, mean reward: -1.000 [-1.000, -1.000], mean action: 0.590 [0.000, 2.000],  loss: 7.138720, mae: 38.738022, mean_q: -57.411720\n",
      " 28477/100000: episode: 143, duration: 1.066s, episode steps: 168, steps per second: 158, episode reward: -168.000, mean reward: -1.000 [-1.000, -1.000], mean action: 0.863 [0.000, 2.000],  loss: 5.743989, mae: 38.689045, mean_q: -57.343727\n",
      " 28637/100000: episode: 144, duration: 1.025s, episode steps: 160, steps per second: 156, episode reward: -160.000, mean reward: -1.000 [-1.000, -1.000], mean action: 0.731 [0.000, 2.000],  loss: 7.937848, mae: 38.679039, mean_q: -57.333252\n",
      " 28792/100000: episode: 145, duration: 0.982s, episode steps: 155, steps per second: 158, episode reward: -155.000, mean reward: -1.000 [-1.000, -1.000], mean action: 1.006 [0.000, 2.000],  loss: 6.089770, mae: 38.687599, mean_q: -57.411449\n",
      " 28970/100000: episode: 146, duration: 1.131s, episode steps: 178, steps per second: 157, episode reward: -178.000, mean reward: -1.000 [-1.000, -1.000], mean action: 1.067 [0.000, 2.000],  loss: 9.888891, mae: 38.512192, mean_q: -56.934872\n",
      " 29170/100000: episode: 147, duration: 1.271s, episode steps: 200, steps per second: 157, episode reward: -200.000, mean reward: -1.000 [-1.000, -1.000], mean action: 0.675 [0.000, 2.000],  loss: 4.841329, mae: 38.538754, mean_q: -57.209347\n",
      " 29370/100000: episode: 148, duration: 1.267s, episode steps: 200, steps per second: 158, episode reward: -200.000, mean reward: -1.000 [-1.000, -1.000], mean action: 1.010 [0.000, 2.000],  loss: 6.746070, mae: 38.633560, mean_q: -57.322601\n",
      " 29561/100000: episode: 149, duration: 1.217s, episode steps: 191, steps per second: 157, episode reward: -191.000, mean reward: -1.000 [-1.000, -1.000], mean action: 1.162 [0.000, 2.000],  loss: 6.795883, mae: 38.810760, mean_q: -57.536297\n",
      " 29761/100000: episode: 150, duration: 1.272s, episode steps: 200, steps per second: 157, episode reward: -200.000, mean reward: -1.000 [-1.000, -1.000], mean action: 0.490 [0.000, 2.000],  loss: 7.616531, mae: 38.763004, mean_q: -57.362286\n",
      " 29961/100000: episode: 151, duration: 1.271s, episode steps: 200, steps per second: 157, episode reward: -200.000, mean reward: -1.000 [-1.000, -1.000], mean action: 0.905 [0.000, 2.000],  loss: 6.158759, mae: 38.737553, mean_q: -57.400269\n",
      " 30078/100000: episode: 152, duration: 0.754s, episode steps: 117, steps per second: 155, episode reward: -117.000, mean reward: -1.000 [-1.000, -1.000], mean action: 1.051 [0.000, 2.000],  loss: 6.285843, mae: 38.904381, mean_q: -57.674709\n",
      " 30263/100000: episode: 153, duration: 1.173s, episode steps: 185, steps per second: 158, episode reward: -185.000, mean reward: -1.000 [-1.000, -1.000], mean action: 1.070 [0.000, 2.000],  loss: 8.731479, mae: 38.443611, mean_q: -56.944901\n",
      " 30453/100000: episode: 154, duration: 1.205s, episode steps: 190, steps per second: 158, episode reward: -190.000, mean reward: -1.000 [-1.000, -1.000], mean action: 1.026 [0.000, 2.000],  loss: 8.906879, mae: 38.645527, mean_q: -57.228783\n",
      " 30653/100000: episode: 155, duration: 1.274s, episode steps: 200, steps per second: 157, episode reward: -200.000, mean reward: -1.000 [-1.000, -1.000], mean action: 0.715 [0.000, 2.000],  loss: 5.978406, mae: 38.604881, mean_q: -57.283459\n",
      " 30853/100000: episode: 156, duration: 1.272s, episode steps: 200, steps per second: 157, episode reward: -200.000, mean reward: -1.000 [-1.000, -1.000], mean action: 0.790 [0.000, 2.000],  loss: 7.091031, mae: 38.667721, mean_q: -57.342716\n",
      " 31012/100000: episode: 157, duration: 1.012s, episode steps: 159, steps per second: 157, episode reward: -159.000, mean reward: -1.000 [-1.000, -1.000], mean action: 0.969 [0.000, 2.000],  loss: 8.756653, mae: 38.613373, mean_q: -57.104816\n",
      " 31212/100000: episode: 158, duration: 1.271s, episode steps: 200, steps per second: 157, episode reward: -200.000, mean reward: -1.000 [-1.000, -1.000], mean action: 0.500 [0.000, 2.000],  loss: 6.148833, mae: 38.575836, mean_q: -57.153618\n",
      " 31412/100000: episode: 159, duration: 1.273s, episode steps: 200, steps per second: 157, episode reward: -200.000, mean reward: -1.000 [-1.000, -1.000], mean action: 0.860 [0.000, 2.000],  loss: 7.836269, mae: 38.446510, mean_q: -56.925308\n",
      " 31612/100000: episode: 160, duration: 1.271s, episode steps: 200, steps per second: 157, episode reward: -200.000, mean reward: -1.000 [-1.000, -1.000], mean action: 0.775 [0.000, 2.000],  loss: 6.748693, mae: 38.433495, mean_q: -56.891300\n",
      " 31806/100000: episode: 161, duration: 1.239s, episode steps: 194, steps per second: 157, episode reward: -194.000, mean reward: -1.000 [-1.000, -1.000], mean action: 1.041 [0.000, 2.000],  loss: 7.672883, mae: 38.417961, mean_q: -56.863392\n",
      " 31960/100000: episode: 162, duration: 0.982s, episode steps: 154, steps per second: 157, episode reward: -154.000, mean reward: -1.000 [-1.000, -1.000], mean action: 0.844 [0.000, 2.000],  loss: 6.368696, mae: 38.234066, mean_q: -56.557961\n",
      " 32160/100000: episode: 163, duration: 1.270s, episode steps: 200, steps per second: 157, episode reward: -200.000, mean reward: -1.000 [-1.000, -1.000], mean action: 1.060 [0.000, 2.000],  loss: 5.843144, mae: 38.429386, mean_q: -56.872238\n",
      " 32279/100000: episode: 164, duration: 0.763s, episode steps: 119, steps per second: 156, episode reward: -119.000, mean reward: -1.000 [-1.000, -1.000], mean action: 1.059 [0.000, 2.000],  loss: 6.724412, mae: 38.439907, mean_q: -56.947163\n",
      " 32479/100000: episode: 165, duration: 1.275s, episode steps: 200, steps per second: 157, episode reward: -200.000, mean reward: -1.000 [-1.000, -1.000], mean action: 0.790 [0.000, 2.000],  loss: 6.085093, mae: 38.406860, mean_q: -56.840973\n",
      " 32679/100000: episode: 166, duration: 1.276s, episode steps: 200, steps per second: 157, episode reward: -200.000, mean reward: -1.000 [-1.000, -1.000], mean action: 0.690 [0.000, 2.000],  loss: 4.613494, mae: 38.531868, mean_q: -57.161728\n",
      " 32879/100000: episode: 167, duration: 1.276s, episode steps: 200, steps per second: 157, episode reward: -200.000, mean reward: -1.000 [-1.000, -1.000], mean action: 0.640 [0.000, 2.000],  loss: 5.688227, mae: 38.507694, mean_q: -57.018501\n",
      " 33079/100000: episode: 168, duration: 1.276s, episode steps: 200, steps per second: 157, episode reward: -200.000, mean reward: -1.000 [-1.000, -1.000], mean action: 1.300 [0.000, 2.000],  loss: 7.420048, mae: 38.458702, mean_q: -56.874443\n",
      " 33258/100000: episode: 169, duration: 1.162s, episode steps: 179, steps per second: 154, episode reward: -179.000, mean reward: -1.000 [-1.000, -1.000], mean action: 0.654 [0.000, 2.000],  loss: 5.778423, mae: 38.672596, mean_q: -57.315609\n",
      " 33458/100000: episode: 170, duration: 1.277s, episode steps: 200, steps per second: 157, episode reward: -200.000, mean reward: -1.000 [-1.000, -1.000], mean action: 0.715 [0.000, 2.000],  loss: 8.187409, mae: 38.471325, mean_q: -56.803974\n",
      " 33658/100000: episode: 171, duration: 1.273s, episode steps: 200, steps per second: 157, episode reward: -200.000, mean reward: -1.000 [-1.000, -1.000], mean action: 0.610 [0.000, 2.000],  loss: 6.903953, mae: 38.344528, mean_q: -56.683449\n",
      " 33839/100000: episode: 172, duration: 1.157s, episode steps: 181, steps per second: 156, episode reward: -181.000, mean reward: -1.000 [-1.000, -1.000], mean action: 0.762 [0.000, 2.000],  loss: 7.348656, mae: 38.075184, mean_q: -56.187164\n",
      " 34039/100000: episode: 173, duration: 1.275s, episode steps: 200, steps per second: 157, episode reward: -200.000, mean reward: -1.000 [-1.000, -1.000], mean action: 0.705 [0.000, 2.000],  loss: 4.334724, mae: 38.406826, mean_q: -56.993423\n",
      " 34186/100000: episode: 174, duration: 0.940s, episode steps: 147, steps per second: 156, episode reward: -147.000, mean reward: -1.000 [-1.000, -1.000], mean action: 1.320 [0.000, 2.000],  loss: 4.062639, mae: 38.349117, mean_q: -56.858418\n",
      " 34312/100000: episode: 175, duration: 0.804s, episode steps: 126, steps per second: 157, episode reward: -126.000, mean reward: -1.000 [-1.000, -1.000], mean action: 1.421 [0.000, 2.000],  loss: 4.821855, mae: 38.412216, mean_q: -56.884636\n",
      " 34512/100000: episode: 176, duration: 1.275s, episode steps: 200, steps per second: 157, episode reward: -200.000, mean reward: -1.000 [-1.000, -1.000], mean action: 0.720 [0.000, 2.000],  loss: 8.301021, mae: 38.306503, mean_q: -56.476444\n",
      " 34690/100000: episode: 177, duration: 1.137s, episode steps: 178, steps per second: 156, episode reward: -178.000, mean reward: -1.000 [-1.000, -1.000], mean action: 1.045 [0.000, 2.000],  loss: 6.972467, mae: 38.253441, mean_q: -56.575798\n",
      " 34858/100000: episode: 178, duration: 1.079s, episode steps: 168, steps per second: 156, episode reward: -168.000, mean reward: -1.000 [-1.000, -1.000], mean action: 1.304 [0.000, 2.000],  loss: 7.694571, mae: 38.215034, mean_q: -56.282784\n",
      " 35058/100000: episode: 179, duration: 1.277s, episode steps: 200, steps per second: 157, episode reward: -200.000, mean reward: -1.000 [-1.000, -1.000], mean action: 1.160 [0.000, 2.000],  loss: 4.992671, mae: 37.914379, mean_q: -56.056000\n",
      " 35258/100000: episode: 180, duration: 1.277s, episode steps: 200, steps per second: 157, episode reward: -200.000, mean reward: -1.000 [-1.000, -1.000], mean action: 0.705 [0.000, 2.000],  loss: 7.073452, mae: 37.925480, mean_q: -55.950596\n",
      " 35427/100000: episode: 181, duration: 1.083s, episode steps: 169, steps per second: 156, episode reward: -169.000, mean reward: -1.000 [-1.000, -1.000], mean action: 0.941 [0.000, 2.000],  loss: 7.375041, mae: 37.956287, mean_q: -55.962856\n",
      " 35627/100000: episode: 182, duration: 1.289s, episode steps: 200, steps per second: 155, episode reward: -200.000, mean reward: -1.000 [-1.000, -1.000], mean action: 0.730 [0.000, 2.000],  loss: 7.560953, mae: 37.627018, mean_q: -55.522926\n",
      " 35827/100000: episode: 183, duration: 1.276s, episode steps: 200, steps per second: 157, episode reward: -200.000, mean reward: -1.000 [-1.000, -1.000], mean action: 0.170 [0.000, 2.000],  loss: 7.342350, mae: 37.618118, mean_q: -55.449562\n",
      " 36027/100000: episode: 184, duration: 1.276s, episode steps: 200, steps per second: 157, episode reward: -200.000, mean reward: -1.000 [-1.000, -1.000], mean action: 0.340 [0.000, 2.000],  loss: 6.523445, mae: 37.327442, mean_q: -55.135719\n",
      " 36227/100000: episode: 185, duration: 1.278s, episode steps: 200, steps per second: 156, episode reward: -200.000, mean reward: -1.000 [-1.000, -1.000], mean action: 0.835 [0.000, 2.000],  loss: 5.895486, mae: 37.552612, mean_q: -55.478691\n",
      " 36422/100000: episode: 186, duration: 1.250s, episode steps: 195, steps per second: 156, episode reward: -195.000, mean reward: -1.000 [-1.000, -1.000], mean action: 1.262 [0.000, 2.000],  loss: 8.854017, mae: 37.230530, mean_q: -54.905567\n",
      " 36569/100000: episode: 187, duration: 0.947s, episode steps: 147, steps per second: 155, episode reward: -147.000, mean reward: -1.000 [-1.000, -1.000], mean action: 1.170 [0.000, 2.000],  loss: 5.422873, mae: 37.019764, mean_q: -54.817345\n",
      " 36769/100000: episode: 188, duration: 1.279s, episode steps: 200, steps per second: 156, episode reward: -200.000, mean reward: -1.000 [-1.000, -1.000], mean action: 0.845 [0.000, 2.000],  loss: 5.987287, mae: 37.055859, mean_q: -54.786621\n",
      " 36969/100000: episode: 189, duration: 1.278s, episode steps: 200, steps per second: 156, episode reward: -200.000, mean reward: -1.000 [-1.000, -1.000], mean action: 0.210 [0.000, 2.000],  loss: 5.470118, mae: 37.052094, mean_q: -54.850357\n",
      " 37169/100000: episode: 190, duration: 1.278s, episode steps: 200, steps per second: 156, episode reward: -200.000, mean reward: -1.000 [-1.000, -1.000], mean action: 0.655 [0.000, 2.000],  loss: 6.842053, mae: 36.986805, mean_q: -54.669498\n",
      " 37274/100000: episode: 191, duration: 0.677s, episode steps: 105, steps per second: 155, episode reward: -105.000, mean reward: -1.000 [-1.000, -1.000], mean action: 1.210 [0.000, 2.000],  loss: 6.744317, mae: 37.027161, mean_q: -54.673347\n",
      " 37474/100000: episode: 192, duration: 1.282s, episode steps: 200, steps per second: 156, episode reward: -200.000, mean reward: -1.000 [-1.000, -1.000], mean action: 0.205 [0.000, 2.000],  loss: 5.506952, mae: 36.827217, mean_q: -54.422714\n",
      " 37674/100000: episode: 193, duration: 1.282s, episode steps: 200, steps per second: 156, episode reward: -200.000, mean reward: -1.000 [-1.000, -1.000], mean action: 0.340 [0.000, 2.000],  loss: 6.630329, mae: 36.561863, mean_q: -53.978252\n",
      " 37874/100000: episode: 194, duration: 1.282s, episode steps: 200, steps per second: 156, episode reward: -200.000, mean reward: -1.000 [-1.000, -1.000], mean action: 0.295 [0.000, 2.000],  loss: 3.362258, mae: 36.745140, mean_q: -54.463135\n",
      " 38074/100000: episode: 195, duration: 1.280s, episode steps: 200, steps per second: 156, episode reward: -200.000, mean reward: -1.000 [-1.000, -1.000], mean action: 1.080 [0.000, 2.000],  loss: 4.743818, mae: 36.739830, mean_q: -54.357754\n",
      " 38259/100000: episode: 196, duration: 1.187s, episode steps: 185, steps per second: 156, episode reward: -185.000, mean reward: -1.000 [-1.000, -1.000], mean action: 1.286 [0.000, 2.000],  loss: 4.712720, mae: 36.848438, mean_q: -54.594509\n",
      " 38399/100000: episode: 197, duration: 0.903s, episode steps: 140, steps per second: 155, episode reward: -140.000, mean reward: -1.000 [-1.000, -1.000], mean action: 1.357 [0.000, 2.000],  loss: 3.332579, mae: 36.866581, mean_q: -54.666645\n",
      " 38510/100000: episode: 198, duration: 0.721s, episode steps: 111, steps per second: 154, episode reward: -111.000, mean reward: -1.000 [-1.000, -1.000], mean action: 1.198 [0.000, 2.000],  loss: 5.544496, mae: 36.923595, mean_q: -54.605499\n",
      " 38710/100000: episode: 199, duration: 1.280s, episode steps: 200, steps per second: 156, episode reward: -200.000, mean reward: -1.000 [-1.000, -1.000], mean action: 0.290 [0.000, 2.000],  loss: 5.453031, mae: 36.856781, mean_q: -54.541973\n",
      " 38809/100000: episode: 200, duration: 0.638s, episode steps:  99, steps per second: 155, episode reward: -99.000, mean reward: -1.000 [-1.000, -1.000], mean action: 1.263 [0.000, 2.000],  loss: 5.867069, mae: 37.192032, mean_q: -54.995338\n",
      " 39009/100000: episode: 201, duration: 1.280s, episode steps: 200, steps per second: 156, episode reward: -200.000, mean reward: -1.000 [-1.000, -1.000], mean action: 0.225 [0.000, 2.000],  loss: 5.727134, mae: 36.833618, mean_q: -54.462799\n",
      " 39209/100000: episode: 202, duration: 1.281s, episode steps: 200, steps per second: 156, episode reward: -200.000, mean reward: -1.000 [-1.000, -1.000], mean action: 0.125 [0.000, 2.000],  loss: 5.114816, mae: 36.714382, mean_q: -54.299400\n",
      " 39372/100000: episode: 203, duration: 1.050s, episode steps: 163, steps per second: 155, episode reward: -163.000, mean reward: -1.000 [-1.000, -1.000], mean action: 0.785 [0.000, 2.000],  loss: 3.804541, mae: 36.587032, mean_q: -54.143261\n",
      " 39526/100000: episode: 204, duration: 0.994s, episode steps: 154, steps per second: 155, episode reward: -154.000, mean reward: -1.000 [-1.000, -1.000], mean action: 0.903 [0.000, 2.000],  loss: 7.692727, mae: 36.615120, mean_q: -54.128590\n",
      " 39700/100000: episode: 205, duration: 1.118s, episode steps: 174, steps per second: 156, episode reward: -174.000, mean reward: -1.000 [-1.000, -1.000], mean action: 1.397 [0.000, 2.000],  loss: 5.729920, mae: 36.631073, mean_q: -54.222309\n",
      " 39900/100000: episode: 206, duration: 1.280s, episode steps: 200, steps per second: 156, episode reward: -200.000, mean reward: -1.000 [-1.000, -1.000], mean action: 0.575 [0.000, 2.000],  loss: 4.542684, mae: 36.424122, mean_q: -53.914539\n",
      " 40100/100000: episode: 207, duration: 1.285s, episode steps: 200, steps per second: 156, episode reward: -200.000, mean reward: -1.000 [-1.000, -1.000], mean action: 0.550 [0.000, 2.000],  loss: 5.291421, mae: 36.668423, mean_q: -54.185898\n",
      " 40267/100000: episode: 208, duration: 1.070s, episode steps: 167, steps per second: 156, episode reward: -167.000, mean reward: -1.000 [-1.000, -1.000], mean action: 1.000 [0.000, 2.000],  loss: 7.369131, mae: 36.681736, mean_q: -54.137924\n",
      " 40376/100000: episode: 209, duration: 0.708s, episode steps: 109, steps per second: 154, episode reward: -109.000, mean reward: -1.000 [-1.000, -1.000], mean action: 1.330 [0.000, 2.000],  loss: 5.976637, mae: 36.380394, mean_q: -53.705063\n",
      " 40530/100000: episode: 210, duration: 0.990s, episode steps: 154, steps per second: 156, episode reward: -154.000, mean reward: -1.000 [-1.000, -1.000], mean action: 0.896 [0.000, 2.000],  loss: 4.268751, mae: 36.262707, mean_q: -53.607788\n",
      " 40703/100000: episode: 211, duration: 1.112s, episode steps: 173, steps per second: 156, episode reward: -173.000, mean reward: -1.000 [-1.000, -1.000], mean action: 1.324 [0.000, 2.000],  loss: 7.042666, mae: 36.239788, mean_q: -53.470161\n",
      " 40903/100000: episode: 212, duration: 1.285s, episode steps: 200, steps per second: 156, episode reward: -200.000, mean reward: -1.000 [-1.000, -1.000], mean action: 0.295 [0.000, 2.000],  loss: 5.306273, mae: 36.154346, mean_q: -53.451916\n",
      " 41103/100000: episode: 213, duration: 1.284s, episode steps: 200, steps per second: 156, episode reward: -200.000, mean reward: -1.000 [-1.000, -1.000], mean action: 0.400 [0.000, 2.000],  loss: 6.297724, mae: 36.082947, mean_q: -53.319687\n",
      " 41303/100000: episode: 214, duration: 1.292s, episode steps: 200, steps per second: 155, episode reward: -200.000, mean reward: -1.000 [-1.000, -1.000], mean action: 0.360 [0.000, 2.000],  loss: 5.570190, mae: 36.121880, mean_q: -53.379482\n",
      " 41479/100000: episode: 215, duration: 1.131s, episode steps: 176, steps per second: 156, episode reward: -176.000, mean reward: -1.000 [-1.000, -1.000], mean action: 0.551 [0.000, 2.000],  loss: 5.014268, mae: 35.828503, mean_q: -52.907761\n",
      " 41658/100000: episode: 216, duration: 1.157s, episode steps: 179, steps per second: 155, episode reward: -179.000, mean reward: -1.000 [-1.000, -1.000], mean action: 1.212 [0.000, 2.000],  loss: 3.869371, mae: 35.961369, mean_q: -53.228710\n",
      " 41821/100000: episode: 217, duration: 1.051s, episode steps: 163, steps per second: 155, episode reward: -163.000, mean reward: -1.000 [-1.000, -1.000], mean action: 1.245 [0.000, 2.000],  loss: 6.393122, mae: 35.958237, mean_q: -53.023479\n",
      " 42021/100000: episode: 218, duration: 1.286s, episode steps: 200, steps per second: 156, episode reward: -200.000, mean reward: -1.000 [-1.000, -1.000], mean action: 0.395 [0.000, 2.000],  loss: 6.399252, mae: 35.799332, mean_q: -52.863979\n",
      " 42193/100000: episode: 219, duration: 1.115s, episode steps: 172, steps per second: 154, episode reward: -172.000, mean reward: -1.000 [-1.000, -1.000], mean action: 1.174 [0.000, 2.000],  loss: 4.178351, mae: 35.976387, mean_q: -53.217556\n",
      " 42393/100000: episode: 220, duration: 1.289s, episode steps: 200, steps per second: 155, episode reward: -200.000, mean reward: -1.000 [-1.000, -1.000], mean action: 0.685 [0.000, 2.000],  loss: 3.726840, mae: 35.836277, mean_q: -53.040401\n",
      " 42593/100000: episode: 221, duration: 1.330s, episode steps: 200, steps per second: 150, episode reward: -200.000, mean reward: -1.000 [-1.000, -1.000], mean action: 0.590 [0.000, 2.000],  loss: 4.962820, mae: 35.972305, mean_q: -53.162750\n",
      " 42793/100000: episode: 222, duration: 1.286s, episode steps: 200, steps per second: 156, episode reward: -200.000, mean reward: -1.000 [-1.000, -1.000], mean action: 0.630 [0.000, 2.000],  loss: 5.410801, mae: 36.104980, mean_q: -53.328339\n",
      " 42993/100000: episode: 223, duration: 1.287s, episode steps: 200, steps per second: 155, episode reward: -200.000, mean reward: -1.000 [-1.000, -1.000], mean action: 1.115 [0.000, 2.000],  loss: 4.582912, mae: 35.830452, mean_q: -52.924118\n",
      " 43165/100000: episode: 224, duration: 1.112s, episode steps: 172, steps per second: 155, episode reward: -172.000, mean reward: -1.000 [-1.000, -1.000], mean action: 1.302 [0.000, 2.000],  loss: 6.945491, mae: 35.805389, mean_q: -52.858803\n",
      " 43365/100000: episode: 225, duration: 1.287s, episode steps: 200, steps per second: 155, episode reward: -200.000, mean reward: -1.000 [-1.000, -1.000], mean action: 1.275 [0.000, 2.000],  loss: 4.341191, mae: 35.904228, mean_q: -53.111626\n",
      " 43510/100000: episode: 226, duration: 0.939s, episode steps: 145, steps per second: 154, episode reward: -145.000, mean reward: -1.000 [-1.000, -1.000], mean action: 1.021 [0.000, 2.000],  loss: 5.142220, mae: 35.933208, mean_q: -53.014599\n",
      " 43710/100000: episode: 227, duration: 1.295s, episode steps: 200, steps per second: 154, episode reward: -200.000, mean reward: -1.000 [-1.000, -1.000], mean action: 1.110 [0.000, 2.000],  loss: 4.533549, mae: 35.723892, mean_q: -52.876923\n",
      " 43910/100000: episode: 228, duration: 1.285s, episode steps: 200, steps per second: 156, episode reward: -200.000, mean reward: -1.000 [-1.000, -1.000], mean action: 0.660 [0.000, 2.000],  loss: 5.772207, mae: 35.816074, mean_q: -52.910080\n",
      " 44102/100000: episode: 229, duration: 1.238s, episode steps: 192, steps per second: 155, episode reward: -192.000, mean reward: -1.000 [-1.000, -1.000], mean action: 1.323 [0.000, 2.000],  loss: 5.007661, mae: 35.821171, mean_q: -52.925522\n",
      " 44229/100000: episode: 230, duration: 0.819s, episode steps: 127, steps per second: 155, episode reward: -127.000, mean reward: -1.000 [-1.000, -1.000], mean action: 1.457 [0.000, 2.000],  loss: 6.078408, mae: 35.881775, mean_q: -53.065552\n",
      " 44429/100000: episode: 231, duration: 1.287s, episode steps: 200, steps per second: 155, episode reward: -200.000, mean reward: -1.000 [-1.000, -1.000], mean action: 0.215 [0.000, 2.000],  loss: 4.504282, mae: 35.969994, mean_q: -53.185638\n",
      " 44629/100000: episode: 232, duration: 1.287s, episode steps: 200, steps per second: 155, episode reward: -200.000, mean reward: -1.000 [-1.000, -1.000], mean action: 1.175 [0.000, 2.000],  loss: 4.287871, mae: 35.744900, mean_q: -52.938564\n",
      " 44823/100000: episode: 233, duration: 1.253s, episode steps: 194, steps per second: 155, episode reward: -194.000, mean reward: -1.000 [-1.000, -1.000], mean action: 1.237 [0.000, 2.000],  loss: 5.682903, mae: 35.914486, mean_q: -53.066174\n",
      " 44991/100000: episode: 234, duration: 1.088s, episode steps: 168, steps per second: 154, episode reward: -168.000, mean reward: -1.000 [-1.000, -1.000], mean action: 1.226 [0.000, 2.000],  loss: 4.574049, mae: 35.791622, mean_q: -52.928913\n",
      " 45097/100000: episode: 235, duration: 0.714s, episode steps: 106, steps per second: 148, episode reward: -106.000, mean reward: -1.000 [-1.000, -1.000], mean action: 1.302 [0.000, 2.000],  loss: 2.827346, mae: 35.892021, mean_q: -53.181168\n",
      " 45212/100000: episode: 236, duration: 0.822s, episode steps: 115, steps per second: 140, episode reward: -115.000, mean reward: -1.000 [-1.000, -1.000], mean action: 1.130 [0.000, 2.000],  loss: 7.492994, mae: 35.867599, mean_q: -52.905617\n",
      " 45378/100000: episode: 237, duration: 1.073s, episode steps: 166, steps per second: 155, episode reward: -166.000, mean reward: -1.000 [-1.000, -1.000], mean action: 0.892 [0.000, 2.000],  loss: 4.673489, mae: 35.749104, mean_q: -52.827278\n",
      " 45539/100000: episode: 238, duration: 1.039s, episode steps: 161, steps per second: 155, episode reward: -161.000, mean reward: -1.000 [-1.000, -1.000], mean action: 1.298 [0.000, 2.000],  loss: 5.957626, mae: 35.669025, mean_q: -52.698769\n",
      " 45706/100000: episode: 239, duration: 1.085s, episode steps: 167, steps per second: 154, episode reward: -167.000, mean reward: -1.000 [-1.000, -1.000], mean action: 1.060 [0.000, 2.000],  loss: 5.137291, mae: 35.640907, mean_q: -52.636982\n",
      " 45906/100000: episode: 240, duration: 1.294s, episode steps: 200, steps per second: 155, episode reward: -200.000, mean reward: -1.000 [-1.000, -1.000], mean action: 0.085 [0.000, 2.000],  loss: 4.646164, mae: 35.403698, mean_q: -52.313065\n",
      " 46066/100000: episode: 241, duration: 1.032s, episode steps: 160, steps per second: 155, episode reward: -160.000, mean reward: -1.000 [-1.000, -1.000], mean action: 1.225 [0.000, 2.000],  loss: 5.446906, mae: 35.494350, mean_q: -52.387836\n",
      " 46236/100000: episode: 242, duration: 1.105s, episode steps: 170, steps per second: 154, episode reward: -170.000, mean reward: -1.000 [-1.000, -1.000], mean action: 0.829 [0.000, 2.000],  loss: 4.243070, mae: 35.800285, mean_q: -52.980560\n",
      " 46331/100000: episode: 243, duration: 0.617s, episode steps:  95, steps per second: 154, episode reward: -95.000, mean reward: -1.000 [-1.000, -1.000], mean action: 1.116 [0.000, 2.000],  loss: 4.544592, mae: 35.649540, mean_q: -52.610130\n",
      " 46531/100000: episode: 244, duration: 1.295s, episode steps: 200, steps per second: 154, episode reward: -200.000, mean reward: -1.000 [-1.000, -1.000], mean action: 0.160 [0.000, 2.000],  loss: 5.145282, mae: 35.643661, mean_q: -52.710464\n",
      " 46714/100000: episode: 245, duration: 1.182s, episode steps: 183, steps per second: 155, episode reward: -183.000, mean reward: -1.000 [-1.000, -1.000], mean action: 1.060 [0.000, 2.000],  loss: 4.424422, mae: 35.588791, mean_q: -52.597565\n",
      " 46914/100000: episode: 246, duration: 1.294s, episode steps: 200, steps per second: 155, episode reward: -200.000, mean reward: -1.000 [-1.000, -1.000], mean action: 0.620 [0.000, 2.000],  loss: 4.145026, mae: 35.660736, mean_q: -52.721901\n",
      " 47090/100000: episode: 247, duration: 1.142s, episode steps: 176, steps per second: 154, episode reward: -176.000, mean reward: -1.000 [-1.000, -1.000], mean action: 0.943 [0.000, 2.000],  loss: 4.807290, mae: 35.654724, mean_q: -52.632626\n",
      " 47215/100000: episode: 248, duration: 0.812s, episode steps: 125, steps per second: 154, episode reward: -125.000, mean reward: -1.000 [-1.000, -1.000], mean action: 1.288 [0.000, 2.000],  loss: 2.801651, mae: 35.462723, mean_q: -52.521427\n",
      " 47354/100000: episode: 249, duration: 0.900s, episode steps: 139, steps per second: 154, episode reward: -139.000, mean reward: -1.000 [-1.000, -1.000], mean action: 1.223 [0.000, 2.000],  loss: 4.729871, mae: 35.827351, mean_q: -52.955956\n",
      " 47554/100000: episode: 250, duration: 1.295s, episode steps: 200, steps per second: 154, episode reward: -200.000, mean reward: -1.000 [-1.000, -1.000], mean action: 0.305 [0.000, 2.000],  loss: 4.189250, mae: 35.741756, mean_q: -52.856724\n",
      " 47751/100000: episode: 251, duration: 1.283s, episode steps: 197, steps per second: 153, episode reward: -197.000, mean reward: -1.000 [-1.000, -1.000], mean action: 1.183 [0.000, 2.000],  loss: 3.298197, mae: 35.648697, mean_q: -52.752945\n",
      " 47914/100000: episode: 252, duration: 1.056s, episode steps: 163, steps per second: 154, episode reward: -163.000, mean reward: -1.000 [-1.000, -1.000], mean action: 1.080 [0.000, 2.000],  loss: 6.602406, mae: 35.645050, mean_q: -52.614445\n",
      " 48114/100000: episode: 253, duration: 1.298s, episode steps: 200, steps per second: 154, episode reward: -200.000, mean reward: -1.000 [-1.000, -1.000], mean action: 0.225 [0.000, 2.000],  loss: 3.749250, mae: 35.492088, mean_q: -52.507626\n",
      " 48311/100000: episode: 254, duration: 1.275s, episode steps: 197, steps per second: 155, episode reward: -197.000, mean reward: -1.000 [-1.000, -1.000], mean action: 1.254 [0.000, 2.000],  loss: 4.359428, mae: 35.593849, mean_q: -52.556313\n",
      " 48491/100000: episode: 255, duration: 1.171s, episode steps: 180, steps per second: 154, episode reward: -180.000, mean reward: -1.000 [-1.000, -1.000], mean action: 1.233 [0.000, 2.000],  loss: 4.058434, mae: 35.721996, mean_q: -52.816608\n",
      " 48648/100000: episode: 256, duration: 1.022s, episode steps: 157, steps per second: 154, episode reward: -157.000, mean reward: -1.000 [-1.000, -1.000], mean action: 0.981 [0.000, 2.000],  loss: 5.790267, mae: 35.547527, mean_q: -52.504066\n",
      " 48814/100000: episode: 257, duration: 1.083s, episode steps: 166, steps per second: 153, episode reward: -166.000, mean reward: -1.000 [-1.000, -1.000], mean action: 0.849 [0.000, 2.000],  loss: 4.047611, mae: 35.191460, mean_q: -52.030827\n",
      " 48972/100000: episode: 258, duration: 1.034s, episode steps: 158, steps per second: 153, episode reward: -158.000, mean reward: -1.000 [-1.000, -1.000], mean action: 1.196 [0.000, 2.000],  loss: 4.602088, mae: 35.528816, mean_q: -52.548149\n",
      " 49146/100000: episode: 259, duration: 1.130s, episode steps: 174, steps per second: 154, episode reward: -174.000, mean reward: -1.000 [-1.000, -1.000], mean action: 1.213 [0.000, 2.000],  loss: 5.812269, mae: 35.442482, mean_q: -52.332088\n",
      " 49298/100000: episode: 260, duration: 0.994s, episode steps: 152, steps per second: 153, episode reward: -152.000, mean reward: -1.000 [-1.000, -1.000], mean action: 0.947 [0.000, 2.000],  loss: 4.503480, mae: 35.322769, mean_q: -52.172749\n",
      " 49429/100000: episode: 261, duration: 0.857s, episode steps: 131, steps per second: 153, episode reward: -131.000, mean reward: -1.000 [-1.000, -1.000], mean action: 1.267 [0.000, 2.000],  loss: 3.555283, mae: 35.123768, mean_q: -51.914970\n",
      " 49587/100000: episode: 262, duration: 1.026s, episode steps: 158, steps per second: 154, episode reward: -158.000, mean reward: -1.000 [-1.000, -1.000], mean action: 1.114 [0.000, 2.000],  loss: 5.355803, mae: 35.269779, mean_q: -52.063625\n",
      " 49757/100000: episode: 263, duration: 1.104s, episode steps: 170, steps per second: 154, episode reward: -170.000, mean reward: -1.000 [-1.000, -1.000], mean action: 1.094 [0.000, 2.000],  loss: 5.882313, mae: 35.148312, mean_q: -51.778378\n",
      " 49957/100000: episode: 264, duration: 1.296s, episode steps: 200, steps per second: 154, episode reward: -200.000, mean reward: -1.000 [-1.000, -1.000], mean action: 0.940 [0.000, 2.000],  loss: 4.922096, mae: 34.998734, mean_q: -51.671974\n",
      " 50129/100000: episode: 265, duration: 1.123s, episode steps: 172, steps per second: 153, episode reward: -172.000, mean reward: -1.000 [-1.000, -1.000], mean action: 1.116 [0.000, 2.000],  loss: 4.145915, mae: 34.977787, mean_q: -51.668564\n",
      " 50297/100000: episode: 266, duration: 1.095s, episode steps: 168, steps per second: 153, episode reward: -168.000, mean reward: -1.000 [-1.000, -1.000], mean action: 1.185 [0.000, 2.000],  loss: 3.855168, mae: 34.535034, mean_q: -50.933605\n",
      " 50485/100000: episode: 267, duration: 1.221s, episode steps: 188, steps per second: 154, episode reward: -188.000, mean reward: -1.000 [-1.000, -1.000], mean action: 1.117 [0.000, 2.000],  loss: 4.177865, mae: 34.738163, mean_q: -51.306507\n",
      " 50657/100000: episode: 268, duration: 1.118s, episode steps: 172, steps per second: 154, episode reward: -172.000, mean reward: -1.000 [-1.000, -1.000], mean action: 1.145 [0.000, 2.000],  loss: 3.201890, mae: 34.790268, mean_q: -51.413517\n",
      " 50754/100000: episode: 269, duration: 0.638s, episode steps:  97, steps per second: 152, episode reward: -97.000, mean reward: -1.000 [-1.000, -1.000], mean action: 1.206 [0.000, 2.000],  loss: 5.089196, mae: 34.844074, mean_q: -51.439278\n",
      " 50925/100000: episode: 270, duration: 1.113s, episode steps: 171, steps per second: 154, episode reward: -171.000, mean reward: -1.000 [-1.000, -1.000], mean action: 1.140 [0.000, 2.000],  loss: 2.400829, mae: 34.735748, mean_q: -51.335766\n",
      " 51125/100000: episode: 271, duration: 1.297s, episode steps: 200, steps per second: 154, episode reward: -200.000, mean reward: -1.000 [-1.000, -1.000], mean action: 0.900 [0.000, 2.000],  loss: 4.890032, mae: 34.521240, mean_q: -50.911205\n",
      " 51309/100000: episode: 272, duration: 1.195s, episode steps: 184, steps per second: 154, episode reward: -184.000, mean reward: -1.000 [-1.000, -1.000], mean action: 1.223 [0.000, 2.000],  loss: 2.941651, mae: 34.727345, mean_q: -51.272953\n",
      " 51503/100000: episode: 273, duration: 1.260s, episode steps: 194, steps per second: 154, episode reward: -194.000, mean reward: -1.000 [-1.000, -1.000], mean action: 1.258 [0.000, 2.000],  loss: 4.587529, mae: 34.262054, mean_q: -50.456318\n",
      " 51679/100000: episode: 274, duration: 1.169s, episode steps: 176, steps per second: 151, episode reward: -176.000, mean reward: -1.000 [-1.000, -1.000], mean action: 0.920 [0.000, 2.000],  loss: 4.125493, mae: 34.327099, mean_q: -50.639721\n",
      " 51800/100000: episode: 275, duration: 0.790s, episode steps: 121, steps per second: 153, episode reward: -121.000, mean reward: -1.000 [-1.000, -1.000], mean action: 1.273 [0.000, 2.000],  loss: 5.478512, mae: 34.080090, mean_q: -50.113083\n",
      " 51965/100000: episode: 276, duration: 1.068s, episode steps: 165, steps per second: 154, episode reward: -165.000, mean reward: -1.000 [-1.000, -1.000], mean action: 0.988 [0.000, 2.000],  loss: 3.693867, mae: 34.126480, mean_q: -50.323608\n",
      " 52133/100000: episode: 277, duration: 1.093s, episode steps: 168, steps per second: 154, episode reward: -168.000, mean reward: -1.000 [-1.000, -1.000], mean action: 0.786 [0.000, 2.000],  loss: 6.049434, mae: 34.023556, mean_q: -50.067947\n",
      " 52333/100000: episode: 278, duration: 1.304s, episode steps: 200, steps per second: 153, episode reward: -200.000, mean reward: -1.000 [-1.000, -1.000], mean action: 0.600 [0.000, 2.000],  loss: 2.468960, mae: 34.048286, mean_q: -50.260014\n",
      " 52511/100000: episode: 279, duration: 1.162s, episode steps: 178, steps per second: 153, episode reward: -178.000, mean reward: -1.000 [-1.000, -1.000], mean action: 1.101 [0.000, 2.000],  loss: 4.774241, mae: 33.477036, mean_q: -49.252884\n",
      " 52702/100000: episode: 280, duration: 1.240s, episode steps: 191, steps per second: 154, episode reward: -191.000, mean reward: -1.000 [-1.000, -1.000], mean action: 1.168 [0.000, 2.000],  loss: 3.863743, mae: 33.706837, mean_q: -49.627258\n",
      " 52875/100000: episode: 281, duration: 1.125s, episode steps: 173, steps per second: 154, episode reward: -173.000, mean reward: -1.000 [-1.000, -1.000], mean action: 1.225 [0.000, 2.000],  loss: 4.036490, mae: 33.418507, mean_q: -49.266342\n",
      " 53057/100000: episode: 282, duration: 1.187s, episode steps: 182, steps per second: 153, episode reward: -182.000, mean reward: -1.000 [-1.000, -1.000], mean action: 1.077 [0.000, 2.000],  loss: 3.619457, mae: 33.440800, mean_q: -49.284130\n",
      " 53222/100000: episode: 283, duration: 1.079s, episode steps: 165, steps per second: 153, episode reward: -165.000, mean reward: -1.000 [-1.000, -1.000], mean action: 0.848 [0.000, 2.000],  loss: 4.956166, mae: 33.460819, mean_q: -49.246735\n",
      " 53375/100000: episode: 284, duration: 1.000s, episode steps: 153, steps per second: 153, episode reward: -153.000, mean reward: -1.000 [-1.000, -1.000], mean action: 0.961 [0.000, 2.000],  loss: 4.070799, mae: 32.804737, mean_q: -48.346207\n",
      " 53548/100000: episode: 285, duration: 1.126s, episode steps: 173, steps per second: 154, episode reward: -173.000, mean reward: -1.000 [-1.000, -1.000], mean action: 1.214 [0.000, 2.000],  loss: 3.096795, mae: 32.993332, mean_q: -48.619480\n",
      " 53721/100000: episode: 286, duration: 1.126s, episode steps: 173, steps per second: 154, episode reward: -173.000, mean reward: -1.000 [-1.000, -1.000], mean action: 1.208 [0.000, 2.000],  loss: 4.175744, mae: 32.611626, mean_q: -48.012707\n",
      " 53891/100000: episode: 287, duration: 1.108s, episode steps: 170, steps per second: 153, episode reward: -170.000, mean reward: -1.000 [-1.000, -1.000], mean action: 1.041 [0.000, 2.000],  loss: 3.536275, mae: 32.917370, mean_q: -48.525539\n",
      " 54041/100000: episode: 288, duration: 0.978s, episode steps: 150, steps per second: 153, episode reward: -150.000, mean reward: -1.000 [-1.000, -1.000], mean action: 1.027 [0.000, 2.000],  loss: 3.227504, mae: 32.625793, mean_q: -48.068508\n",
      " 54203/100000: episode: 289, duration: 1.066s, episode steps: 162, steps per second: 152, episode reward: -162.000, mean reward: -1.000 [-1.000, -1.000], mean action: 1.185 [0.000, 2.000],  loss: 2.915812, mae: 32.737469, mean_q: -48.275494\n",
      " 54366/100000: episode: 290, duration: 1.069s, episode steps: 163, steps per second: 153, episode reward: -163.000, mean reward: -1.000 [-1.000, -1.000], mean action: 1.239 [0.000, 2.000],  loss: 3.400609, mae: 32.684944, mean_q: -48.173893\n",
      " 54531/100000: episode: 291, duration: 1.078s, episode steps: 165, steps per second: 153, episode reward: -165.000, mean reward: -1.000 [-1.000, -1.000], mean action: 1.115 [0.000, 2.000],  loss: 2.851944, mae: 32.660568, mean_q: -48.200211\n",
      " 54708/100000: episode: 292, duration: 1.159s, episode steps: 177, steps per second: 153, episode reward: -177.000, mean reward: -1.000 [-1.000, -1.000], mean action: 1.141 [0.000, 2.000],  loss: 3.615533, mae: 32.543541, mean_q: -47.924690\n",
      " 54889/100000: episode: 293, duration: 1.180s, episode steps: 181, steps per second: 153, episode reward: -181.000, mean reward: -1.000 [-1.000, -1.000], mean action: 1.177 [0.000, 2.000],  loss: 3.983531, mae: 32.405460, mean_q: -47.755009\n",
      " 55052/100000: episode: 294, duration: 1.068s, episode steps: 163, steps per second: 153, episode reward: -163.000, mean reward: -1.000 [-1.000, -1.000], mean action: 1.147 [0.000, 2.000],  loss: 3.406514, mae: 32.163799, mean_q: -47.323769\n",
      " 55252/100000: episode: 295, duration: 1.304s, episode steps: 200, steps per second: 153, episode reward: -200.000, mean reward: -1.000 [-1.000, -1.000], mean action: 1.205 [0.000, 2.000],  loss: 4.503245, mae: 32.345589, mean_q: -47.581425\n",
      " 55348/100000: episode: 296, duration: 0.629s, episode steps:  96, steps per second: 153, episode reward: -96.000, mean reward: -1.000 [-1.000, -1.000], mean action: 1.302 [0.000, 2.000],  loss: 4.267297, mae: 31.880013, mean_q: -46.915131\n",
      " 55505/100000: episode: 297, duration: 1.032s, episode steps: 157, steps per second: 152, episode reward: -157.000, mean reward: -1.000 [-1.000, -1.000], mean action: 0.968 [0.000, 2.000],  loss: 4.118306, mae: 32.028736, mean_q: -47.139534\n",
      " 55666/100000: episode: 298, duration: 1.053s, episode steps: 161, steps per second: 153, episode reward: -161.000, mean reward: -1.000 [-1.000, -1.000], mean action: 1.149 [0.000, 2.000],  loss: 2.018282, mae: 31.807880, mean_q: -46.918514\n",
      " 55827/100000: episode: 299, duration: 1.057s, episode steps: 161, steps per second: 152, episode reward: -161.000, mean reward: -1.000 [-1.000, -1.000], mean action: 1.137 [0.000, 2.000],  loss: 4.094661, mae: 31.565575, mean_q: -46.462410\n",
      " 56027/100000: episode: 300, duration: 1.305s, episode steps: 200, steps per second: 153, episode reward: -200.000, mean reward: -1.000 [-1.000, -1.000], mean action: 1.170 [0.000, 2.000],  loss: 4.934711, mae: 31.525890, mean_q: -46.344826\n",
      " 56194/100000: episode: 301, duration: 1.096s, episode steps: 167, steps per second: 152, episode reward: -167.000, mean reward: -1.000 [-1.000, -1.000], mean action: 1.180 [0.000, 2.000],  loss: 2.715050, mae: 31.459309, mean_q: -46.317585\n",
      " 56394/100000: episode: 302, duration: 1.306s, episode steps: 200, steps per second: 153, episode reward: -200.000, mean reward: -1.000 [-1.000, -1.000], mean action: 1.130 [0.000, 2.000],  loss: 3.640430, mae: 31.343418, mean_q: -46.174942\n",
      " 56569/100000: episode: 303, duration: 1.143s, episode steps: 175, steps per second: 153, episode reward: -175.000, mean reward: -1.000 [-1.000, -1.000], mean action: 1.063 [0.000, 2.000],  loss: 5.138925, mae: 31.081568, mean_q: -45.692822\n",
      " 56729/100000: episode: 304, duration: 1.047s, episode steps: 160, steps per second: 153, episode reward: -160.000, mean reward: -1.000 [-1.000, -1.000], mean action: 1.031 [0.000, 2.000],  loss: 3.434787, mae: 31.076925, mean_q: -45.811714\n",
      " 56929/100000: episode: 305, duration: 1.309s, episode steps: 200, steps per second: 153, episode reward: -200.000, mean reward: -1.000 [-1.000, -1.000], mean action: 1.350 [0.000, 2.000],  loss: 2.437544, mae: 30.995796, mean_q: -45.739365\n",
      " 57096/100000: episode: 306, duration: 1.095s, episode steps: 167, steps per second: 153, episode reward: -167.000, mean reward: -1.000 [-1.000, -1.000], mean action: 1.204 [0.000, 2.000],  loss: 3.503670, mae: 30.852381, mean_q: -45.461178\n",
      " 57257/100000: episode: 307, duration: 1.059s, episode steps: 161, steps per second: 152, episode reward: -161.000, mean reward: -1.000 [-1.000, -1.000], mean action: 1.093 [0.000, 2.000],  loss: 4.290345, mae: 30.626459, mean_q: -45.041653\n",
      " 57411/100000: episode: 308, duration: 1.011s, episode steps: 154, steps per second: 152, episode reward: -154.000, mean reward: -1.000 [-1.000, -1.000], mean action: 1.195 [0.000, 2.000],  loss: 3.021548, mae: 30.750111, mean_q: -45.346184\n",
      " 57569/100000: episode: 309, duration: 1.040s, episode steps: 158, steps per second: 152, episode reward: -158.000, mean reward: -1.000 [-1.000, -1.000], mean action: 1.196 [0.000, 2.000],  loss: 2.783829, mae: 30.972033, mean_q: -45.653690\n",
      " 57720/100000: episode: 310, duration: 0.991s, episode steps: 151, steps per second: 152, episode reward: -151.000, mean reward: -1.000 [-1.000, -1.000], mean action: 1.119 [0.000, 2.000],  loss: 3.089595, mae: 30.384190, mean_q: -44.739204\n",
      " 57875/100000: episode: 311, duration: 1.017s, episode steps: 155, steps per second: 152, episode reward: -155.000, mean reward: -1.000 [-1.000, -1.000], mean action: 1.200 [0.000, 2.000],  loss: 2.498738, mae: 30.535383, mean_q: -44.962967\n",
      " 58032/100000: episode: 312, duration: 1.029s, episode steps: 157, steps per second: 153, episode reward: -157.000, mean reward: -1.000 [-1.000, -1.000], mean action: 1.121 [0.000, 2.000],  loss: 3.409514, mae: 30.462971, mean_q: -44.843906\n",
      " 58187/100000: episode: 313, duration: 1.017s, episode steps: 155, steps per second: 152, episode reward: -155.000, mean reward: -1.000 [-1.000, -1.000], mean action: 1.148 [0.000, 2.000],  loss: 4.539678, mae: 30.390720, mean_q: -44.641369\n",
      " 58353/100000: episode: 314, duration: 1.096s, episode steps: 166, steps per second: 152, episode reward: -166.000, mean reward: -1.000 [-1.000, -1.000], mean action: 1.199 [0.000, 2.000],  loss: 3.091726, mae: 30.219997, mean_q: -44.481461\n",
      " 58516/100000: episode: 315, duration: 1.075s, episode steps: 163, steps per second: 152, episode reward: -163.000, mean reward: -1.000 [-1.000, -1.000], mean action: 1.160 [0.000, 2.000],  loss: 2.951034, mae: 30.271994, mean_q: -44.549553\n",
      " 58684/100000: episode: 316, duration: 1.104s, episode steps: 168, steps per second: 152, episode reward: -168.000, mean reward: -1.000 [-1.000, -1.000], mean action: 1.214 [0.000, 2.000],  loss: 3.479337, mae: 30.173828, mean_q: -44.342129\n",
      " 58836/100000: episode: 317, duration: 0.999s, episode steps: 152, steps per second: 152, episode reward: -152.000, mean reward: -1.000 [-1.000, -1.000], mean action: 0.993 [0.000, 2.000],  loss: 3.543806, mae: 29.998999, mean_q: -44.037304\n",
      " 59017/100000: episode: 318, duration: 1.187s, episode steps: 181, steps per second: 152, episode reward: -181.000, mean reward: -1.000 [-1.000, -1.000], mean action: 0.983 [0.000, 2.000],  loss: 2.760417, mae: 30.009426, mean_q: -44.142094\n",
      " 59182/100000: episode: 319, duration: 1.086s, episode steps: 165, steps per second: 152, episode reward: -165.000, mean reward: -1.000 [-1.000, -1.000], mean action: 1.000 [0.000, 2.000],  loss: 3.489817, mae: 29.871008, mean_q: -43.884819\n",
      " 59334/100000: episode: 320, duration: 1.000s, episode steps: 152, steps per second: 152, episode reward: -152.000, mean reward: -1.000 [-1.000, -1.000], mean action: 1.132 [0.000, 2.000],  loss: 3.351290, mae: 29.832895, mean_q: -43.844513\n",
      " 59485/100000: episode: 321, duration: 1.000s, episode steps: 151, steps per second: 151, episode reward: -151.000, mean reward: -1.000 [-1.000, -1.000], mean action: 1.060 [0.000, 2.000],  loss: 2.176825, mae: 29.715895, mean_q: -43.775482\n",
      " 59635/100000: episode: 322, duration: 0.988s, episode steps: 150, steps per second: 152, episode reward: -150.000, mean reward: -1.000 [-1.000, -1.000], mean action: 1.127 [0.000, 2.000],  loss: 3.357045, mae: 29.752478, mean_q: -43.821655\n",
      " 59797/100000: episode: 323, duration: 1.064s, episode steps: 162, steps per second: 152, episode reward: -162.000, mean reward: -1.000 [-1.000, -1.000], mean action: 1.031 [0.000, 2.000],  loss: 2.308560, mae: 29.931255, mean_q: -44.087860\n",
      " 59952/100000: episode: 324, duration: 1.019s, episode steps: 155, steps per second: 152, episode reward: -155.000, mean reward: -1.000 [-1.000, -1.000], mean action: 1.187 [0.000, 2.000],  loss: 0.963539, mae: 29.762941, mean_q: -43.883789\n",
      " 60096/100000: episode: 325, duration: 0.946s, episode steps: 144, steps per second: 152, episode reward: -144.000, mean reward: -1.000 [-1.000, -1.000], mean action: 1.188 [0.000, 2.000],  loss: 2.087598, mae: 29.941053, mean_q: -44.125385\n",
      " 60246/100000: episode: 326, duration: 0.986s, episode steps: 150, steps per second: 152, episode reward: -150.000, mean reward: -1.000 [-1.000, -1.000], mean action: 1.100 [0.000, 2.000],  loss: 2.622156, mae: 29.632545, mean_q: -43.635067\n",
      " 60404/100000: episode: 327, duration: 1.042s, episode steps: 158, steps per second: 152, episode reward: -158.000, mean reward: -1.000 [-1.000, -1.000], mean action: 1.184 [0.000, 2.000],  loss: 2.937953, mae: 29.667431, mean_q: -43.661331\n",
      " 60549/100000: episode: 328, duration: 0.955s, episode steps: 145, steps per second: 152, episode reward: -145.000, mean reward: -1.000 [-1.000, -1.000], mean action: 1.138 [0.000, 2.000],  loss: 2.593669, mae: 29.572420, mean_q: -43.518642\n",
      " 60694/100000: episode: 329, duration: 0.959s, episode steps: 145, steps per second: 151, episode reward: -145.000, mean reward: -1.000 [-1.000, -1.000], mean action: 1.007 [0.000, 2.000],  loss: 3.079518, mae: 29.559376, mean_q: -43.472012\n",
      " 60849/100000: episode: 330, duration: 1.080s, episode steps: 155, steps per second: 143, episode reward: -155.000, mean reward: -1.000 [-1.000, -1.000], mean action: 1.052 [0.000, 2.000],  loss: 2.253451, mae: 29.492844, mean_q: -43.392269\n",
      " 61019/100000: episode: 331, duration: 1.118s, episode steps: 170, steps per second: 152, episode reward: -170.000, mean reward: -1.000 [-1.000, -1.000], mean action: 1.065 [0.000, 2.000],  loss: 2.618912, mae: 29.510298, mean_q: -43.385616\n",
      " 61192/100000: episode: 332, duration: 1.137s, episode steps: 173, steps per second: 152, episode reward: -173.000, mean reward: -1.000 [-1.000, -1.000], mean action: 1.087 [0.000, 2.000],  loss: 1.999423, mae: 29.418282, mean_q: -43.342365\n",
      " 61366/100000: episode: 333, duration: 1.147s, episode steps: 174, steps per second: 152, episode reward: -174.000, mean reward: -1.000 [-1.000, -1.000], mean action: 0.960 [0.000, 2.000],  loss: 3.890476, mae: 29.697332, mean_q: -43.679558\n",
      " 61526/100000: episode: 334, duration: 1.056s, episode steps: 160, steps per second: 151, episode reward: -160.000, mean reward: -1.000 [-1.000, -1.000], mean action: 0.919 [0.000, 2.000],  loss: 3.889475, mae: 29.281261, mean_q: -43.058197\n",
      " 61680/100000: episode: 335, duration: 1.013s, episode steps: 154, steps per second: 152, episode reward: -154.000, mean reward: -1.000 [-1.000, -1.000], mean action: 1.019 [0.000, 2.000],  loss: 2.129534, mae: 29.123966, mean_q: -42.921684\n",
      " 61859/100000: episode: 336, duration: 1.179s, episode steps: 179, steps per second: 152, episode reward: -179.000, mean reward: -1.000 [-1.000, -1.000], mean action: 1.240 [0.000, 2.000],  loss: 3.098607, mae: 29.491606, mean_q: -43.421017\n",
      " 62012/100000: episode: 337, duration: 1.007s, episode steps: 153, steps per second: 152, episode reward: -153.000, mean reward: -1.000 [-1.000, -1.000], mean action: 1.059 [0.000, 2.000],  loss: 1.586146, mae: 29.167088, mean_q: -43.016689\n",
      " 62167/100000: episode: 338, duration: 1.020s, episode steps: 155, steps per second: 152, episode reward: -155.000, mean reward: -1.000 [-1.000, -1.000], mean action: 1.090 [0.000, 2.000],  loss: 1.920550, mae: 29.399366, mean_q: -43.329147\n",
      " 62317/100000: episode: 339, duration: 0.992s, episode steps: 150, steps per second: 151, episode reward: -150.000, mean reward: -1.000 [-1.000, -1.000], mean action: 1.040 [0.000, 2.000],  loss: 2.036638, mae: 29.361504, mean_q: -43.256210\n",
      " 62468/100000: episode: 340, duration: 1.001s, episode steps: 151, steps per second: 151, episode reward: -151.000, mean reward: -1.000 [-1.000, -1.000], mean action: 1.040 [0.000, 2.000],  loss: 1.240035, mae: 29.030260, mean_q: -42.810345\n",
      " 62583/100000: episode: 341, duration: 0.758s, episode steps: 115, steps per second: 152, episode reward: -115.000, mean reward: -1.000 [-1.000, -1.000], mean action: 1.339 [0.000, 2.000],  loss: 3.820282, mae: 29.583389, mean_q: -43.436508\n",
      " 62740/100000: episode: 342, duration: 1.035s, episode steps: 157, steps per second: 152, episode reward: -157.000, mean reward: -1.000 [-1.000, -1.000], mean action: 0.981 [0.000, 2.000],  loss: 3.502573, mae: 29.225456, mean_q: -42.973007\n",
      " 62901/100000: episode: 343, duration: 1.062s, episode steps: 161, steps per second: 152, episode reward: -161.000, mean reward: -1.000 [-1.000, -1.000], mean action: 1.093 [0.000, 2.000],  loss: 2.032297, mae: 28.867235, mean_q: -42.538555\n",
      " 63060/100000: episode: 344, duration: 1.048s, episode steps: 159, steps per second: 152, episode reward: -159.000, mean reward: -1.000 [-1.000, -1.000], mean action: 1.101 [0.000, 2.000],  loss: 3.569723, mae: 29.216368, mean_q: -42.969978\n",
      " 63220/100000: episode: 345, duration: 1.053s, episode steps: 160, steps per second: 152, episode reward: -160.000, mean reward: -1.000 [-1.000, -1.000], mean action: 1.125 [0.000, 2.000],  loss: 2.282306, mae: 29.129002, mean_q: -42.856674\n",
      " 63369/100000: episode: 346, duration: 0.983s, episode steps: 149, steps per second: 152, episode reward: -149.000, mean reward: -1.000 [-1.000, -1.000], mean action: 1.087 [0.000, 2.000],  loss: 3.137463, mae: 29.071993, mean_q: -42.751602\n",
      " 63521/100000: episode: 347, duration: 1.009s, episode steps: 152, steps per second: 151, episode reward: -152.000, mean reward: -1.000 [-1.000, -1.000], mean action: 1.033 [0.000, 2.000],  loss: 3.179247, mae: 29.129992, mean_q: -42.829620\n",
      " 63670/100000: episode: 348, duration: 1.108s, episode steps: 149, steps per second: 134, episode reward: -149.000, mean reward: -1.000 [-1.000, -1.000], mean action: 1.087 [0.000, 2.000],  loss: 2.321312, mae: 28.884340, mean_q: -42.541580\n",
      " 63827/100000: episode: 349, duration: 1.047s, episode steps: 157, steps per second: 150, episode reward: -157.000, mean reward: -1.000 [-1.000, -1.000], mean action: 1.134 [0.000, 2.000],  loss: 1.340603, mae: 29.047876, mean_q: -42.819324\n",
      " 63991/100000: episode: 350, duration: 1.083s, episode steps: 164, steps per second: 151, episode reward: -164.000, mean reward: -1.000 [-1.000, -1.000], mean action: 1.122 [0.000, 2.000],  loss: 2.352222, mae: 29.012457, mean_q: -42.724007\n",
      " 64143/100000: episode: 351, duration: 1.007s, episode steps: 152, steps per second: 151, episode reward: -152.000, mean reward: -1.000 [-1.000, -1.000], mean action: 1.033 [0.000, 2.000],  loss: 2.110953, mae: 28.902164, mean_q: -42.534229\n",
      " 64291/100000: episode: 352, duration: 1.028s, episode steps: 148, steps per second: 144, episode reward: -148.000, mean reward: -1.000 [-1.000, -1.000], mean action: 1.041 [0.000, 2.000],  loss: 2.246059, mae: 28.640047, mean_q: -42.123230\n",
      " 64449/100000: episode: 353, duration: 1.043s, episode steps: 158, steps per second: 151, episode reward: -158.000, mean reward: -1.000 [-1.000, -1.000], mean action: 1.120 [0.000, 2.000],  loss: 2.666721, mae: 28.945566, mean_q: -42.586094\n",
      " 64614/100000: episode: 354, duration: 1.095s, episode steps: 165, steps per second: 151, episode reward: -165.000, mean reward: -1.000 [-1.000, -1.000], mean action: 1.200 [0.000, 2.000],  loss: 2.081896, mae: 29.106817, mean_q: -42.865696\n",
      " 64770/100000: episode: 355, duration: 1.032s, episode steps: 156, steps per second: 151, episode reward: -156.000, mean reward: -1.000 [-1.000, -1.000], mean action: 1.160 [0.000, 2.000],  loss: 3.117246, mae: 28.766582, mean_q: -42.313599\n",
      " 64947/100000: episode: 356, duration: 1.170s, episode steps: 177, steps per second: 151, episode reward: -177.000, mean reward: -1.000 [-1.000, -1.000], mean action: 0.966 [0.000, 2.000],  loss: 2.699141, mae: 28.809618, mean_q: -42.382675\n",
      " 65112/100000: episode: 357, duration: 1.091s, episode steps: 165, steps per second: 151, episode reward: -165.000, mean reward: -1.000 [-1.000, -1.000], mean action: 1.133 [0.000, 2.000],  loss: 2.596901, mae: 28.729563, mean_q: -42.269657\n",
      " 65263/100000: episode: 358, duration: 1.000s, episode steps: 151, steps per second: 151, episode reward: -151.000, mean reward: -1.000 [-1.000, -1.000], mean action: 0.960 [0.000, 2.000],  loss: 2.634510, mae: 28.891243, mean_q: -42.496021\n",
      " 65430/100000: episode: 359, duration: 1.107s, episode steps: 167, steps per second: 151, episode reward: -167.000, mean reward: -1.000 [-1.000, -1.000], mean action: 1.138 [0.000, 2.000],  loss: 3.298697, mae: 28.729921, mean_q: -42.166061\n",
      " 65593/100000: episode: 360, duration: 1.090s, episode steps: 163, steps per second: 150, episode reward: -163.000, mean reward: -1.000 [-1.000, -1.000], mean action: 1.104 [0.000, 2.000],  loss: 3.640579, mae: 28.520981, mean_q: -41.896671\n",
      " 65740/100000: episode: 361, duration: 0.978s, episode steps: 147, steps per second: 150, episode reward: -147.000, mean reward: -1.000 [-1.000, -1.000], mean action: 1.082 [0.000, 2.000],  loss: 4.886067, mae: 28.766235, mean_q: -42.182579\n",
      " 65900/100000: episode: 362, duration: 1.060s, episode steps: 160, steps per second: 151, episode reward: -160.000, mean reward: -1.000 [-1.000, -1.000], mean action: 1.075 [0.000, 2.000],  loss: 3.056083, mae: 28.456615, mean_q: -41.794384\n",
      " 66052/100000: episode: 363, duration: 1.009s, episode steps: 152, steps per second: 151, episode reward: -152.000, mean reward: -1.000 [-1.000, -1.000], mean action: 1.099 [0.000, 2.000],  loss: 2.797865, mae: 28.550222, mean_q: -41.952702\n",
      " 66252/100000: episode: 364, duration: 1.324s, episode steps: 200, steps per second: 151, episode reward: -200.000, mean reward: -1.000 [-1.000, -1.000], mean action: 0.545 [0.000, 2.000],  loss: 2.743916, mae: 28.520964, mean_q: -41.925381\n",
      " 66358/100000: episode: 365, duration: 0.705s, episode steps: 106, steps per second: 150, episode reward: -106.000, mean reward: -1.000 [-1.000, -1.000], mean action: 1.321 [0.000, 2.000],  loss: 2.643647, mae: 28.286724, mean_q: -41.611088\n",
      " 66511/100000: episode: 366, duration: 1.015s, episode steps: 153, steps per second: 151, episode reward: -153.000, mean reward: -1.000 [-1.000, -1.000], mean action: 1.059 [0.000, 2.000],  loss: 3.113893, mae: 28.649740, mean_q: -42.108429\n",
      " 66669/100000: episode: 367, duration: 1.050s, episode steps: 158, steps per second: 150, episode reward: -158.000, mean reward: -1.000 [-1.000, -1.000], mean action: 1.025 [0.000, 2.000],  loss: 0.917512, mae: 28.721008, mean_q: -42.344288\n",
      " 66829/100000: episode: 368, duration: 1.062s, episode steps: 160, steps per second: 151, episode reward: -160.000, mean reward: -1.000 [-1.000, -1.000], mean action: 1.100 [0.000, 2.000],  loss: 2.114064, mae: 28.509506, mean_q: -41.940514\n",
      " 66977/100000: episode: 369, duration: 0.981s, episode steps: 148, steps per second: 151, episode reward: -148.000, mean reward: -1.000 [-1.000, -1.000], mean action: 1.108 [0.000, 2.000],  loss: 2.642828, mae: 28.724461, mean_q: -42.266491\n",
      " 67130/100000: episode: 370, duration: 1.017s, episode steps: 153, steps per second: 150, episode reward: -153.000, mean reward: -1.000 [-1.000, -1.000], mean action: 1.046 [0.000, 2.000],  loss: 2.094477, mae: 28.798937, mean_q: -42.422829\n",
      " 67279/100000: episode: 371, duration: 1.000s, episode steps: 149, steps per second: 149, episode reward: -149.000, mean reward: -1.000 [-1.000, -1.000], mean action: 1.128 [0.000, 2.000],  loss: 1.707524, mae: 28.782131, mean_q: -42.356712\n",
      " 67437/100000: episode: 372, duration: 1.049s, episode steps: 158, steps per second: 151, episode reward: -158.000, mean reward: -1.000 [-1.000, -1.000], mean action: 1.076 [0.000, 2.000],  loss: 3.340026, mae: 28.717749, mean_q: -42.190651\n",
      " 67614/100000: episode: 373, duration: 1.182s, episode steps: 177, steps per second: 150, episode reward: -177.000, mean reward: -1.000 [-1.000, -1.000], mean action: 1.181 [0.000, 2.000],  loss: 2.120505, mae: 28.859653, mean_q: -42.496029\n",
      " 67772/100000: episode: 374, duration: 1.050s, episode steps: 158, steps per second: 150, episode reward: -158.000, mean reward: -1.000 [-1.000, -1.000], mean action: 1.032 [0.000, 2.000],  loss: 3.221684, mae: 28.845629, mean_q: -42.410069\n",
      " 67934/100000: episode: 375, duration: 1.079s, episode steps: 162, steps per second: 150, episode reward: -162.000, mean reward: -1.000 [-1.000, -1.000], mean action: 1.123 [0.000, 2.000],  loss: 2.126836, mae: 28.767603, mean_q: -42.338890\n",
      " 68098/100000: episode: 376, duration: 1.091s, episode steps: 164, steps per second: 150, episode reward: -164.000, mean reward: -1.000 [-1.000, -1.000], mean action: 1.091 [0.000, 2.000],  loss: 1.921390, mae: 28.810368, mean_q: -42.448914\n",
      " 68264/100000: episode: 377, duration: 1.105s, episode steps: 166, steps per second: 150, episode reward: -166.000, mean reward: -1.000 [-1.000, -1.000], mean action: 1.163 [0.000, 2.000],  loss: 1.621106, mae: 28.963690, mean_q: -42.643761\n",
      " 68415/100000: episode: 378, duration: 1.005s, episode steps: 151, steps per second: 150, episode reward: -151.000, mean reward: -1.000 [-1.000, -1.000], mean action: 1.026 [0.000, 2.000],  loss: 2.684177, mae: 28.705236, mean_q: -42.187286\n",
      " 68564/100000: episode: 379, duration: 0.989s, episode steps: 149, steps per second: 151, episode reward: -149.000, mean reward: -1.000 [-1.000, -1.000], mean action: 0.973 [0.000, 2.000],  loss: 2.623905, mae: 28.927588, mean_q: -42.549557\n",
      " 68728/100000: episode: 380, duration: 1.092s, episode steps: 164, steps per second: 150, episode reward: -164.000, mean reward: -1.000 [-1.000, -1.000], mean action: 1.037 [0.000, 2.000],  loss: 3.079291, mae: 28.841314, mean_q: -42.367668\n",
      " 68887/100000: episode: 381, duration: 1.060s, episode steps: 159, steps per second: 150, episode reward: -159.000, mean reward: -1.000 [-1.000, -1.000], mean action: 1.057 [0.000, 2.000],  loss: 2.009202, mae: 28.969006, mean_q: -42.640667\n",
      " 69047/100000: episode: 382, duration: 1.071s, episode steps: 160, steps per second: 149, episode reward: -160.000, mean reward: -1.000 [-1.000, -1.000], mean action: 1.062 [0.000, 2.000],  loss: 3.223043, mae: 28.846930, mean_q: -42.388428\n",
      " 69241/100000: episode: 383, duration: 1.289s, episode steps: 194, steps per second: 150, episode reward: -194.000, mean reward: -1.000 [-1.000, -1.000], mean action: 1.031 [0.000, 2.000],  loss: 1.996666, mae: 28.811644, mean_q: -42.443378\n",
      " 69412/100000: episode: 384, duration: 1.139s, episode steps: 171, steps per second: 150, episode reward: -171.000, mean reward: -1.000 [-1.000, -1.000], mean action: 1.047 [0.000, 2.000],  loss: 2.161545, mae: 28.802561, mean_q: -42.397900\n",
      " 69555/100000: episode: 385, duration: 0.953s, episode steps: 143, steps per second: 150, episode reward: -143.000, mean reward: -1.000 [-1.000, -1.000], mean action: 1.252 [0.000, 2.000],  loss: 3.711877, mae: 29.107845, mean_q: -42.798557\n",
      " 69713/100000: episode: 386, duration: 1.051s, episode steps: 158, steps per second: 150, episode reward: -158.000, mean reward: -1.000 [-1.000, -1.000], mean action: 1.108 [0.000, 2.000],  loss: 3.374755, mae: 29.162106, mean_q: -42.948380\n",
      " 69876/100000: episode: 387, duration: 1.114s, episode steps: 163, steps per second: 146, episode reward: -163.000, mean reward: -1.000 [-1.000, -1.000], mean action: 1.098 [0.000, 2.000],  loss: 2.528560, mae: 29.018234, mean_q: -42.759296\n",
      " 70061/100000: episode: 388, duration: 1.232s, episode steps: 185, steps per second: 150, episode reward: -185.000, mean reward: -1.000 [-1.000, -1.000], mean action: 1.276 [0.000, 2.000],  loss: 1.743544, mae: 29.151152, mean_q: -43.024807\n",
      " 70228/100000: episode: 389, duration: 1.114s, episode steps: 167, steps per second: 150, episode reward: -167.000, mean reward: -1.000 [-1.000, -1.000], mean action: 0.952 [0.000, 2.000],  loss: 2.848297, mae: 29.347622, mean_q: -43.220684\n",
      " 70384/100000: episode: 390, duration: 1.042s, episode steps: 156, steps per second: 150, episode reward: -156.000, mean reward: -1.000 [-1.000, -1.000], mean action: 1.109 [0.000, 2.000],  loss: 2.667090, mae: 29.142778, mean_q: -42.925701\n",
      " 70576/100000: episode: 391, duration: 1.273s, episode steps: 192, steps per second: 151, episode reward: -192.000, mean reward: -1.000 [-1.000, -1.000], mean action: 0.958 [0.000, 2.000],  loss: 2.720485, mae: 29.376394, mean_q: -43.234955\n",
      " 70729/100000: episode: 392, duration: 1.021s, episode steps: 153, steps per second: 150, episode reward: -153.000, mean reward: -1.000 [-1.000, -1.000], mean action: 1.085 [0.000, 2.000],  loss: 2.345928, mae: 28.976870, mean_q: -42.681896\n",
      " 70826/100000: episode: 393, duration: 0.653s, episode steps:  97, steps per second: 149, episode reward: -97.000, mean reward: -1.000 [-1.000, -1.000], mean action: 1.196 [0.000, 2.000],  loss: 2.555618, mae: 29.209978, mean_q: -42.880833\n",
      " 70974/100000: episode: 394, duration: 0.986s, episode steps: 148, steps per second: 150, episode reward: -148.000, mean reward: -1.000 [-1.000, -1.000], mean action: 1.034 [0.000, 2.000],  loss: 2.184436, mae: 29.342430, mean_q: -43.190590\n",
      " 71127/100000: episode: 395, duration: 1.022s, episode steps: 153, steps per second: 150, episode reward: -153.000, mean reward: -1.000 [-1.000, -1.000], mean action: 1.124 [0.000, 2.000],  loss: 1.481329, mae: 29.266365, mean_q: -43.126587\n",
      " 71287/100000: episode: 396, duration: 1.065s, episode steps: 160, steps per second: 150, episode reward: -160.000, mean reward: -1.000 [-1.000, -1.000], mean action: 1.163 [0.000, 2.000],  loss: 3.168608, mae: 29.375690, mean_q: -43.204529\n",
      " 71440/100000: episode: 397, duration: 1.020s, episode steps: 153, steps per second: 150, episode reward: -153.000, mean reward: -1.000 [-1.000, -1.000], mean action: 1.105 [0.000, 2.000],  loss: 2.111794, mae: 29.313208, mean_q: -43.177895\n",
      " 71640/100000: episode: 398, duration: 1.335s, episode steps: 200, steps per second: 150, episode reward: -200.000, mean reward: -1.000 [-1.000, -1.000], mean action: 1.040 [0.000, 2.000],  loss: 3.593518, mae: 29.411963, mean_q: -43.254501\n",
      " 71791/100000: episode: 399, duration: 1.004s, episode steps: 151, steps per second: 150, episode reward: -151.000, mean reward: -1.000 [-1.000, -1.000], mean action: 0.974 [0.000, 2.000],  loss: 2.316232, mae: 29.629171, mean_q: -43.611607\n",
      " 71906/100000: episode: 400, duration: 0.771s, episode steps: 115, steps per second: 149, episode reward: -115.000, mean reward: -1.000 [-1.000, -1.000], mean action: 1.365 [0.000, 2.000],  loss: 2.975996, mae: 29.591949, mean_q: -43.541740\n",
      " 72061/100000: episode: 401, duration: 1.035s, episode steps: 155, steps per second: 150, episode reward: -155.000, mean reward: -1.000 [-1.000, -1.000], mean action: 1.039 [0.000, 2.000],  loss: 2.528105, mae: 29.616142, mean_q: -43.567692\n",
      " 72222/100000: episode: 402, duration: 1.072s, episode steps: 161, steps per second: 150, episode reward: -161.000, mean reward: -1.000 [-1.000, -1.000], mean action: 1.093 [0.000, 2.000],  loss: 2.116416, mae: 29.368298, mean_q: -43.238232\n",
      " 72382/100000: episode: 403, duration: 1.074s, episode steps: 160, steps per second: 149, episode reward: -160.000, mean reward: -1.000 [-1.000, -1.000], mean action: 1.194 [0.000, 2.000],  loss: 2.504304, mae: 29.732727, mean_q: -43.792641\n",
      " 72568/100000: episode: 404, duration: 1.241s, episode steps: 186, steps per second: 150, episode reward: -186.000, mean reward: -1.000 [-1.000, -1.000], mean action: 0.892 [0.000, 2.000],  loss: 2.439512, mae: 29.596025, mean_q: -43.572025\n",
      " 72715/100000: episode: 405, duration: 0.979s, episode steps: 147, steps per second: 150, episode reward: -147.000, mean reward: -1.000 [-1.000, -1.000], mean action: 1.041 [0.000, 2.000],  loss: 3.091378, mae: 29.401005, mean_q: -43.223312\n",
      " 72888/100000: episode: 406, duration: 1.156s, episode steps: 173, steps per second: 150, episode reward: -173.000, mean reward: -1.000 [-1.000, -1.000], mean action: 1.087 [0.000, 2.000],  loss: 1.477202, mae: 29.609911, mean_q: -43.633839\n",
      " 73054/100000: episode: 407, duration: 1.109s, episode steps: 166, steps per second: 150, episode reward: -166.000, mean reward: -1.000 [-1.000, -1.000], mean action: 1.078 [0.000, 2.000],  loss: 3.546253, mae: 29.746218, mean_q: -43.753216\n",
      " 73212/100000: episode: 408, duration: 1.053s, episode steps: 158, steps per second: 150, episode reward: -158.000, mean reward: -1.000 [-1.000, -1.000], mean action: 1.139 [0.000, 2.000],  loss: 1.812701, mae: 29.694723, mean_q: -43.728447\n",
      " 73367/100000: episode: 409, duration: 1.036s, episode steps: 155, steps per second: 150, episode reward: -155.000, mean reward: -1.000 [-1.000, -1.000], mean action: 0.987 [0.000, 2.000],  loss: 2.917872, mae: 29.685513, mean_q: -43.671333\n",
      " 73520/100000: episode: 410, duration: 1.086s, episode steps: 153, steps per second: 141, episode reward: -153.000, mean reward: -1.000 [-1.000, -1.000], mean action: 1.085 [0.000, 2.000],  loss: 2.165382, mae: 29.711384, mean_q: -43.733799\n",
      " 73616/100000: episode: 411, duration: 0.652s, episode steps:  96, steps per second: 147, episode reward: -96.000, mean reward: -1.000 [-1.000, -1.000], mean action: 1.354 [0.000, 2.000],  loss: 1.270810, mae: 29.542704, mean_q: -43.533894\n",
      " 73816/100000: episode: 412, duration: 1.339s, episode steps: 200, steps per second: 149, episode reward: -200.000, mean reward: -1.000 [-1.000, -1.000], mean action: 0.540 [0.000, 2.000],  loss: 3.732919, mae: 29.749418, mean_q: -43.734573\n",
      " 73973/100000: episode: 413, duration: 1.049s, episode steps: 157, steps per second: 150, episode reward: -157.000, mean reward: -1.000 [-1.000, -1.000], mean action: 1.159 [0.000, 2.000],  loss: 2.976138, mae: 29.888878, mean_q: -43.979374\n",
      " 74173/100000: episode: 414, duration: 1.330s, episode steps: 200, steps per second: 150, episode reward: -200.000, mean reward: -1.000 [-1.000, -1.000], mean action: 1.340 [0.000, 2.000],  loss: 2.636693, mae: 29.752617, mean_q: -43.825508\n",
      " 74349/100000: episode: 415, duration: 1.182s, episode steps: 176, steps per second: 149, episode reward: -176.000, mean reward: -1.000 [-1.000, -1.000], mean action: 1.040 [0.000, 2.000],  loss: 2.618229, mae: 29.703453, mean_q: -43.750690\n",
      " 74549/100000: episode: 416, duration: 1.337s, episode steps: 200, steps per second: 150, episode reward: -200.000, mean reward: -1.000 [-1.000, -1.000], mean action: 0.520 [0.000, 2.000],  loss: 1.878429, mae: 29.612917, mean_q: -43.652943\n",
      " 74699/100000: episode: 417, duration: 1.002s, episode steps: 150, steps per second: 150, episode reward: -150.000, mean reward: -1.000 [-1.000, -1.000], mean action: 1.140 [0.000, 2.000],  loss: 1.849231, mae: 29.802237, mean_q: -43.922775\n",
      " 74854/100000: episode: 418, duration: 1.034s, episode steps: 155, steps per second: 150, episode reward: -155.000, mean reward: -1.000 [-1.000, -1.000], mean action: 1.058 [0.000, 2.000],  loss: 2.661099, mae: 29.786152, mean_q: -43.857285\n",
      " 74975/100000: episode: 419, duration: 0.815s, episode steps: 121, steps per second: 148, episode reward: -121.000, mean reward: -1.000 [-1.000, -1.000], mean action: 1.512 [0.000, 2.000],  loss: 3.094666, mae: 30.099203, mean_q: -44.333977\n",
      " 75112/100000: episode: 420, duration: 0.916s, episode steps: 137, steps per second: 150, episode reward: -137.000, mean reward: -1.000 [-1.000, -1.000], mean action: 1.204 [0.000, 2.000],  loss: 2.892304, mae: 29.805786, mean_q: -43.926075\n",
      " 75262/100000: episode: 421, duration: 1.004s, episode steps: 150, steps per second: 149, episode reward: -150.000, mean reward: -1.000 [-1.000, -1.000], mean action: 1.047 [0.000, 2.000],  loss: 1.234798, mae: 30.051533, mean_q: -44.389206\n",
      " 75383/100000: episode: 422, duration: 0.814s, episode steps: 121, steps per second: 149, episode reward: -121.000, mean reward: -1.000 [-1.000, -1.000], mean action: 1.306 [0.000, 2.000],  loss: 3.977669, mae: 30.058973, mean_q: -44.278587\n",
      " 75535/100000: episode: 423, duration: 1.020s, episode steps: 152, steps per second: 149, episode reward: -152.000, mean reward: -1.000 [-1.000, -1.000], mean action: 1.132 [0.000, 2.000],  loss: 1.774587, mae: 29.910973, mean_q: -44.108067\n",
      " 75699/100000: episode: 424, duration: 1.102s, episode steps: 164, steps per second: 149, episode reward: -164.000, mean reward: -1.000 [-1.000, -1.000], mean action: 1.055 [0.000, 2.000],  loss: 2.791785, mae: 29.906610, mean_q: -44.024109\n",
      " 75848/100000: episode: 425, duration: 1.004s, episode steps: 149, steps per second: 148, episode reward: -149.000, mean reward: -1.000 [-1.000, -1.000], mean action: 1.148 [0.000, 2.000],  loss: 2.014918, mae: 30.097725, mean_q: -44.380684\n",
      " 76014/100000: episode: 426, duration: 1.109s, episode steps: 166, steps per second: 150, episode reward: -166.000, mean reward: -1.000 [-1.000, -1.000], mean action: 1.217 [0.000, 2.000],  loss: 2.613164, mae: 30.255695, mean_q: -44.596775\n",
      " 76173/100000: episode: 427, duration: 1.064s, episode steps: 159, steps per second: 149, episode reward: -159.000, mean reward: -1.000 [-1.000, -1.000], mean action: 1.006 [0.000, 2.000],  loss: 3.161220, mae: 30.065331, mean_q: -44.298477\n",
      " 76288/100000: episode: 428, duration: 0.776s, episode steps: 115, steps per second: 148, episode reward: -115.000, mean reward: -1.000 [-1.000, -1.000], mean action: 1.548 [0.000, 2.000],  loss: 1.330319, mae: 30.118000, mean_q: -44.435944\n",
      " 76440/100000: episode: 429, duration: 1.016s, episode steps: 152, steps per second: 150, episode reward: -152.000, mean reward: -1.000 [-1.000, -1.000], mean action: 1.072 [0.000, 2.000],  loss: 2.085848, mae: 30.189486, mean_q: -44.522518\n",
      " 76598/100000: episode: 430, duration: 1.058s, episode steps: 158, steps per second: 149, episode reward: -158.000, mean reward: -1.000 [-1.000, -1.000], mean action: 1.057 [0.000, 2.000],  loss: 1.975954, mae: 30.148930, mean_q: -44.484653\n",
      " 76756/100000: episode: 431, duration: 1.061s, episode steps: 158, steps per second: 149, episode reward: -158.000, mean reward: -1.000 [-1.000, -1.000], mean action: 1.032 [0.000, 2.000],  loss: 4.180734, mae: 30.072874, mean_q: -44.270557\n",
      " 76911/100000: episode: 432, duration: 1.039s, episode steps: 155, steps per second: 149, episode reward: -155.000, mean reward: -1.000 [-1.000, -1.000], mean action: 1.161 [0.000, 2.000],  loss: 2.414286, mae: 30.227505, mean_q: -44.623344\n",
      " 77066/100000: episode: 433, duration: 1.037s, episode steps: 155, steps per second: 149, episode reward: -155.000, mean reward: -1.000 [-1.000, -1.000], mean action: 1.174 [0.000, 2.000],  loss: 3.547640, mae: 30.102432, mean_q: -44.322708\n",
      " 77220/100000: episode: 434, duration: 1.033s, episode steps: 154, steps per second: 149, episode reward: -154.000, mean reward: -1.000 [-1.000, -1.000], mean action: 1.006 [0.000, 2.000],  loss: 2.020745, mae: 30.460613, mean_q: -44.947330\n",
      " 77371/100000: episode: 435, duration: 1.016s, episode steps: 151, steps per second: 149, episode reward: -151.000, mean reward: -1.000 [-1.000, -1.000], mean action: 1.146 [0.000, 2.000],  loss: 2.641768, mae: 30.306887, mean_q: -44.687836\n",
      " 77515/100000: episode: 436, duration: 0.966s, episode steps: 144, steps per second: 149, episode reward: -144.000, mean reward: -1.000 [-1.000, -1.000], mean action: 1.257 [0.000, 2.000],  loss: 4.855645, mae: 30.409403, mean_q: -44.765396\n",
      " 77646/100000: episode: 437, duration: 0.889s, episode steps: 131, steps per second: 147, episode reward: -131.000, mean reward: -1.000 [-1.000, -1.000], mean action: 1.344 [0.000, 2.000],  loss: 2.803953, mae: 30.115202, mean_q: -44.406639\n",
      " 77800/100000: episode: 438, duration: 1.040s, episode steps: 154, steps per second: 148, episode reward: -154.000, mean reward: -1.000 [-1.000, -1.000], mean action: 1.091 [0.000, 2.000],  loss: 2.659196, mae: 30.317633, mean_q: -44.691525\n",
      " 77948/100000: episode: 439, duration: 0.996s, episode steps: 148, steps per second: 149, episode reward: -148.000, mean reward: -1.000 [-1.000, -1.000], mean action: 1.196 [0.000, 2.000],  loss: 2.149671, mae: 30.210011, mean_q: -44.588913\n",
      " 78115/100000: episode: 440, duration: 1.116s, episode steps: 167, steps per second: 150, episode reward: -167.000, mean reward: -1.000 [-1.000, -1.000], mean action: 1.216 [0.000, 2.000],  loss: 2.238052, mae: 30.378208, mean_q: -44.804840\n",
      " 78267/100000: episode: 441, duration: 1.019s, episode steps: 152, steps per second: 149, episode reward: -152.000, mean reward: -1.000 [-1.000, -1.000], mean action: 1.092 [0.000, 2.000],  loss: 1.530508, mae: 30.454565, mean_q: -44.960934\n",
      " 78427/100000: episode: 442, duration: 1.074s, episode steps: 160, steps per second: 149, episode reward: -160.000, mean reward: -1.000 [-1.000, -1.000], mean action: 1.094 [0.000, 2.000],  loss: 3.638723, mae: 30.348572, mean_q: -44.693630\n",
      " 78575/100000: episode: 443, duration: 1.000s, episode steps: 148, steps per second: 148, episode reward: -148.000, mean reward: -1.000 [-1.000, -1.000], mean action: 1.169 [0.000, 2.000],  loss: 2.855279, mae: 30.549551, mean_q: -45.062592\n",
      " 78726/100000: episode: 444, duration: 1.015s, episode steps: 151, steps per second: 149, episode reward: -151.000, mean reward: -1.000 [-1.000, -1.000], mean action: 1.099 [0.000, 2.000],  loss: 3.248349, mae: 30.479954, mean_q: -44.879620\n",
      " 78881/100000: episode: 445, duration: 1.084s, episode steps: 155, steps per second: 143, episode reward: -155.000, mean reward: -1.000 [-1.000, -1.000], mean action: 1.374 [0.000, 2.000],  loss: 2.800997, mae: 30.443272, mean_q: -44.897491\n",
      " 79025/100000: episode: 446, duration: 0.967s, episode steps: 144, steps per second: 149, episode reward: -144.000, mean reward: -1.000 [-1.000, -1.000], mean action: 1.083 [0.000, 2.000],  loss: 2.310892, mae: 30.666788, mean_q: -45.267967\n",
      " 79141/100000: episode: 447, duration: 0.780s, episode steps: 116, steps per second: 149, episode reward: -116.000, mean reward: -1.000 [-1.000, -1.000], mean action: 1.552 [0.000, 2.000],  loss: 2.781509, mae: 30.461357, mean_q: -44.921982\n",
      " 79268/100000: episode: 448, duration: 0.854s, episode steps: 127, steps per second: 149, episode reward: -127.000, mean reward: -1.000 [-1.000, -1.000], mean action: 1.402 [0.000, 2.000],  loss: 1.752311, mae: 30.425028, mean_q: -44.937313\n",
      " 79424/100000: episode: 449, duration: 1.051s, episode steps: 156, steps per second: 148, episode reward: -156.000, mean reward: -1.000 [-1.000, -1.000], mean action: 1.071 [0.000, 2.000],  loss: 0.954911, mae: 30.745815, mean_q: -45.418133\n",
      " 79579/100000: episode: 450, duration: 1.047s, episode steps: 155, steps per second: 148, episode reward: -155.000, mean reward: -1.000 [-1.000, -1.000], mean action: 1.084 [0.000, 2.000],  loss: 2.709597, mae: 30.668549, mean_q: -45.228634\n",
      " 79779/100000: episode: 451, duration: 1.343s, episode steps: 200, steps per second: 149, episode reward: -200.000, mean reward: -1.000 [-1.000, -1.000], mean action: 0.985 [0.000, 2.000],  loss: 3.363664, mae: 30.575111, mean_q: -45.014042\n",
      " 79898/100000: episode: 452, duration: 0.802s, episode steps: 119, steps per second: 148, episode reward: -119.000, mean reward: -1.000 [-1.000, -1.000], mean action: 1.437 [0.000, 2.000],  loss: 2.956635, mae: 30.406206, mean_q: -44.805477\n",
      " 80068/100000: episode: 453, duration: 1.146s, episode steps: 170, steps per second: 148, episode reward: -170.000, mean reward: -1.000 [-1.000, -1.000], mean action: 1.118 [0.000, 2.000],  loss: 1.077818, mae: 30.725914, mean_q: -45.403172\n",
      " 80248/100000: episode: 454, duration: 1.210s, episode steps: 180, steps per second: 149, episode reward: -180.000, mean reward: -1.000 [-1.000, -1.000], mean action: 0.983 [0.000, 2.000],  loss: 2.758953, mae: 30.826189, mean_q: -45.430824\n",
      " 80400/100000: episode: 455, duration: 1.026s, episode steps: 152, steps per second: 148, episode reward: -152.000, mean reward: -1.000 [-1.000, -1.000], mean action: 0.993 [0.000, 2.000],  loss: 2.115658, mae: 30.922052, mean_q: -45.566502\n",
      " 80549/100000: episode: 456, duration: 1.006s, episode steps: 149, steps per second: 148, episode reward: -149.000, mean reward: -1.000 [-1.000, -1.000], mean action: 1.114 [0.000, 2.000],  loss: 2.697642, mae: 31.088507, mean_q: -45.829247\n",
      " 80749/100000: episode: 457, duration: 1.343s, episode steps: 200, steps per second: 149, episode reward: -200.000, mean reward: -1.000 [-1.000, -1.000], mean action: 1.215 [0.000, 2.000],  loss: 4.173582, mae: 30.816763, mean_q: -45.381172\n",
      " 80897/100000: episode: 458, duration: 1.003s, episode steps: 148, steps per second: 148, episode reward: -148.000, mean reward: -1.000 [-1.000, -1.000], mean action: 1.453 [0.000, 2.000],  loss: 2.581825, mae: 30.643311, mean_q: -45.164490\n",
      " 81042/100000: episode: 459, duration: 0.980s, episode steps: 145, steps per second: 148, episode reward: -145.000, mean reward: -1.000 [-1.000, -1.000], mean action: 1.214 [0.000, 2.000],  loss: 1.194140, mae: 30.918097, mean_q: -45.640957\n",
      " 81198/100000: episode: 460, duration: 1.057s, episode steps: 156, steps per second: 148, episode reward: -156.000, mean reward: -1.000 [-1.000, -1.000], mean action: 1.090 [0.000, 2.000],  loss: 3.017111, mae: 30.800243, mean_q: -45.402393\n",
      " 81350/100000: episode: 461, duration: 1.026s, episode steps: 152, steps per second: 148, episode reward: -152.000, mean reward: -1.000 [-1.000, -1.000], mean action: 1.164 [0.000, 2.000],  loss: 1.889114, mae: 31.190359, mean_q: -46.041805\n",
      " 81492/100000: episode: 462, duration: 0.955s, episode steps: 142, steps per second: 149, episode reward: -142.000, mean reward: -1.000 [-1.000, -1.000], mean action: 1.106 [0.000, 2.000],  loss: 2.493603, mae: 30.905384, mean_q: -45.612572\n",
      " 81652/100000: episode: 463, duration: 1.086s, episode steps: 160, steps per second: 147, episode reward: -160.000, mean reward: -1.000 [-1.000, -1.000], mean action: 1.150 [0.000, 2.000],  loss: 2.448635, mae: 30.877863, mean_q: -45.565254\n",
      " 81813/100000: episode: 464, duration: 1.193s, episode steps: 161, steps per second: 135, episode reward: -161.000, mean reward: -1.000 [-1.000, -1.000], mean action: 1.143 [0.000, 2.000],  loss: 3.258565, mae: 31.010088, mean_q: -45.718712\n",
      " 81971/100000: episode: 465, duration: 1.077s, episode steps: 158, steps per second: 147, episode reward: -158.000, mean reward: -1.000 [-1.000, -1.000], mean action: 1.165 [0.000, 2.000],  loss: 2.561709, mae: 31.381409, mean_q: -46.308624\n",
      " 82157/100000: episode: 466, duration: 1.256s, episode steps: 186, steps per second: 148, episode reward: -186.000, mean reward: -1.000 [-1.000, -1.000], mean action: 1.070 [0.000, 2.000],  loss: 3.071791, mae: 30.853060, mean_q: -45.458412\n",
      " 82298/100000: episode: 467, duration: 0.951s, episode steps: 141, steps per second: 148, episode reward: -141.000, mean reward: -1.000 [-1.000, -1.000], mean action: 1.106 [0.000, 2.000],  loss: 2.873782, mae: 31.238981, mean_q: -46.073639\n",
      " 82431/100000: episode: 468, duration: 0.899s, episode steps: 133, steps per second: 148, episode reward: -133.000, mean reward: -1.000 [-1.000, -1.000], mean action: 1.451 [0.000, 2.000],  loss: 1.631439, mae: 30.959314, mean_q: -45.711914\n",
      " 82583/100000: episode: 469, duration: 1.028s, episode steps: 152, steps per second: 148, episode reward: -152.000, mean reward: -1.000 [-1.000, -1.000], mean action: 1.257 [0.000, 2.000],  loss: 1.997070, mae: 31.042822, mean_q: -45.802509\n",
      " 82732/100000: episode: 470, duration: 1.015s, episode steps: 149, steps per second: 147, episode reward: -149.000, mean reward: -1.000 [-1.000, -1.000], mean action: 1.201 [0.000, 2.000],  loss: 1.917667, mae: 31.233162, mean_q: -46.100811\n",
      " 82877/100000: episode: 471, duration: 0.984s, episode steps: 145, steps per second: 147, episode reward: -145.000, mean reward: -1.000 [-1.000, -1.000], mean action: 1.421 [0.000, 2.000],  loss: 4.471240, mae: 31.164406, mean_q: -45.917484\n",
      " 83030/100000: episode: 472, duration: 1.041s, episode steps: 153, steps per second: 147, episode reward: -153.000, mean reward: -1.000 [-1.000, -1.000], mean action: 1.111 [0.000, 2.000],  loss: 3.586864, mae: 31.289196, mean_q: -46.193283\n",
      " 83182/100000: episode: 473, duration: 1.032s, episode steps: 152, steps per second: 147, episode reward: -152.000, mean reward: -1.000 [-1.000, -1.000], mean action: 0.974 [0.000, 2.000],  loss: 3.501907, mae: 31.249300, mean_q: -46.124454\n",
      " 83330/100000: episode: 474, duration: 1.001s, episode steps: 148, steps per second: 148, episode reward: -148.000, mean reward: -1.000 [-1.000, -1.000], mean action: 1.142 [0.000, 2.000],  loss: 1.595119, mae: 31.332638, mean_q: -46.280327\n",
      " 83485/100000: episode: 475, duration: 1.049s, episode steps: 155, steps per second: 148, episode reward: -155.000, mean reward: -1.000 [-1.000, -1.000], mean action: 1.135 [0.000, 2.000],  loss: 1.611366, mae: 31.577766, mean_q: -46.648567\n",
      " 83685/100000: episode: 476, duration: 1.351s, episode steps: 200, steps per second: 148, episode reward: -200.000, mean reward: -1.000 [-1.000, -1.000], mean action: 0.790 [0.000, 2.000],  loss: 2.731260, mae: 31.344154, mean_q: -46.228416\n",
      " 83839/100000: episode: 477, duration: 1.048s, episode steps: 154, steps per second: 147, episode reward: -154.000, mean reward: -1.000 [-1.000, -1.000], mean action: 1.123 [0.000, 2.000],  loss: 2.308582, mae: 31.298765, mean_q: -46.164459\n",
      " 83985/100000: episode: 478, duration: 0.990s, episode steps: 146, steps per second: 148, episode reward: -146.000, mean reward: -1.000 [-1.000, -1.000], mean action: 1.082 [0.000, 2.000],  loss: 2.806616, mae: 31.621307, mean_q: -46.637482\n",
      " 84112/100000: episode: 479, duration: 0.865s, episode steps: 127, steps per second: 147, episode reward: -127.000, mean reward: -1.000 [-1.000, -1.000], mean action: 1.496 [0.000, 2.000],  loss: 1.994979, mae: 31.622162, mean_q: -46.634449\n",
      " 84269/100000: episode: 480, duration: 1.069s, episode steps: 157, steps per second: 147, episode reward: -157.000, mean reward: -1.000 [-1.000, -1.000], mean action: 1.121 [0.000, 2.000],  loss: 2.904544, mae: 31.387608, mean_q: -46.241219\n",
      " 84436/100000: episode: 481, duration: 1.135s, episode steps: 167, steps per second: 147, episode reward: -167.000, mean reward: -1.000 [-1.000, -1.000], mean action: 1.192 [0.000, 2.000],  loss: 3.027752, mae: 31.494625, mean_q: -46.444042\n",
      " 84542/100000: episode: 482, duration: 0.720s, episode steps: 106, steps per second: 147, episode reward: -106.000, mean reward: -1.000 [-1.000, -1.000], mean action: 1.340 [0.000, 2.000],  loss: 3.724064, mae: 31.554928, mean_q: -46.454590\n",
      " 84679/100000: episode: 483, duration: 0.931s, episode steps: 137, steps per second: 147, episode reward: -137.000, mean reward: -1.000 [-1.000, -1.000], mean action: 1.131 [0.000, 2.000],  loss: 2.112041, mae: 31.341711, mean_q: -46.240749\n",
      " 84845/100000: episode: 484, duration: 1.129s, episode steps: 166, steps per second: 147, episode reward: -166.000, mean reward: -1.000 [-1.000, -1.000], mean action: 1.289 [0.000, 2.000],  loss: 1.912237, mae: 31.797375, mean_q: -46.912415\n",
      " 84996/100000: episode: 485, duration: 1.026s, episode steps: 151, steps per second: 147, episode reward: -151.000, mean reward: -1.000 [-1.000, -1.000], mean action: 1.185 [0.000, 2.000],  loss: 2.971482, mae: 31.680988, mean_q: -46.665215\n",
      " 85134/100000: episode: 486, duration: 0.936s, episode steps: 138, steps per second: 147, episode reward: -138.000, mean reward: -1.000 [-1.000, -1.000], mean action: 1.558 [0.000, 2.000],  loss: 2.993026, mae: 31.315830, mean_q: -46.134418\n",
      " 85324/100000: episode: 487, duration: 1.292s, episode steps: 190, steps per second: 147, episode reward: -190.000, mean reward: -1.000 [-1.000, -1.000], mean action: 1.226 [0.000, 2.000],  loss: 2.371958, mae: 31.539812, mean_q: -46.543995\n",
      " 85494/100000: episode: 488, duration: 1.153s, episode steps: 170, steps per second: 147, episode reward: -170.000, mean reward: -1.000 [-1.000, -1.000], mean action: 0.853 [0.000, 2.000],  loss: 2.490022, mae: 31.571835, mean_q: -46.552055\n",
      " 85646/100000: episode: 489, duration: 1.032s, episode steps: 152, steps per second: 147, episode reward: -152.000, mean reward: -1.000 [-1.000, -1.000], mean action: 1.184 [0.000, 2.000],  loss: 3.186076, mae: 31.461197, mean_q: -46.305084\n",
      " 85807/100000: episode: 490, duration: 1.091s, episode steps: 161, steps per second: 148, episode reward: -161.000, mean reward: -1.000 [-1.000, -1.000], mean action: 1.031 [0.000, 2.000],  loss: 3.675551, mae: 31.600561, mean_q: -46.549316\n",
      " 86002/100000: episode: 491, duration: 1.324s, episode steps: 195, steps per second: 147, episode reward: -195.000, mean reward: -1.000 [-1.000, -1.000], mean action: 1.349 [0.000, 2.000],  loss: 4.593604, mae: 31.539303, mean_q: -46.427490\n",
      " 86161/100000: episode: 492, duration: 1.079s, episode steps: 159, steps per second: 147, episode reward: -159.000, mean reward: -1.000 [-1.000, -1.000], mean action: 1.038 [0.000, 2.000],  loss: 2.391709, mae: 31.398413, mean_q: -46.253948\n",
      " 86318/100000: episode: 493, duration: 1.069s, episode steps: 157, steps per second: 147, episode reward: -157.000, mean reward: -1.000 [-1.000, -1.000], mean action: 1.025 [0.000, 2.000],  loss: 2.800066, mae: 31.527107, mean_q: -46.401398\n",
      " 86518/100000: episode: 494, duration: 1.364s, episode steps: 200, steps per second: 147, episode reward: -200.000, mean reward: -1.000 [-1.000, -1.000], mean action: 0.965 [0.000, 2.000],  loss: 2.458277, mae: 31.510033, mean_q: -46.411366\n",
      " 86671/100000: episode: 495, duration: 1.041s, episode steps: 153, steps per second: 147, episode reward: -153.000, mean reward: -1.000 [-1.000, -1.000], mean action: 1.085 [0.000, 2.000],  loss: 3.730385, mae: 31.532885, mean_q: -46.389820\n",
      " 86836/100000: episode: 496, duration: 1.124s, episode steps: 165, steps per second: 147, episode reward: -165.000, mean reward: -1.000 [-1.000, -1.000], mean action: 0.964 [0.000, 2.000],  loss: 2.615203, mae: 31.626421, mean_q: -46.562454\n",
      " 87021/100000: episode: 497, duration: 1.256s, episode steps: 185, steps per second: 147, episode reward: -185.000, mean reward: -1.000 [-1.000, -1.000], mean action: 1.243 [0.000, 2.000],  loss: 2.391729, mae: 31.430416, mean_q: -46.292252\n",
      " 87179/100000: episode: 498, duration: 1.073s, episode steps: 158, steps per second: 147, episode reward: -158.000, mean reward: -1.000 [-1.000, -1.000], mean action: 1.076 [0.000, 2.000],  loss: 1.892524, mae: 31.673340, mean_q: -46.667648\n",
      " 87326/100000: episode: 499, duration: 1.007s, episode steps: 147, steps per second: 146, episode reward: -147.000, mean reward: -1.000 [-1.000, -1.000], mean action: 0.993 [0.000, 2.000],  loss: 2.830012, mae: 31.785336, mean_q: -46.800999\n",
      " 87477/100000: episode: 500, duration: 1.035s, episode steps: 151, steps per second: 146, episode reward: -151.000, mean reward: -1.000 [-1.000, -1.000], mean action: 1.172 [0.000, 2.000],  loss: 4.124384, mae: 31.706650, mean_q: -46.571468\n",
      " 87623/100000: episode: 501, duration: 1.022s, episode steps: 146, steps per second: 143, episode reward: -146.000, mean reward: -1.000 [-1.000, -1.000], mean action: 0.979 [0.000, 2.000],  loss: 2.910342, mae: 31.673002, mean_q: -46.555267\n",
      " 87769/100000: episode: 502, duration: 0.995s, episode steps: 146, steps per second: 147, episode reward: -146.000, mean reward: -1.000 [-1.000, -1.000], mean action: 0.932 [0.000, 2.000],  loss: 3.945972, mae: 31.756815, mean_q: -46.692879\n",
      " 87878/100000: episode: 503, duration: 0.742s, episode steps: 109, steps per second: 147, episode reward: -109.000, mean reward: -1.000 [-1.000, -1.000], mean action: 1.422 [0.000, 2.000],  loss: 3.652266, mae: 31.702126, mean_q: -46.632599\n",
      " 88070/100000: episode: 504, duration: 1.306s, episode steps: 192, steps per second: 147, episode reward: -192.000, mean reward: -1.000 [-1.000, -1.000], mean action: 0.969 [0.000, 2.000],  loss: 2.582684, mae: 31.782488, mean_q: -46.826992\n",
      " 88196/100000: episode: 505, duration: 0.858s, episode steps: 126, steps per second: 147, episode reward: -126.000, mean reward: -1.000 [-1.000, -1.000], mean action: 1.317 [0.000, 2.000],  loss: 2.270776, mae: 31.696714, mean_q: -46.713322\n",
      " 88363/100000: episode: 506, duration: 1.140s, episode steps: 167, steps per second: 146, episode reward: -167.000, mean reward: -1.000 [-1.000, -1.000], mean action: 1.144 [0.000, 2.000],  loss: 3.068351, mae: 31.883520, mean_q: -46.944374\n",
      " 88519/100000: episode: 507, duration: 1.064s, episode steps: 156, steps per second: 147, episode reward: -156.000, mean reward: -1.000 [-1.000, -1.000], mean action: 1.090 [0.000, 2.000],  loss: 2.282273, mae: 31.596579, mean_q: -46.581081\n",
      " 88687/100000: episode: 508, duration: 1.147s, episode steps: 168, steps per second: 146, episode reward: -168.000, mean reward: -1.000 [-1.000, -1.000], mean action: 1.089 [0.000, 2.000],  loss: 1.965326, mae: 31.383724, mean_q: -46.215698\n",
      " 88816/100000: episode: 509, duration: 0.882s, episode steps: 129, steps per second: 146, episode reward: -129.000, mean reward: -1.000 [-1.000, -1.000], mean action: 1.597 [0.000, 2.000],  loss: 3.015844, mae: 31.900311, mean_q: -46.947021\n",
      " 89016/100000: episode: 510, duration: 1.357s, episode steps: 200, steps per second: 147, episode reward: -200.000, mean reward: -1.000 [-1.000, -1.000], mean action: 0.520 [0.000, 2.000],  loss: 2.671942, mae: 31.934214, mean_q: -47.034115\n",
      " 89174/100000: episode: 511, duration: 1.081s, episode steps: 158, steps per second: 146, episode reward: -158.000, mean reward: -1.000 [-1.000, -1.000], mean action: 1.234 [0.000, 2.000],  loss: 2.507018, mae: 31.717319, mean_q: -46.708862\n",
      " 89345/100000: episode: 512, duration: 1.164s, episode steps: 171, steps per second: 147, episode reward: -171.000, mean reward: -1.000 [-1.000, -1.000], mean action: 1.058 [0.000, 2.000],  loss: 3.291767, mae: 31.830597, mean_q: -46.878651\n",
      " 89536/100000: episode: 513, duration: 1.309s, episode steps: 191, steps per second: 146, episode reward: -191.000, mean reward: -1.000 [-1.000, -1.000], mean action: 1.644 [0.000, 2.000],  loss: 2.900754, mae: 31.634190, mean_q: -46.543224\n",
      " 89691/100000: episode: 514, duration: 1.057s, episode steps: 155, steps per second: 147, episode reward: -155.000, mean reward: -1.000 [-1.000, -1.000], mean action: 1.006 [0.000, 2.000],  loss: 2.782450, mae: 31.836039, mean_q: -46.899677\n",
      " 89855/100000: episode: 515, duration: 1.119s, episode steps: 164, steps per second: 147, episode reward: -164.000, mean reward: -1.000 [-1.000, -1.000], mean action: 0.927 [0.000, 2.000],  loss: 2.081346, mae: 31.435213, mean_q: -46.324558\n",
      " 90010/100000: episode: 516, duration: 1.058s, episode steps: 155, steps per second: 146, episode reward: -155.000, mean reward: -1.000 [-1.000, -1.000], mean action: 1.019 [0.000, 2.000],  loss: 2.701530, mae: 31.521030, mean_q: -46.409935\n",
      " 90170/100000: episode: 517, duration: 1.092s, episode steps: 160, steps per second: 147, episode reward: -160.000, mean reward: -1.000 [-1.000, -1.000], mean action: 1.188 [0.000, 2.000],  loss: 2.282423, mae: 31.417973, mean_q: -46.219627\n",
      " 90349/100000: episode: 518, duration: 1.222s, episode steps: 179, steps per second: 147, episode reward: -179.000, mean reward: -1.000 [-1.000, -1.000], mean action: 1.073 [0.000, 2.000],  loss: 2.266679, mae: 31.750525, mean_q: -46.780071\n",
      " 90522/100000: episode: 519, duration: 1.180s, episode steps: 173, steps per second: 147, episode reward: -173.000, mean reward: -1.000 [-1.000, -1.000], mean action: 1.243 [0.000, 2.000],  loss: 3.843554, mae: 31.651062, mean_q: -46.480747\n",
      " 90722/100000: episode: 520, duration: 1.364s, episode steps: 200, steps per second: 147, episode reward: -200.000, mean reward: -1.000 [-1.000, -1.000], mean action: 1.225 [0.000, 2.000],  loss: 1.673867, mae: 31.626230, mean_q: -46.574387\n",
      " 90840/100000: episode: 521, duration: 0.805s, episode steps: 118, steps per second: 147, episode reward: -118.000, mean reward: -1.000 [-1.000, -1.000], mean action: 1.373 [0.000, 2.000],  loss: 2.837793, mae: 31.436703, mean_q: -46.180710\n",
      " 90989/100000: episode: 522, duration: 1.014s, episode steps: 149, steps per second: 147, episode reward: -149.000, mean reward: -1.000 [-1.000, -1.000], mean action: 1.067 [0.000, 2.000],  loss: 1.730096, mae: 31.225239, mean_q: -45.911369\n",
      " 91152/100000: episode: 523, duration: 1.114s, episode steps: 163, steps per second: 146, episode reward: -163.000, mean reward: -1.000 [-1.000, -1.000], mean action: 1.227 [0.000, 2.000],  loss: 1.957482, mae: 31.545946, mean_q: -46.416290\n",
      " 91327/100000: episode: 524, duration: 1.197s, episode steps: 175, steps per second: 146, episode reward: -175.000, mean reward: -1.000 [-1.000, -1.000], mean action: 1.291 [0.000, 2.000],  loss: 3.368125, mae: 31.474337, mean_q: -46.230846\n",
      " 91517/100000: episode: 525, duration: 1.297s, episode steps: 190, steps per second: 147, episode reward: -190.000, mean reward: -1.000 [-1.000, -1.000], mean action: 1.084 [0.000, 2.000],  loss: 1.304394, mae: 31.704447, mean_q: -46.653362\n",
      " 91642/100000: episode: 526, duration: 0.899s, episode steps: 125, steps per second: 139, episode reward: -125.000, mean reward: -1.000 [-1.000, -1.000], mean action: 1.616 [0.000, 2.000],  loss: 2.985734, mae: 31.672575, mean_q: -46.537891\n",
      " 91814/100000: episode: 527, duration: 1.182s, episode steps: 172, steps per second: 146, episode reward: -172.000, mean reward: -1.000 [-1.000, -1.000], mean action: 1.192 [0.000, 2.000],  loss: 2.833814, mae: 31.932896, mean_q: -46.959843\n",
      " 91931/100000: episode: 528, duration: 0.808s, episode steps: 117, steps per second: 145, episode reward: -117.000, mean reward: -1.000 [-1.000, -1.000], mean action: 1.137 [0.000, 2.000],  loss: 1.570527, mae: 31.270477, mean_q: -45.968655\n",
      " 92062/100000: episode: 529, duration: 0.894s, episode steps: 131, steps per second: 147, episode reward: -131.000, mean reward: -1.000 [-1.000, -1.000], mean action: 1.565 [0.000, 2.000],  loss: 1.900433, mae: 31.578640, mean_q: -46.457336\n",
      " 92249/100000: episode: 530, duration: 1.277s, episode steps: 187, steps per second: 146, episode reward: -187.000, mean reward: -1.000 [-1.000, -1.000], mean action: 1.155 [0.000, 2.000],  loss: 2.668045, mae: 31.772810, mean_q: -46.711464\n",
      " 92406/100000: episode: 531, duration: 1.073s, episode steps: 157, steps per second: 146, episode reward: -157.000, mean reward: -1.000 [-1.000, -1.000], mean action: 1.013 [0.000, 2.000],  loss: 3.168409, mae: 31.674282, mean_q: -46.455494\n",
      " 92531/100000: episode: 532, duration: 0.861s, episode steps: 125, steps per second: 145, episode reward: -125.000, mean reward: -1.000 [-1.000, -1.000], mean action: 1.144 [0.000, 2.000],  loss: 2.471272, mae: 31.913960, mean_q: -46.920940\n",
      " 92689/100000: episode: 533, duration: 1.088s, episode steps: 158, steps per second: 145, episode reward: -158.000, mean reward: -1.000 [-1.000, -1.000], mean action: 1.025 [0.000, 2.000],  loss: 1.703620, mae: 31.639505, mean_q: -46.552399\n",
      " 92804/100000: episode: 534, duration: 0.789s, episode steps: 115, steps per second: 146, episode reward: -115.000, mean reward: -1.000 [-1.000, -1.000], mean action: 1.496 [0.000, 2.000],  loss: 1.773276, mae: 31.652435, mean_q: -46.564552\n",
      " 92966/100000: episode: 535, duration: 1.114s, episode steps: 162, steps per second: 145, episode reward: -162.000, mean reward: -1.000 [-1.000, -1.000], mean action: 1.136 [0.000, 2.000],  loss: 2.726956, mae: 31.738335, mean_q: -46.609055\n",
      " 93135/100000: episode: 536, duration: 1.153s, episode steps: 169, steps per second: 147, episode reward: -169.000, mean reward: -1.000 [-1.000, -1.000], mean action: 1.124 [0.000, 2.000],  loss: 2.327297, mae: 31.382505, mean_q: -46.170673\n",
      " 93305/100000: episode: 537, duration: 1.163s, episode steps: 170, steps per second: 146, episode reward: -170.000, mean reward: -1.000 [-1.000, -1.000], mean action: 1.218 [0.000, 2.000],  loss: 1.968798, mae: 31.508274, mean_q: -46.304928\n",
      " 93461/100000: episode: 538, duration: 1.071s, episode steps: 156, steps per second: 146, episode reward: -156.000, mean reward: -1.000 [-1.000, -1.000], mean action: 1.090 [0.000, 2.000],  loss: 2.770760, mae: 31.650578, mean_q: -46.506199\n",
      " 93575/100000: episode: 539, duration: 0.782s, episode steps: 114, steps per second: 146, episode reward: -114.000, mean reward: -1.000 [-1.000, -1.000], mean action: 1.474 [0.000, 2.000],  loss: 2.334354, mae: 31.674948, mean_q: -46.533665\n",
      " 93699/100000: episode: 540, duration: 0.847s, episode steps: 124, steps per second: 146, episode reward: -124.000, mean reward: -1.000 [-1.000, -1.000], mean action: 1.226 [0.000, 2.000],  loss: 2.732511, mae: 31.790039, mean_q: -46.689564\n",
      " 93823/100000: episode: 541, duration: 0.849s, episode steps: 124, steps per second: 146, episode reward: -124.000, mean reward: -1.000 [-1.000, -1.000], mean action: 1.218 [0.000, 2.000],  loss: 2.819503, mae: 31.776493, mean_q: -46.678677\n",
      " 93982/100000: episode: 542, duration: 1.090s, episode steps: 159, steps per second: 146, episode reward: -159.000, mean reward: -1.000 [-1.000, -1.000], mean action: 1.057 [0.000, 2.000],  loss: 0.992089, mae: 31.763290, mean_q: -46.735188\n",
      " 94164/100000: episode: 543, duration: 1.245s, episode steps: 182, steps per second: 146, episode reward: -182.000, mean reward: -1.000 [-1.000, -1.000], mean action: 1.302 [0.000, 2.000],  loss: 1.116098, mae: 31.764233, mean_q: -46.712917\n",
      " 94324/100000: episode: 544, duration: 1.096s, episode steps: 160, steps per second: 146, episode reward: -160.000, mean reward: -1.000 [-1.000, -1.000], mean action: 1.106 [0.000, 2.000],  loss: 4.108241, mae: 32.005737, mean_q: -47.012451\n",
      " 94448/100000: episode: 545, duration: 0.853s, episode steps: 124, steps per second: 145, episode reward: -124.000, mean reward: -1.000 [-1.000, -1.000], mean action: 1.339 [0.000, 2.000],  loss: 1.587138, mae: 31.772940, mean_q: -46.683323\n",
      " 94617/100000: episode: 546, duration: 1.156s, episode steps: 169, steps per second: 146, episode reward: -169.000, mean reward: -1.000 [-1.000, -1.000], mean action: 1.172 [0.000, 2.000],  loss: 4.170602, mae: 31.618776, mean_q: -46.363380\n",
      " 94785/100000: episode: 547, duration: 1.152s, episode steps: 168, steps per second: 146, episode reward: -168.000, mean reward: -1.000 [-1.000, -1.000], mean action: 1.048 [0.000, 2.000],  loss: 2.696121, mae: 31.640671, mean_q: -46.467991\n",
      " 94929/100000: episode: 548, duration: 0.989s, episode steps: 144, steps per second: 146, episode reward: -144.000, mean reward: -1.000 [-1.000, -1.000], mean action: 1.438 [0.000, 2.000],  loss: 1.914535, mae: 31.580811, mean_q: -46.387920\n",
      " 95121/100000: episode: 549, duration: 1.319s, episode steps: 192, steps per second: 146, episode reward: -192.000, mean reward: -1.000 [-1.000, -1.000], mean action: 1.255 [0.000, 2.000],  loss: 2.475940, mae: 31.663851, mean_q: -46.550243\n",
      " 95238/100000: episode: 550, duration: 0.807s, episode steps: 117, steps per second: 145, episode reward: -117.000, mean reward: -1.000 [-1.000, -1.000], mean action: 1.504 [0.000, 2.000],  loss: 1.466648, mae: 31.580109, mean_q: -46.465225\n",
      " 95389/100000: episode: 551, duration: 1.038s, episode steps: 151, steps per second: 146, episode reward: -151.000, mean reward: -1.000 [-1.000, -1.000], mean action: 1.364 [0.000, 2.000],  loss: 1.656482, mae: 31.653049, mean_q: -46.538361\n",
      " 95561/100000: episode: 552, duration: 1.183s, episode steps: 172, steps per second: 145, episode reward: -172.000, mean reward: -1.000 [-1.000, -1.000], mean action: 1.227 [0.000, 2.000],  loss: 1.705504, mae: 31.595970, mean_q: -46.434837\n",
      " 95683/100000: episode: 553, duration: 0.843s, episode steps: 122, steps per second: 145, episode reward: -122.000, mean reward: -1.000 [-1.000, -1.000], mean action: 1.221 [0.000, 2.000],  loss: 1.889073, mae: 31.430361, mean_q: -46.171940\n",
      " 95833/100000: episode: 554, duration: 1.030s, episode steps: 150, steps per second: 146, episode reward: -150.000, mean reward: -1.000 [-1.000, -1.000], mean action: 1.153 [0.000, 2.000],  loss: 1.989096, mae: 31.598619, mean_q: -46.465313\n",
      " 95957/100000: episode: 555, duration: 0.859s, episode steps: 124, steps per second: 144, episode reward: -124.000, mean reward: -1.000 [-1.000, -1.000], mean action: 1.427 [0.000, 2.000],  loss: 0.727571, mae: 31.603233, mean_q: -46.510860\n",
      " 96082/100000: episode: 556, duration: 0.865s, episode steps: 125, steps per second: 145, episode reward: -125.000, mean reward: -1.000 [-1.000, -1.000], mean action: 1.456 [0.000, 2.000],  loss: 2.981138, mae: 31.696056, mean_q: -46.571251\n",
      " 96250/100000: episode: 557, duration: 1.149s, episode steps: 168, steps per second: 146, episode reward: -168.000, mean reward: -1.000 [-1.000, -1.000], mean action: 1.214 [0.000, 2.000],  loss: 2.391550, mae: 31.354404, mean_q: -46.034931\n",
      " 96373/100000: episode: 558, duration: 0.902s, episode steps: 123, steps per second: 136, episode reward: -123.000, mean reward: -1.000 [-1.000, -1.000], mean action: 1.390 [0.000, 2.000],  loss: 1.638325, mae: 31.732103, mean_q: -46.707722\n",
      " 96568/100000: episode: 559, duration: 1.337s, episode steps: 195, steps per second: 146, episode reward: -195.000, mean reward: -1.000 [-1.000, -1.000], mean action: 1.190 [0.000, 2.000],  loss: 2.255877, mae: 31.635063, mean_q: -46.555565\n",
      " 96746/100000: episode: 560, duration: 1.225s, episode steps: 178, steps per second: 145, episode reward: -178.000, mean reward: -1.000 [-1.000, -1.000], mean action: 1.213 [0.000, 2.000],  loss: 3.458341, mae: 31.347332, mean_q: -46.023815\n",
      " 96929/100000: episode: 561, duration: 1.258s, episode steps: 183, steps per second: 145, episode reward: -183.000, mean reward: -1.000 [-1.000, -1.000], mean action: 1.153 [0.000, 2.000],  loss: 2.937347, mae: 31.469885, mean_q: -46.276527\n",
      " 97083/100000: episode: 562, duration: 1.058s, episode steps: 154, steps per second: 146, episode reward: -154.000, mean reward: -1.000 [-1.000, -1.000], mean action: 1.097 [0.000, 2.000],  loss: 2.426599, mae: 31.533638, mean_q: -46.375957\n",
      " 97257/100000: episode: 563, duration: 1.195s, episode steps: 174, steps per second: 146, episode reward: -174.000, mean reward: -1.000 [-1.000, -1.000], mean action: 1.052 [0.000, 2.000],  loss: 3.808996, mae: 31.471220, mean_q: -46.236450\n",
      " 97403/100000: episode: 564, duration: 1.005s, episode steps: 146, steps per second: 145, episode reward: -146.000, mean reward: -1.000 [-1.000, -1.000], mean action: 1.089 [0.000, 2.000],  loss: 3.318150, mae: 31.741041, mean_q: -46.646275\n",
      " 97535/100000: episode: 565, duration: 0.909s, episode steps: 132, steps per second: 145, episode reward: -132.000, mean reward: -1.000 [-1.000, -1.000], mean action: 1.432 [0.000, 2.000],  loss: 1.431062, mae: 31.465683, mean_q: -46.333786\n",
      " 97680/100000: episode: 566, duration: 0.997s, episode steps: 145, steps per second: 145, episode reward: -145.000, mean reward: -1.000 [-1.000, -1.000], mean action: 1.062 [0.000, 2.000],  loss: 1.681918, mae: 31.369915, mean_q: -46.175957\n",
      " 97880/100000: episode: 567, duration: 1.381s, episode steps: 200, steps per second: 145, episode reward: -200.000, mean reward: -1.000 [-1.000, -1.000], mean action: 1.270 [0.000, 2.000],  loss: 2.932297, mae: 31.562534, mean_q: -46.407833\n",
      " 98026/100000: episode: 568, duration: 1.008s, episode steps: 146, steps per second: 145, episode reward: -146.000, mean reward: -1.000 [-1.000, -1.000], mean action: 0.979 [0.000, 2.000],  loss: 1.622458, mae: 31.614809, mean_q: -46.596359\n",
      " 98160/100000: episode: 569, duration: 0.927s, episode steps: 134, steps per second: 145, episode reward: -134.000, mean reward: -1.000 [-1.000, -1.000], mean action: 1.403 [0.000, 2.000],  loss: 1.154049, mae: 31.779202, mean_q: -46.884132\n",
      " 98355/100000: episode: 570, duration: 1.340s, episode steps: 195, steps per second: 146, episode reward: -195.000, mean reward: -1.000 [-1.000, -1.000], mean action: 1.287 [0.000, 2.000],  loss: 2.558863, mae: 31.521622, mean_q: -46.403736\n",
      " 98509/100000: episode: 571, duration: 1.063s, episode steps: 154, steps per second: 145, episode reward: -154.000, mean reward: -1.000 [-1.000, -1.000], mean action: 1.364 [0.000, 2.000],  loss: 1.928405, mae: 31.453518, mean_q: -46.309650\n",
      " 98627/100000: episode: 572, duration: 0.812s, episode steps: 118, steps per second: 145, episode reward: -118.000, mean reward: -1.000 [-1.000, -1.000], mean action: 1.398 [0.000, 2.000],  loss: 1.924863, mae: 31.187521, mean_q: -45.899734\n",
      " 98741/100000: episode: 573, duration: 0.792s, episode steps: 114, steps per second: 144, episode reward: -114.000, mean reward: -1.000 [-1.000, -1.000], mean action: 1.404 [0.000, 2.000],  loss: 2.384232, mae: 31.254930, mean_q: -45.999683\n",
      " 98882/100000: episode: 574, duration: 0.983s, episode steps: 141, steps per second: 143, episode reward: -141.000, mean reward: -1.000 [-1.000, -1.000], mean action: 1.362 [0.000, 2.000],  loss: 2.508482, mae: 31.341131, mean_q: -46.028572\n",
      " 99006/100000: episode: 575, duration: 0.860s, episode steps: 124, steps per second: 144, episode reward: -124.000, mean reward: -1.000 [-1.000, -1.000], mean action: 1.427 [0.000, 2.000],  loss: 2.007809, mae: 31.448366, mean_q: -46.309067\n",
      " 99126/100000: episode: 576, duration: 0.829s, episode steps: 120, steps per second: 145, episode reward: -120.000, mean reward: -1.000 [-1.000, -1.000], mean action: 1.375 [0.000, 2.000],  loss: 1.653522, mae: 31.552006, mean_q: -46.452824\n",
      " 99283/100000: episode: 577, duration: 1.086s, episode steps: 157, steps per second: 145, episode reward: -157.000, mean reward: -1.000 [-1.000, -1.000], mean action: 1.153 [0.000, 2.000],  loss: 3.115969, mae: 31.195219, mean_q: -45.854794\n",
      " 99426/100000: episode: 578, duration: 1.003s, episode steps: 143, steps per second: 143, episode reward: -143.000, mean reward: -1.000 [-1.000, -1.000], mean action: 1.091 [0.000, 2.000],  loss: 2.444343, mae: 31.267673, mean_q: -45.985275\n",
      " 99541/100000: episode: 579, duration: 0.897s, episode steps: 115, steps per second: 128, episode reward: -115.000, mean reward: -1.000 [-1.000, -1.000], mean action: 1.470 [0.000, 2.000],  loss: 2.456872, mae: 31.086864, mean_q: -45.747284\n",
      " 99686/100000: episode: 580, duration: 0.995s, episode steps: 145, steps per second: 146, episode reward: -145.000, mean reward: -1.000 [-1.000, -1.000], mean action: 1.145 [0.000, 2.000],  loss: 2.064218, mae: 31.100794, mean_q: -45.754852\n",
      " 99833/100000: episode: 581, duration: 1.011s, episode steps: 147, steps per second: 145, episode reward: -147.000, mean reward: -1.000 [-1.000, -1.000], mean action: 1.327 [0.000, 2.000],  loss: 1.635550, mae: 31.320940, mean_q: -46.160248\n",
      " 99979/100000: episode: 582, duration: 1.008s, episode steps: 146, steps per second: 145, episode reward: -146.000, mean reward: -1.000 [-1.000, -1.000], mean action: 1.041 [0.000, 2.000],  loss: 3.146934, mae: 31.179695, mean_q: -45.831062\n",
      "done, took 653.501 seconds\n"
     ]
    },
    {
     "data": {
      "text/plain": [
       "<keras.callbacks.History at 0x7f8da04da9a0>"
      ]
     },
     "execution_count": 10,
     "metadata": {},
     "output_type": "execute_result"
    }
   ],
   "source": [
    "dqn.fit(env, nb_steps=limit_steps, visualize=False, verbose=2, callbacks=[cb_ep])"
   ]
  },
  {
   "cell_type": "markdown",
   "metadata": {
    "id": "H6IU15red71b"
   },
   "source": [
    "## 学習成果を確認する"
   ]
  },
  {
   "cell_type": "code",
   "execution_count": 11,
   "metadata": {},
   "outputs": [
    {
     "name": "stdout",
     "output_type": "stream",
     "text": [
      "Requirement already satisfied: matplotlib in ./.conda/envs/default/lib/python3.9/site-packages (3.5.0)\n",
      "Requirement already satisfied: fonttools>=4.22.0 in ./.conda/envs/default/lib/python3.9/site-packages (from matplotlib) (4.28.2)\n",
      "Requirement already satisfied: packaging>=20.0 in ./.conda/envs/default/lib/python3.9/site-packages (from matplotlib) (21.3)\n",
      "Requirement already satisfied: numpy>=1.17 in ./.conda/envs/default/lib/python3.9/site-packages (from matplotlib) (1.21.4)\n",
      "Requirement already satisfied: kiwisolver>=1.0.1 in ./.conda/envs/default/lib/python3.9/site-packages (from matplotlib) (1.3.2)\n",
      "Requirement already satisfied: cycler>=0.10 in ./.conda/envs/default/lib/python3.9/site-packages (from matplotlib) (0.11.0)\n",
      "Requirement already satisfied: setuptools-scm>=4 in ./.conda/envs/default/lib/python3.9/site-packages (from matplotlib) (6.3.2)\n",
      "Requirement already satisfied: pyparsing>=2.2.1 in ./.conda/envs/default/lib/python3.9/site-packages (from matplotlib) (3.0.6)\n",
      "Requirement already satisfied: python-dateutil>=2.7 in ./.conda/envs/default/lib/python3.9/site-packages (from matplotlib) (2.8.2)\n",
      "Requirement already satisfied: pillow>=6.2.0 in ./.conda/envs/default/lib/python3.9/site-packages (from matplotlib) (8.4.0)\n",
      "Requirement already satisfied: six>=1.5 in ./.conda/envs/default/lib/python3.9/site-packages (from python-dateutil>=2.7->matplotlib) (1.16.0)\n",
      "Requirement already satisfied: setuptools in ./.conda/envs/default/lib/python3.9/site-packages (from setuptools-scm>=4->matplotlib) (59.2.0)\n",
      "Requirement already satisfied: tomli>=1.0.0 in ./.conda/envs/default/lib/python3.9/site-packages (from setuptools-scm>=4->matplotlib) (1.2.2)\n",
      "Note: you may need to restart the kernel to use updated packages.\n"
     ]
    }
   ],
   "source": [
    "%pip install matplotlib"
   ]
  },
  {
   "cell_type": "code",
   "execution_count": 12,
   "metadata": {
    "colab": {
     "base_uri": "https://localhost:8080/",
     "height": 567
    },
    "executionInfo": {
     "elapsed": 1834,
     "status": "ok",
     "timestamp": 1638276425296,
     "user": {
      "displayName": "hanamiche",
      "photoUrl": "",
      "userId": ""
     },
     "user_tz": -540
    },
    "id": "NNxYRG023zmQ",
    "outputId": "e6c9d072-b714-49dc-8488-6df08128a9c9"
   },
   "outputs": [
    {
     "data": {
      "image/png": "[encoded data removed]",
      "text/plain": [
       "<Figure size 1152x648 with 1 Axes>"
      ]
     },
     "metadata": {
      "needs_background": "light"
     },
     "output_type": "display_data"
    }
   ],
   "source": [
    "import matplotlib.pyplot as plt\n",
    "plt.figure(figsize=[16,9])\n",
    "plt.plot(list(cb_ep.rewards.keys()), list(cb_ep.rewards.values()))\n",
    "plt.xlabel(\"Episode\")\n",
    "plt.ylabel(\"Reword\")\n",
    "plt.title(title_name)\n",
    "plt.show()"
   ]
  },
  {
   "cell_type": "markdown",
   "metadata": {
    "id": "RRBnLCXcd_sa"
   },
   "source": [
    "## 学習済みモデルを用いてテスト\n",
    "* うまく旗までたどり着くか"
   ]
  },
  {
   "cell_type": "code",
   "execution_count": 13,
   "metadata": {
    "colab": {
     "base_uri": "https://localhost:8080/"
    },
    "executionInfo": {
     "elapsed": 25892,
     "status": "ok",
     "timestamp": 1638276483243,
     "user": {
      "displayName": "hanamiche",
      "photoUrl": "",
      "userId": ""
     },
     "user_tz": -540
    },
    "id": "eNPv4Ml641cr",
    "outputId": "d53661f8-f4e4-4e44-9283-6b5e11e9c539"
   },
   "outputs": [
    {
     "name": "stdout",
     "output_type": "stream",
     "text": [
      "Testing for 5 episodes ...\n",
      "Episode 1: reward: -147.000, steps: 147\n",
      "Episode 2: reward: -143.000, steps: 143\n",
      "Episode 3: reward: -155.000, steps: 155\n",
      "Episode 4: reward: -146.000, steps: 146\n",
      "Episode 5: reward: -150.000, steps: 150\n"
     ]
    },
    {
     "data": {
      "text/plain": [
       "<keras.callbacks.History at 0x7f8cf9b6e910>"
      ]
     },
     "execution_count": 13,
     "metadata": {},
     "output_type": "execute_result"
    }
   ],
   "source": [
    "# モデルをテスト\n",
    "dqn.test(env, nb_episodes=nb_episodes, visualize=False, callbacks=[cb_ep])"
   ]
  },
  {
   "cell_type": "markdown",
   "metadata": {
    "id": "TRA0NiUWe7-9"
   },
   "source": [
    "# 番外編!"
   ]
  },
  {
   "cell_type": "markdown",
   "metadata": {
    "id": "5qqzzhq-KEQb"
   },
   "source": [
    "## モデルの保存\n",
    "うまく行ったらモデルを保存します。"
   ]
  },
  {
   "cell_type": "code",
   "execution_count": null,
   "metadata": {
    "colab": {
     "base_uri": "https://localhost:8080/"
    },
    "executionInfo": {
     "elapsed": 630,
     "status": "ok",
     "timestamp": 1638276571064,
     "user": {
      "displayName": "hanamiche",
      "photoUrl": "",
      "userId": ""
     },
     "user_tz": -540
    },
    "id": "OJKPOmEpKPnX",
    "outputId": "724d2550-2039-4e68-9f46-abe1c92514b0"
   },
   "outputs": [],
   "source": [
    "save_model_name = \"model_test\" # @param {type:\"string\"}\n",
    "\n",
    "print(\"保存場所: {0}{1}\".format(model_path,save_model_name))"
   ]
  },
  {
   "cell_type": "code",
   "execution_count": null,
   "metadata": {
    "colab": {
     "base_uri": "https://localhost:8080/"
    },
    "executionInfo": {
     "elapsed": 9185,
     "status": "ok",
     "timestamp": 1638276582845,
     "user": {
      "displayName": "hanamiche",
      "photoUrl": "",
      "userId": ""
     },
     "user_tz": -540
    },
    "id": "uotR59rF_-MT",
    "outputId": "4e17fdb0-c87b-4197-8123-e710de18ce48"
   },
   "outputs": [],
   "source": [
    "dqn.model.save(model_path + save_model_name,overwrite=False)"
   ]
  },
  {
   "cell_type": "markdown",
   "metadata": {
    "id": "jyKUs0niMPOg"
   },
   "source": [
    "## モデルの読み込み\n",
    "* 学習済みのモデルをロードしてテストを行います。"
   ]
  },
  {
   "cell_type": "markdown",
   "metadata": {
    "id": "xQUbOVjIfJUr"
   },
   "source": [
    "### 読み込みモデルの指定\n",
    "こっそり、100,000ステップ学習済みのモデルを作成してあります。\n",
    "* model100000 : 100,000 step学習済みのモデル"
   ]
  },
  {
   "cell_type": "code",
   "execution_count": null,
   "metadata": {
    "colab": {
     "base_uri": "https://localhost:8080/"
    },
    "executionInfo": {
     "elapsed": 473,
     "status": "ok",
     "timestamp": 1638276595257,
     "user": {
      "displayName": "hanamiche",
      "photoUrl": "",
      "userId": ""
     },
     "user_tz": -540
    },
    "id": "w1-yohICNE-4",
    "outputId": "33ec57db-ae7d-4978-a6f9-c9ef1d133378"
   },
   "outputs": [],
   "source": [
    "load_model_name = \"model100000\"\n",
    "print(\"モデル取得場所: {0}{1}\".format(model_path,load_model_name))"
   ]
  },
  {
   "cell_type": "markdown",
   "metadata": {
    "id": "_ScveHGdfi-K"
   },
   "source": [
    "### モデルの読み込み"
   ]
  },
  {
   "cell_type": "code",
   "execution_count": null,
   "metadata": {
    "executionInfo": {
     "elapsed": 4074,
     "status": "ok",
     "timestamp": 1638276697868,
     "user": {
      "displayName": "hanamiche",
      "photoUrl": "",
      "userId": ""
     },
     "user_tz": -540
    },
    "id": "9gup6j6NMSBH"
   },
   "outputs": [],
   "source": [
    "model=load_model(model_path + load_model_name)"
   ]
  },
  {
   "cell_type": "markdown",
   "metadata": {
    "id": "BJHMuii9fnhC"
   },
   "source": [
    "### 読み込んだモデルでテスト"
   ]
  },
  {
   "cell_type": "code",
   "execution_count": null,
   "metadata": {
    "colab": {
     "base_uri": "https://localhost:8080/"
    },
    "executionInfo": {
     "elapsed": 11304,
     "status": "ok",
     "timestamp": 1638276713880,
     "user": {
      "displayName": "hanamiche",
      "photoUrl": "",
      "userId": ""
     },
     "user_tz": -540
    },
    "id": "Lu_2rx52NbxF",
    "outputId": "5beacae9-664e-4add-df64-f0cdae60e117"
   },
   "outputs": [],
   "source": [
    "# テスト動画保存先\n",
    "env_test = gym.make(env_name)\n",
    "\n",
    "# エージェントの設定\n",
    "memory = SequentialMemory(limit=limit_steps, window_length=1)\n",
    "\n",
    "dqn = DQNAgent(model=model,\n",
    "               nb_actions=nb_actions,\n",
    "               memory=memory)\n",
    "\n",
    "dqn.compile(Adam(lr=1e-3), metrics=['mae'])\n",
    "\n",
    "# モデルをテスト\n",
    "dqn.test(env_test, nb_episodes=nb_episodes, visualize=False, callbacks=[cb_ep])"
   ]
  }
 ],
 "metadata": {
  "accelerator": "GPU",
  "colab": {
   "collapsed_sections": [],
   "name": "MountainCar-v0-fit.ipynb",
   "provenance": []
  },
  "kernelspec": {
   "display_name": "default:Python",
   "language": "python",
   "name": "conda-env-default-py"
  },
  "language_info": {
   "codemirror_mode": {
    "name": "ipython",
    "version": 3
   },
   "file_extension": ".py",
   "mimetype": "text/x-python",
   "name": "python",
   "nbconvert_exporter": "python",
   "pygments_lexer": "ipython3",
   "version": "3.9.7"
  }
 },
 "nbformat": 4,
 "nbformat_minor": 4
}
